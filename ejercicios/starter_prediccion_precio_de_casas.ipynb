{
  "nbformat": 4,
  "nbformat_minor": 0,
  "metadata": {
    "kernelspec": {
      "display_name": "Python 3",
      "language": "python",
      "name": "python3"
    },
    "language_info": {
      "codemirror_mode": {
        "name": "ipython",
        "version": 3
      },
      "file_extension": ".py",
      "mimetype": "text/x-python",
      "name": "python",
      "nbconvert_exporter": "python",
      "pygments_lexer": "ipython3",
      "version": "3.8.2"
    },
    "colab": {
      "name": "starter_prediccion_precio_de_casas.ipynb",
      "provenance": [],
      "collapsed_sections": [
        "JmOJ8w-U41pH",
        "y3_5A0x941pI",
        "jXNPDx5941pO",
        "oHX19BlN41pW",
        "hwjoFZwN41qn",
        "RYGHdMGw41rH",
        "-w4XtelV41ri",
        "2fJFMZm841ru"
      ]
    }
  },
  "cells": [
    {
      "cell_type": "markdown",
      "metadata": {
        "id": "YgXzXxbG41mD",
        "colab_type": "text"
      },
      "source": [
        "# Prediccion de precio de casas\n",
        "\n",
        "![](https://storage.googleapis.com/kaggle-datasets-images/128/270/d149695d1f9a97ec54cf673be6430ad7/dataset-original.jpg)\n",
        "\n",
        "*Objetivo: predecir precio de casas en King County en el estado de Washington (data de [Kaggle](https://www.kaggle.com/harlfoxem/housesalesprediction)).*\n",
        "\n",
        "\n",
        "Pensemos primero en un modelo lineal simple utilizando solamente los metros cuadrados:\n",
        "$$ \\log(price) = \\beta_{0} + \\beta_{1}m2 + \\varepsilon $$\n",
        "\n",
        "Interpretabilidad: la ordenada al origen es el precio inicial de una casa y la pendiente cuanto crece este por metro cuadrado.\n",
        "\n",
        "En la misma línea: **¿por qué en logaritmos?** -> *Power Law/Fat Tails*\n",
        "\n",
        "Para medir la bondad de ajuste usamos el error cuadrático medio (ECM):\n",
        "$$ ECM = \\frac{1}{N} \\sum_{i=1}^{N}(y_{i} - \\hat{f}(x_{i}))^{2} =\n",
        "          \\sum_{i=1}^{N}(\\log(price_{i}) - \\beta_{0} + \\beta_{1}m2_{i})^{2} $$\n",
        "\n"
      ]
    },
    {
      "cell_type": "markdown",
      "metadata": {
        "id": "0DryBXoF41mF",
        "colab_type": "text"
      },
      "source": [
        "## Modelo Lineal Univariado"
      ]
    },
    {
      "cell_type": "code",
      "metadata": {
        "id": "15_g8DzQ41mG",
        "colab_type": "code",
        "colab": {}
      },
      "source": [
        "import numpy as np\n",
        "import pandas as pd\n",
        "import matplotlib.pyplot as plt\n",
        "\n",
        "from sklearn import linear_model"
      ],
      "execution_count": 0,
      "outputs": []
    },
    {
      "cell_type": "markdown",
      "metadata": {
        "id": "gH7JRN9441mN",
        "colab_type": "text"
      },
      "source": [
        "### SIN DATOS NO HAY PARAISO\n",
        "![](https://raw.githubusercontent.com/petobens/introduccion-ml-aplicado/master/figures/ml-claro-1/whatido.jpg)\n"
      ]
    },
    {
      "cell_type": "markdown",
      "metadata": {
        "id": "AzBN-6rUKKti",
        "colab_type": "text"
      },
      "source": [
        "#### Obteniendo el dataset de Kaggle"
      ]
    },
    {
      "cell_type": "code",
      "metadata": {
        "id": "uvy01K2AKI1B",
        "colab_type": "code",
        "outputId": "fe02f884-0276-4fe6-d27d-8ce7717ab772",
        "colab": {
          "resources": {
            "http://localhost:8080/nbextensions/google.colab/files.js": {
              "data": "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",
              "ok": true,
              "headers": [
                [
                  "content-type",
                  "application/javascript"
                ]
              ],
              "status": 200,
              "status_text": ""
            }
          },
          "base_uri": "https://localhost:8080/",
          "height": 91
        }
      },
      "source": [
        "from google.colab import files\n",
        "files.upload()"
      ],
      "execution_count": 0,
      "outputs": [
        {
          "output_type": "display_data",
          "data": {
            "text/html": [
              "\n",
              "     <input type=\"file\" id=\"files-5aa2fa0d-d383-49e8-8410-fd21509a71c8\" name=\"files[]\" multiple disabled />\n",
              "     <output id=\"result-5aa2fa0d-d383-49e8-8410-fd21509a71c8\">\n",
              "      Upload widget is only available when the cell has been executed in the\n",
              "      current browser session. Please rerun this cell to enable.\n",
              "      </output>\n",
              "      <script src=\"/nbextensions/google.colab/files.js\"></script> "
            ],
            "text/plain": [
              "<IPython.core.display.HTML object>"
            ]
          },
          "metadata": {
            "tags": []
          }
        },
        {
          "output_type": "stream",
          "text": [
            "Saving kaggle.json to kaggle.json\n"
          ],
          "name": "stdout"
        },
        {
          "output_type": "execute_result",
          "data": {
            "text/plain": [
              "{'kaggle.json': b'{\"username\":\"juanpampliega\",\"key\":\"b1326920d87a3eafebaa62d19e301f53\"}'}"
            ]
          },
          "metadata": {
            "tags": []
          },
          "execution_count": 1
        }
      ]
    },
    {
      "cell_type": "code",
      "metadata": {
        "id": "FNIpIs9vKSSx",
        "colab_type": "code",
        "outputId": "5846fdc6-4a02-437f-d6dc-6121873ff208",
        "colab": {
          "base_uri": "https://localhost:8080/",
          "height": 34
        }
      },
      "source": [
        "!pip install -q kaggle\n",
        "!mkdir -p ~/.kaggle\n",
        "!cp kaggle.json ~/.kaggle/\n",
        "!ls ~/.kaggle\n",
        "!chmod 600 /root/.kaggle/kaggle.json"
      ],
      "execution_count": 0,
      "outputs": [
        {
          "output_type": "stream",
          "text": [
            "kaggle.json\n"
          ],
          "name": "stdout"
        }
      ]
    },
    {
      "cell_type": "code",
      "metadata": {
        "id": "QORrLWKXKa2x",
        "colab_type": "code",
        "outputId": "ba538c26-0e03-4689-9585-450c7dcf8051",
        "colab": {
          "base_uri": "https://localhost:8080/",
          "height": 68
        }
      },
      "source": [
        "!kaggle datasets download -d harlfoxem/housesalesprediction"
      ],
      "execution_count": 0,
      "outputs": [
        {
          "output_type": "stream",
          "text": [
            "Downloading housesalesprediction.zip to /content\n",
            "\r  0% 0.00/780k [00:00<?, ?B/s]\n",
            "\r100% 780k/780k [00:00<00:00, 53.5MB/s]\n"
          ],
          "name": "stdout"
        }
      ]
    },
    {
      "cell_type": "markdown",
      "metadata": {
        "id": "JzWOk_kLKNyq",
        "colab_type": "text"
      },
      "source": [
        "#### Cargar el dataset con Pandas"
      ]
    },
    {
      "cell_type": "code",
      "metadata": {
        "id": "QmJBg24S41mP",
        "colab_type": "code",
        "colab": {}
      },
      "source": [
        "def extract_housing_prices_data():\n",
        "    #url_csv = 'https://storage.googleapis.com/qeds/data/kc_house_data.csv'\n",
        "    df = pd.read_csv('housesalesprediction.zip')\n",
        "    return df"
      ],
      "execution_count": 0,
      "outputs": []
    },
    {
      "cell_type": "code",
      "metadata": {
        "id": "5DF8ccMd41mV",
        "colab_type": "code",
        "colab": {}
      },
      "source": [
        "df = extract_housing_prices_data()"
      ],
      "execution_count": 0,
      "outputs": []
    },
    {
      "cell_type": "code",
      "metadata": {
        "id": "JSYuKYA341mb",
        "colab_type": "code",
        "outputId": "7a707fd3-77d3-4cb0-ca55-0e5b83fb5981",
        "colab": {
          "base_uri": "https://localhost:8080/",
          "height": 439
        }
      },
      "source": [
        "df"
      ],
      "execution_count": 0,
      "outputs": [
        {
          "output_type": "execute_result",
          "data": {
            "text/html": [
              "<div>\n",
              "<style scoped>\n",
              "    .dataframe tbody tr th:only-of-type {\n",
              "        vertical-align: middle;\n",
              "    }\n",
              "\n",
              "    .dataframe tbody tr th {\n",
              "        vertical-align: top;\n",
              "    }\n",
              "\n",
              "    .dataframe thead th {\n",
              "        text-align: right;\n",
              "    }\n",
              "</style>\n",
              "<table border=\"1\" class=\"dataframe\">\n",
              "  <thead>\n",
              "    <tr style=\"text-align: right;\">\n",
              "      <th></th>\n",
              "      <th>id</th>\n",
              "      <th>date</th>\n",
              "      <th>price</th>\n",
              "      <th>bedrooms</th>\n",
              "      <th>bathrooms</th>\n",
              "      <th>sqft_living</th>\n",
              "      <th>sqft_lot</th>\n",
              "      <th>floors</th>\n",
              "      <th>waterfront</th>\n",
              "      <th>view</th>\n",
              "      <th>condition</th>\n",
              "      <th>grade</th>\n",
              "      <th>sqft_above</th>\n",
              "      <th>sqft_basement</th>\n",
              "      <th>yr_built</th>\n",
              "      <th>yr_renovated</th>\n",
              "      <th>zipcode</th>\n",
              "      <th>lat</th>\n",
              "      <th>long</th>\n",
              "      <th>sqft_living15</th>\n",
              "      <th>sqft_lot15</th>\n",
              "    </tr>\n",
              "  </thead>\n",
              "  <tbody>\n",
              "    <tr>\n",
              "      <th>0</th>\n",
              "      <td>7129300520</td>\n",
              "      <td>20141013T000000</td>\n",
              "      <td>221900.0</td>\n",
              "      <td>3</td>\n",
              "      <td>1.00</td>\n",
              "      <td>1180</td>\n",
              "      <td>5650</td>\n",
              "      <td>1.0</td>\n",
              "      <td>0</td>\n",
              "      <td>0</td>\n",
              "      <td>3</td>\n",
              "      <td>7</td>\n",
              "      <td>1180</td>\n",
              "      <td>0</td>\n",
              "      <td>1955</td>\n",
              "      <td>0</td>\n",
              "      <td>98178</td>\n",
              "      <td>47.5112</td>\n",
              "      <td>-122.257</td>\n",
              "      <td>1340</td>\n",
              "      <td>5650</td>\n",
              "    </tr>\n",
              "    <tr>\n",
              "      <th>1</th>\n",
              "      <td>6414100192</td>\n",
              "      <td>20141209T000000</td>\n",
              "      <td>538000.0</td>\n",
              "      <td>3</td>\n",
              "      <td>2.25</td>\n",
              "      <td>2570</td>\n",
              "      <td>7242</td>\n",
              "      <td>2.0</td>\n",
              "      <td>0</td>\n",
              "      <td>0</td>\n",
              "      <td>3</td>\n",
              "      <td>7</td>\n",
              "      <td>2170</td>\n",
              "      <td>400</td>\n",
              "      <td>1951</td>\n",
              "      <td>1991</td>\n",
              "      <td>98125</td>\n",
              "      <td>47.7210</td>\n",
              "      <td>-122.319</td>\n",
              "      <td>1690</td>\n",
              "      <td>7639</td>\n",
              "    </tr>\n",
              "    <tr>\n",
              "      <th>2</th>\n",
              "      <td>5631500400</td>\n",
              "      <td>20150225T000000</td>\n",
              "      <td>180000.0</td>\n",
              "      <td>2</td>\n",
              "      <td>1.00</td>\n",
              "      <td>770</td>\n",
              "      <td>10000</td>\n",
              "      <td>1.0</td>\n",
              "      <td>0</td>\n",
              "      <td>0</td>\n",
              "      <td>3</td>\n",
              "      <td>6</td>\n",
              "      <td>770</td>\n",
              "      <td>0</td>\n",
              "      <td>1933</td>\n",
              "      <td>0</td>\n",
              "      <td>98028</td>\n",
              "      <td>47.7379</td>\n",
              "      <td>-122.233</td>\n",
              "      <td>2720</td>\n",
              "      <td>8062</td>\n",
              "    </tr>\n",
              "    <tr>\n",
              "      <th>3</th>\n",
              "      <td>2487200875</td>\n",
              "      <td>20141209T000000</td>\n",
              "      <td>604000.0</td>\n",
              "      <td>4</td>\n",
              "      <td>3.00</td>\n",
              "      <td>1960</td>\n",
              "      <td>5000</td>\n",
              "      <td>1.0</td>\n",
              "      <td>0</td>\n",
              "      <td>0</td>\n",
              "      <td>5</td>\n",
              "      <td>7</td>\n",
              "      <td>1050</td>\n",
              "      <td>910</td>\n",
              "      <td>1965</td>\n",
              "      <td>0</td>\n",
              "      <td>98136</td>\n",
              "      <td>47.5208</td>\n",
              "      <td>-122.393</td>\n",
              "      <td>1360</td>\n",
              "      <td>5000</td>\n",
              "    </tr>\n",
              "    <tr>\n",
              "      <th>4</th>\n",
              "      <td>1954400510</td>\n",
              "      <td>20150218T000000</td>\n",
              "      <td>510000.0</td>\n",
              "      <td>3</td>\n",
              "      <td>2.00</td>\n",
              "      <td>1680</td>\n",
              "      <td>8080</td>\n",
              "      <td>1.0</td>\n",
              "      <td>0</td>\n",
              "      <td>0</td>\n",
              "      <td>3</td>\n",
              "      <td>8</td>\n",
              "      <td>1680</td>\n",
              "      <td>0</td>\n",
              "      <td>1987</td>\n",
              "      <td>0</td>\n",
              "      <td>98074</td>\n",
              "      <td>47.6168</td>\n",
              "      <td>-122.045</td>\n",
              "      <td>1800</td>\n",
              "      <td>7503</td>\n",
              "    </tr>\n",
              "    <tr>\n",
              "      <th>...</th>\n",
              "      <td>...</td>\n",
              "      <td>...</td>\n",
              "      <td>...</td>\n",
              "      <td>...</td>\n",
              "      <td>...</td>\n",
              "      <td>...</td>\n",
              "      <td>...</td>\n",
              "      <td>...</td>\n",
              "      <td>...</td>\n",
              "      <td>...</td>\n",
              "      <td>...</td>\n",
              "      <td>...</td>\n",
              "      <td>...</td>\n",
              "      <td>...</td>\n",
              "      <td>...</td>\n",
              "      <td>...</td>\n",
              "      <td>...</td>\n",
              "      <td>...</td>\n",
              "      <td>...</td>\n",
              "      <td>...</td>\n",
              "      <td>...</td>\n",
              "    </tr>\n",
              "    <tr>\n",
              "      <th>21608</th>\n",
              "      <td>263000018</td>\n",
              "      <td>20140521T000000</td>\n",
              "      <td>360000.0</td>\n",
              "      <td>3</td>\n",
              "      <td>2.50</td>\n",
              "      <td>1530</td>\n",
              "      <td>1131</td>\n",
              "      <td>3.0</td>\n",
              "      <td>0</td>\n",
              "      <td>0</td>\n",
              "      <td>3</td>\n",
              "      <td>8</td>\n",
              "      <td>1530</td>\n",
              "      <td>0</td>\n",
              "      <td>2009</td>\n",
              "      <td>0</td>\n",
              "      <td>98103</td>\n",
              "      <td>47.6993</td>\n",
              "      <td>-122.346</td>\n",
              "      <td>1530</td>\n",
              "      <td>1509</td>\n",
              "    </tr>\n",
              "    <tr>\n",
              "      <th>21609</th>\n",
              "      <td>6600060120</td>\n",
              "      <td>20150223T000000</td>\n",
              "      <td>400000.0</td>\n",
              "      <td>4</td>\n",
              "      <td>2.50</td>\n",
              "      <td>2310</td>\n",
              "      <td>5813</td>\n",
              "      <td>2.0</td>\n",
              "      <td>0</td>\n",
              "      <td>0</td>\n",
              "      <td>3</td>\n",
              "      <td>8</td>\n",
              "      <td>2310</td>\n",
              "      <td>0</td>\n",
              "      <td>2014</td>\n",
              "      <td>0</td>\n",
              "      <td>98146</td>\n",
              "      <td>47.5107</td>\n",
              "      <td>-122.362</td>\n",
              "      <td>1830</td>\n",
              "      <td>7200</td>\n",
              "    </tr>\n",
              "    <tr>\n",
              "      <th>21610</th>\n",
              "      <td>1523300141</td>\n",
              "      <td>20140623T000000</td>\n",
              "      <td>402101.0</td>\n",
              "      <td>2</td>\n",
              "      <td>0.75</td>\n",
              "      <td>1020</td>\n",
              "      <td>1350</td>\n",
              "      <td>2.0</td>\n",
              "      <td>0</td>\n",
              "      <td>0</td>\n",
              "      <td>3</td>\n",
              "      <td>7</td>\n",
              "      <td>1020</td>\n",
              "      <td>0</td>\n",
              "      <td>2009</td>\n",
              "      <td>0</td>\n",
              "      <td>98144</td>\n",
              "      <td>47.5944</td>\n",
              "      <td>-122.299</td>\n",
              "      <td>1020</td>\n",
              "      <td>2007</td>\n",
              "    </tr>\n",
              "    <tr>\n",
              "      <th>21611</th>\n",
              "      <td>291310100</td>\n",
              "      <td>20150116T000000</td>\n",
              "      <td>400000.0</td>\n",
              "      <td>3</td>\n",
              "      <td>2.50</td>\n",
              "      <td>1600</td>\n",
              "      <td>2388</td>\n",
              "      <td>2.0</td>\n",
              "      <td>0</td>\n",
              "      <td>0</td>\n",
              "      <td>3</td>\n",
              "      <td>8</td>\n",
              "      <td>1600</td>\n",
              "      <td>0</td>\n",
              "      <td>2004</td>\n",
              "      <td>0</td>\n",
              "      <td>98027</td>\n",
              "      <td>47.5345</td>\n",
              "      <td>-122.069</td>\n",
              "      <td>1410</td>\n",
              "      <td>1287</td>\n",
              "    </tr>\n",
              "    <tr>\n",
              "      <th>21612</th>\n",
              "      <td>1523300157</td>\n",
              "      <td>20141015T000000</td>\n",
              "      <td>325000.0</td>\n",
              "      <td>2</td>\n",
              "      <td>0.75</td>\n",
              "      <td>1020</td>\n",
              "      <td>1076</td>\n",
              "      <td>2.0</td>\n",
              "      <td>0</td>\n",
              "      <td>0</td>\n",
              "      <td>3</td>\n",
              "      <td>7</td>\n",
              "      <td>1020</td>\n",
              "      <td>0</td>\n",
              "      <td>2008</td>\n",
              "      <td>0</td>\n",
              "      <td>98144</td>\n",
              "      <td>47.5941</td>\n",
              "      <td>-122.299</td>\n",
              "      <td>1020</td>\n",
              "      <td>1357</td>\n",
              "    </tr>\n",
              "  </tbody>\n",
              "</table>\n",
              "<p>21613 rows × 21 columns</p>\n",
              "</div>"
            ],
            "text/plain": [
              "               id             date  ...  sqft_living15  sqft_lot15\n",
              "0      7129300520  20141013T000000  ...           1340        5650\n",
              "1      6414100192  20141209T000000  ...           1690        7639\n",
              "2      5631500400  20150225T000000  ...           2720        8062\n",
              "3      2487200875  20141209T000000  ...           1360        5000\n",
              "4      1954400510  20150218T000000  ...           1800        7503\n",
              "...           ...              ...  ...            ...         ...\n",
              "21608   263000018  20140521T000000  ...           1530        1509\n",
              "21609  6600060120  20150223T000000  ...           1830        7200\n",
              "21610  1523300141  20140623T000000  ...           1020        2007\n",
              "21611   291310100  20150116T000000  ...           1410        1287\n",
              "21612  1523300157  20141015T000000  ...           1020        1357\n",
              "\n",
              "[21613 rows x 21 columns]"
            ]
          },
          "metadata": {
            "tags": []
          },
          "execution_count": 8
        }
      ]
    },
    {
      "cell_type": "code",
      "metadata": {
        "id": "Qsetb9SM41mj",
        "colab_type": "code",
        "outputId": "c15eba08-6822-46cf-a890-c85bb664cb38",
        "colab": {
          "base_uri": "https://localhost:8080/",
          "height": 379
        }
      },
      "source": [
        "df.sample(10)"
      ],
      "execution_count": 0,
      "outputs": [
        {
          "output_type": "execute_result",
          "data": {
            "text/html": [
              "<div>\n",
              "<style scoped>\n",
              "    .dataframe tbody tr th:only-of-type {\n",
              "        vertical-align: middle;\n",
              "    }\n",
              "\n",
              "    .dataframe tbody tr th {\n",
              "        vertical-align: top;\n",
              "    }\n",
              "\n",
              "    .dataframe thead th {\n",
              "        text-align: right;\n",
              "    }\n",
              "</style>\n",
              "<table border=\"1\" class=\"dataframe\">\n",
              "  <thead>\n",
              "    <tr style=\"text-align: right;\">\n",
              "      <th></th>\n",
              "      <th>id</th>\n",
              "      <th>date</th>\n",
              "      <th>price</th>\n",
              "      <th>bedrooms</th>\n",
              "      <th>bathrooms</th>\n",
              "      <th>sqft_living</th>\n",
              "      <th>sqft_lot</th>\n",
              "      <th>floors</th>\n",
              "      <th>waterfront</th>\n",
              "      <th>view</th>\n",
              "      <th>condition</th>\n",
              "      <th>grade</th>\n",
              "      <th>sqft_above</th>\n",
              "      <th>sqft_basement</th>\n",
              "      <th>yr_built</th>\n",
              "      <th>yr_renovated</th>\n",
              "      <th>zipcode</th>\n",
              "      <th>lat</th>\n",
              "      <th>long</th>\n",
              "      <th>sqft_living15</th>\n",
              "      <th>sqft_lot15</th>\n",
              "    </tr>\n",
              "  </thead>\n",
              "  <tbody>\n",
              "    <tr>\n",
              "      <th>10222</th>\n",
              "      <td>3293700496</td>\n",
              "      <td>20141204T000000</td>\n",
              "      <td>450000.0</td>\n",
              "      <td>4</td>\n",
              "      <td>1.75</td>\n",
              "      <td>1850</td>\n",
              "      <td>7730</td>\n",
              "      <td>1.0</td>\n",
              "      <td>0</td>\n",
              "      <td>0</td>\n",
              "      <td>5</td>\n",
              "      <td>7</td>\n",
              "      <td>1100</td>\n",
              "      <td>750</td>\n",
              "      <td>1956</td>\n",
              "      <td>0</td>\n",
              "      <td>98133</td>\n",
              "      <td>47.7481</td>\n",
              "      <td>-122.355</td>\n",
              "      <td>2260</td>\n",
              "      <td>8581</td>\n",
              "    </tr>\n",
              "    <tr>\n",
              "      <th>14387</th>\n",
              "      <td>1796000120</td>\n",
              "      <td>20141023T000000</td>\n",
              "      <td>510000.0</td>\n",
              "      <td>4</td>\n",
              "      <td>2.00</td>\n",
              "      <td>2990</td>\n",
              "      <td>102366</td>\n",
              "      <td>1.0</td>\n",
              "      <td>0</td>\n",
              "      <td>0</td>\n",
              "      <td>4</td>\n",
              "      <td>8</td>\n",
              "      <td>2990</td>\n",
              "      <td>0</td>\n",
              "      <td>1974</td>\n",
              "      <td>0</td>\n",
              "      <td>98092</td>\n",
              "      <td>47.3068</td>\n",
              "      <td>-122.088</td>\n",
              "      <td>2820</td>\n",
              "      <td>57140</td>\n",
              "    </tr>\n",
              "    <tr>\n",
              "      <th>15232</th>\n",
              "      <td>1926049398</td>\n",
              "      <td>20141013T000000</td>\n",
              "      <td>359000.0</td>\n",
              "      <td>3</td>\n",
              "      <td>2.25</td>\n",
              "      <td>1650</td>\n",
              "      <td>7218</td>\n",
              "      <td>1.0</td>\n",
              "      <td>0</td>\n",
              "      <td>0</td>\n",
              "      <td>3</td>\n",
              "      <td>7</td>\n",
              "      <td>1230</td>\n",
              "      <td>420</td>\n",
              "      <td>1985</td>\n",
              "      <td>0</td>\n",
              "      <td>98133</td>\n",
              "      <td>47.7237</td>\n",
              "      <td>-122.335</td>\n",
              "      <td>1690</td>\n",
              "      <td>7459</td>\n",
              "    </tr>\n",
              "    <tr>\n",
              "      <th>18300</th>\n",
              "      <td>2125049133</td>\n",
              "      <td>20141104T000000</td>\n",
              "      <td>715000.0</td>\n",
              "      <td>5</td>\n",
              "      <td>1.75</td>\n",
              "      <td>1920</td>\n",
              "      <td>6500</td>\n",
              "      <td>1.0</td>\n",
              "      <td>0</td>\n",
              "      <td>0</td>\n",
              "      <td>3</td>\n",
              "      <td>7</td>\n",
              "      <td>1260</td>\n",
              "      <td>660</td>\n",
              "      <td>1951</td>\n",
              "      <td>0</td>\n",
              "      <td>98112</td>\n",
              "      <td>47.6394</td>\n",
              "      <td>-122.308</td>\n",
              "      <td>1970</td>\n",
              "      <td>5500</td>\n",
              "    </tr>\n",
              "    <tr>\n",
              "      <th>7040</th>\n",
              "      <td>3395800660</td>\n",
              "      <td>20141230T000000</td>\n",
              "      <td>190000.0</td>\n",
              "      <td>3</td>\n",
              "      <td>1.00</td>\n",
              "      <td>1640</td>\n",
              "      <td>8100</td>\n",
              "      <td>1.0</td>\n",
              "      <td>0</td>\n",
              "      <td>0</td>\n",
              "      <td>3</td>\n",
              "      <td>6</td>\n",
              "      <td>1040</td>\n",
              "      <td>600</td>\n",
              "      <td>1939</td>\n",
              "      <td>0</td>\n",
              "      <td>98146</td>\n",
              "      <td>47.4820</td>\n",
              "      <td>-122.340</td>\n",
              "      <td>1600</td>\n",
              "      <td>8100</td>\n",
              "    </tr>\n",
              "    <tr>\n",
              "      <th>8378</th>\n",
              "      <td>2426059097</td>\n",
              "      <td>20150305T000000</td>\n",
              "      <td>910000.0</td>\n",
              "      <td>4</td>\n",
              "      <td>2.50</td>\n",
              "      <td>3530</td>\n",
              "      <td>49222</td>\n",
              "      <td>2.0</td>\n",
              "      <td>0</td>\n",
              "      <td>0</td>\n",
              "      <td>4</td>\n",
              "      <td>9</td>\n",
              "      <td>3530</td>\n",
              "      <td>0</td>\n",
              "      <td>1986</td>\n",
              "      <td>0</td>\n",
              "      <td>98072</td>\n",
              "      <td>47.7285</td>\n",
              "      <td>-122.112</td>\n",
              "      <td>3750</td>\n",
              "      <td>49222</td>\n",
              "    </tr>\n",
              "    <tr>\n",
              "      <th>18301</th>\n",
              "      <td>7940710100</td>\n",
              "      <td>20140911T000000</td>\n",
              "      <td>559000.0</td>\n",
              "      <td>3</td>\n",
              "      <td>2.50</td>\n",
              "      <td>2010</td>\n",
              "      <td>5200</td>\n",
              "      <td>2.0</td>\n",
              "      <td>0</td>\n",
              "      <td>0</td>\n",
              "      <td>3</td>\n",
              "      <td>8</td>\n",
              "      <td>2010</td>\n",
              "      <td>0</td>\n",
              "      <td>1989</td>\n",
              "      <td>0</td>\n",
              "      <td>98034</td>\n",
              "      <td>47.7142</td>\n",
              "      <td>-122.203</td>\n",
              "      <td>1860</td>\n",
              "      <td>4400</td>\n",
              "    </tr>\n",
              "    <tr>\n",
              "      <th>19135</th>\n",
              "      <td>538000450</td>\n",
              "      <td>20140603T000000</td>\n",
              "      <td>315000.0</td>\n",
              "      <td>5</td>\n",
              "      <td>2.50</td>\n",
              "      <td>2090</td>\n",
              "      <td>4698</td>\n",
              "      <td>2.0</td>\n",
              "      <td>0</td>\n",
              "      <td>0</td>\n",
              "      <td>3</td>\n",
              "      <td>7</td>\n",
              "      <td>2090</td>\n",
              "      <td>0</td>\n",
              "      <td>1998</td>\n",
              "      <td>0</td>\n",
              "      <td>98038</td>\n",
              "      <td>47.3538</td>\n",
              "      <td>-122.025</td>\n",
              "      <td>2070</td>\n",
              "      <td>4698</td>\n",
              "    </tr>\n",
              "    <tr>\n",
              "      <th>18909</th>\n",
              "      <td>9499200220</td>\n",
              "      <td>20140611T000000</td>\n",
              "      <td>234000.0</td>\n",
              "      <td>3</td>\n",
              "      <td>2.00</td>\n",
              "      <td>1640</td>\n",
              "      <td>5280</td>\n",
              "      <td>1.5</td>\n",
              "      <td>0</td>\n",
              "      <td>0</td>\n",
              "      <td>5</td>\n",
              "      <td>6</td>\n",
              "      <td>1640</td>\n",
              "      <td>0</td>\n",
              "      <td>1910</td>\n",
              "      <td>0</td>\n",
              "      <td>98002</td>\n",
              "      <td>47.3089</td>\n",
              "      <td>-122.213</td>\n",
              "      <td>1160</td>\n",
              "      <td>7875</td>\n",
              "    </tr>\n",
              "    <tr>\n",
              "      <th>13181</th>\n",
              "      <td>4027700021</td>\n",
              "      <td>20150311T000000</td>\n",
              "      <td>680000.0</td>\n",
              "      <td>5</td>\n",
              "      <td>3.25</td>\n",
              "      <td>2440</td>\n",
              "      <td>15815</td>\n",
              "      <td>2.0</td>\n",
              "      <td>0</td>\n",
              "      <td>0</td>\n",
              "      <td>3</td>\n",
              "      <td>8</td>\n",
              "      <td>1990</td>\n",
              "      <td>450</td>\n",
              "      <td>2014</td>\n",
              "      <td>0</td>\n",
              "      <td>98155</td>\n",
              "      <td>47.7740</td>\n",
              "      <td>-122.280</td>\n",
              "      <td>2500</td>\n",
              "      <td>14201</td>\n",
              "    </tr>\n",
              "  </tbody>\n",
              "</table>\n",
              "</div>"
            ],
            "text/plain": [
              "               id             date  ...  sqft_living15  sqft_lot15\n",
              "10222  3293700496  20141204T000000  ...           2260        8581\n",
              "14387  1796000120  20141023T000000  ...           2820       57140\n",
              "15232  1926049398  20141013T000000  ...           1690        7459\n",
              "18300  2125049133  20141104T000000  ...           1970        5500\n",
              "7040   3395800660  20141230T000000  ...           1600        8100\n",
              "8378   2426059097  20150305T000000  ...           3750       49222\n",
              "18301  7940710100  20140911T000000  ...           1860        4400\n",
              "19135   538000450  20140603T000000  ...           2070        4698\n",
              "18909  9499200220  20140611T000000  ...           1160        7875\n",
              "13181  4027700021  20150311T000000  ...           2500       14201\n",
              "\n",
              "[10 rows x 21 columns]"
            ]
          },
          "metadata": {
            "tags": []
          },
          "execution_count": 9
        }
      ]
    },
    {
      "cell_type": "code",
      "metadata": {
        "id": "hGqgscYp41mp",
        "colab_type": "code",
        "outputId": "ceb5dbef-b998-4c2b-ebd6-12213c549212",
        "colab": {
          "base_uri": "https://localhost:8080/",
          "height": 493
        }
      },
      "source": [
        "df.info()"
      ],
      "execution_count": 0,
      "outputs": [
        {
          "output_type": "stream",
          "text": [
            "<class 'pandas.core.frame.DataFrame'>\n",
            "RangeIndex: 21613 entries, 0 to 21612\n",
            "Data columns (total 21 columns):\n",
            " #   Column         Non-Null Count  Dtype  \n",
            "---  ------         --------------  -----  \n",
            " 0   id             21613 non-null  int64  \n",
            " 1   date           21613 non-null  object \n",
            " 2   price          21613 non-null  float64\n",
            " 3   bedrooms       21613 non-null  int64  \n",
            " 4   bathrooms      21613 non-null  float64\n",
            " 5   sqft_living    21613 non-null  int64  \n",
            " 6   sqft_lot       21613 non-null  int64  \n",
            " 7   floors         21613 non-null  float64\n",
            " 8   waterfront     21613 non-null  int64  \n",
            " 9   view           21613 non-null  int64  \n",
            " 10  condition      21613 non-null  int64  \n",
            " 11  grade          21613 non-null  int64  \n",
            " 12  sqft_above     21613 non-null  int64  \n",
            " 13  sqft_basement  21613 non-null  int64  \n",
            " 14  yr_built       21613 non-null  int64  \n",
            " 15  yr_renovated   21613 non-null  int64  \n",
            " 16  zipcode        21613 non-null  int64  \n",
            " 17  lat            21613 non-null  float64\n",
            " 18  long           21613 non-null  float64\n",
            " 19  sqft_living15  21613 non-null  int64  \n",
            " 20  sqft_lot15     21613 non-null  int64  \n",
            "dtypes: float64(5), int64(15), object(1)\n",
            "memory usage: 3.5+ MB\n"
          ],
          "name": "stdout"
        }
      ]
    },
    {
      "cell_type": "markdown",
      "metadata": {
        "id": "BiFETJ9J41mx",
        "colab_type": "text"
      },
      "source": [
        "## Un poco de EDA"
      ]
    },
    {
      "cell_type": "markdown",
      "metadata": {
        "id": "Yvb3yFqS41mz",
        "colab_type": "text"
      },
      "source": [
        "### EDA y ETFL\n",
        "\n",
        "EDA: Exploratory Data Analysis/Análisis Estadístico Descriptivo\n",
        "\n",
        "**Data Mining**: en su acepción pura son técnicas para analizar los datos, encontrar patrones y generar insights.\n",
        "\n",
        "- **Visualizaciones:** univariadas (para un mismo feature), bi-variadas (entre features y target), multivariadas (entre distintos features)\n",
        "- **Técnicas de estadística clásica:** correlaciones, test de hipótesis, ANOVA.\n",
        "- **Reducción de dimensionalidad:** PCA, SVD\n",
        "- **Clustering**\n",
        "\n",
        "**Objetivos:**\n",
        "- Comprender el dataset.\n",
        "- Definir y refinar la selección e ingeniería de atributos que alimentan los modelos.\n",
        "\n",
        "\n",
        "¿Qué involucra hacer data science en la industria?\n",
        "**E**xtract **T**ransform **F**it **L**oad\n",
        "\n",
        "Distribución de tiempos: **E 30\\% | T 50\\% | F 10\\% | L 10\\%**\n",
        "\n"
      ]
    },
    {
      "cell_type": "code",
      "metadata": {
        "id": "RX2T4HiY41m0",
        "colab_type": "code",
        "outputId": "ef23cd72-0bfe-4fb7-d981-58a8cbea4511",
        "colab": {
          "base_uri": "https://localhost:8080/",
          "height": 452
        }
      },
      "source": [
        "df['bedrooms'].value_counts().to_frame().reset_index().sort_values(by='index')"
      ],
      "execution_count": 0,
      "outputs": [
        {
          "output_type": "execute_result",
          "data": {
            "text/html": [
              "<div>\n",
              "<style scoped>\n",
              "    .dataframe tbody tr th:only-of-type {\n",
              "        vertical-align: middle;\n",
              "    }\n",
              "\n",
              "    .dataframe tbody tr th {\n",
              "        vertical-align: top;\n",
              "    }\n",
              "\n",
              "    .dataframe thead th {\n",
              "        text-align: right;\n",
              "    }\n",
              "</style>\n",
              "<table border=\"1\" class=\"dataframe\">\n",
              "  <thead>\n",
              "    <tr style=\"text-align: right;\">\n",
              "      <th></th>\n",
              "      <th>index</th>\n",
              "      <th>bedrooms</th>\n",
              "    </tr>\n",
              "  </thead>\n",
              "  <tbody>\n",
              "    <tr>\n",
              "      <th>8</th>\n",
              "      <td>0</td>\n",
              "      <td>13</td>\n",
              "    </tr>\n",
              "    <tr>\n",
              "      <th>5</th>\n",
              "      <td>1</td>\n",
              "      <td>199</td>\n",
              "    </tr>\n",
              "    <tr>\n",
              "      <th>2</th>\n",
              "      <td>2</td>\n",
              "      <td>2760</td>\n",
              "    </tr>\n",
              "    <tr>\n",
              "      <th>0</th>\n",
              "      <td>3</td>\n",
              "      <td>9824</td>\n",
              "    </tr>\n",
              "    <tr>\n",
              "      <th>1</th>\n",
              "      <td>4</td>\n",
              "      <td>6882</td>\n",
              "    </tr>\n",
              "    <tr>\n",
              "      <th>3</th>\n",
              "      <td>5</td>\n",
              "      <td>1601</td>\n",
              "    </tr>\n",
              "    <tr>\n",
              "      <th>4</th>\n",
              "      <td>6</td>\n",
              "      <td>272</td>\n",
              "    </tr>\n",
              "    <tr>\n",
              "      <th>6</th>\n",
              "      <td>7</td>\n",
              "      <td>38</td>\n",
              "    </tr>\n",
              "    <tr>\n",
              "      <th>7</th>\n",
              "      <td>8</td>\n",
              "      <td>13</td>\n",
              "    </tr>\n",
              "    <tr>\n",
              "      <th>9</th>\n",
              "      <td>9</td>\n",
              "      <td>6</td>\n",
              "    </tr>\n",
              "    <tr>\n",
              "      <th>10</th>\n",
              "      <td>10</td>\n",
              "      <td>3</td>\n",
              "    </tr>\n",
              "    <tr>\n",
              "      <th>11</th>\n",
              "      <td>11</td>\n",
              "      <td>1</td>\n",
              "    </tr>\n",
              "    <tr>\n",
              "      <th>12</th>\n",
              "      <td>33</td>\n",
              "      <td>1</td>\n",
              "    </tr>\n",
              "  </tbody>\n",
              "</table>\n",
              "</div>"
            ],
            "text/plain": [
              "    index  bedrooms\n",
              "8       0        13\n",
              "5       1       199\n",
              "2       2      2760\n",
              "0       3      9824\n",
              "1       4      6882\n",
              "3       5      1601\n",
              "4       6       272\n",
              "6       7        38\n",
              "7       8        13\n",
              "9       9         6\n",
              "10     10         3\n",
              "11     11         1\n",
              "12     33         1"
            ]
          },
          "metadata": {
            "tags": []
          },
          "execution_count": 11
        }
      ]
    },
    {
      "cell_type": "code",
      "metadata": {
        "id": "jpmk-4op41m8",
        "colab_type": "code",
        "outputId": "1e53ce8a-c18a-4a6e-d701-c180bee9d2ec",
        "colab": {
          "base_uri": "https://localhost:8080/",
          "height": 221
        }
      },
      "source": [
        "df['price'].value_counts()"
      ],
      "execution_count": 0,
      "outputs": [
        {
          "output_type": "execute_result",
          "data": {
            "text/plain": [
              "450000.0    172\n",
              "350000.0    172\n",
              "550000.0    159\n",
              "500000.0    152\n",
              "425000.0    150\n",
              "           ... \n",
              "641500.0      1\n",
              "575950.0      1\n",
              "674250.0      1\n",
              "608700.0      1\n",
              "884744.0      1\n",
              "Name: price, Length: 4028, dtype: int64"
            ]
          },
          "metadata": {
            "tags": []
          },
          "execution_count": 12
        }
      ]
    },
    {
      "cell_type": "code",
      "metadata": {
        "id": "6Ws_XjRB41nE",
        "colab_type": "code",
        "outputId": "cf6b04e1-ef6d-469f-e6d9-c211f3e7e0af",
        "colab": {
          "base_uri": "https://localhost:8080/",
          "height": 379
        }
      },
      "source": [
        "df1 = df[['bedrooms', 'bathrooms', 'price']]\n",
        "df1.hist(bins=25,xlabelsize='10',ylabelsize='10')"
      ],
      "execution_count": 0,
      "outputs": [
        {
          "output_type": "execute_result",
          "data": {
            "text/plain": [
              "array([[<matplotlib.axes._subplots.AxesSubplot object at 0x7f9d628444e0>,\n",
              "        <matplotlib.axes._subplots.AxesSubplot object at 0x7f9d627a3780>],\n",
              "       [<matplotlib.axes._subplots.AxesSubplot object at 0x7f9d627d1e48>,\n",
              "        <matplotlib.axes._subplots.AxesSubplot object at 0x7f9d627900f0>]],\n",
              "      dtype=object)"
            ]
          },
          "metadata": {
            "tags": []
          },
          "execution_count": 13
        },
        {
          "output_type": "display_data",
          "data": {
            "image/png": "[encoded data removed]",
            "text/plain": [
              "<Figure size 432x288 with 4 Axes>"
            ]
          },
          "metadata": {
            "tags": [],
            "needs_background": "light"
          }
        }
      ]
    },
    {
      "cell_type": "code",
      "metadata": {
        "id": "EuTbpW8K41nO",
        "colab_type": "code",
        "outputId": "3fd7ebe1-8ac8-43f3-c2b3-7fc8432987d8",
        "colab": {
          "base_uri": "https://localhost:8080/",
          "height": 460
        }
      },
      "source": [
        "df_corr = df.corr('pearson')\n",
        "df_corr.style.background_gradient(cmap='coolwarm', axis=None)"
      ],
      "execution_count": 0,
      "outputs": [
        {
          "output_type": "execute_result",
          "data": {
            "text/html": [
              "<style  type=\"text/css\" >\n",
              "    #T_f485abde_9655_11ea_968b_0242ac1c0002row0_col0 {\n",
              "            background-color:  #b40426;\n",
              "            color:  #f1f1f1;\n",
              "        }    #T_f485abde_9655_11ea_968b_0242ac1c0002row0_col1 {\n",
              "            background-color:  #afcafc;\n",
              "            color:  #000000;\n",
              "        }    #T_f485abde_9655_11ea_968b_0242ac1c0002row0_col2 {\n",
              "            background-color:  #b3cdfb;\n",
              "            color:  #000000;\n",
              "        }    #T_f485abde_9655_11ea_968b_0242ac1c0002row0_col3 {\n",
              "            background-color:  #b5cdfa;\n",
              "            color:  #000000;\n",
              "        }    #T_f485abde_9655_11ea_968b_0242ac1c0002row0_col4 {\n",
              "            background-color:  #b1cbfc;\n",
              "            color:  #000000;\n",
              "        }    #T_f485abde_9655_11ea_968b_0242ac1c0002row0_col5 {\n",
              "            background-color:  #96b7ff;\n",
              "            color:  #000000;\n",
              "        }    #T_f485abde_9655_11ea_968b_0242ac1c0002row0_col6 {\n",
              "            background-color:  #b7cff9;\n",
              "            color:  #000000;\n",
              "        }    #T_f485abde_9655_11ea_968b_0242ac1c0002row0_col7 {\n",
              "            background-color:  #b2ccfb;\n",
              "            color:  #000000;\n",
              "        }    #T_f485abde_9655_11ea_968b_0242ac1c0002row0_col8 {\n",
              "            background-color:  #b6cefa;\n",
              "            color:  #000000;\n",
              "        }    #T_f485abde_9655_11ea_968b_0242ac1c0002row0_col9 {\n",
              "            background-color:  #aec9fc;\n",
              "            color:  #000000;\n",
              "        }    #T_f485abde_9655_11ea_968b_0242ac1c0002row0_col10 {\n",
              "            background-color:  #b5cdfa;\n",
              "            color:  #000000;\n",
              "        }    #T_f485abde_9655_11ea_968b_0242ac1c0002row0_col11 {\n",
              "            background-color:  #b1cbfc;\n",
              "            color:  #000000;\n",
              "        }    #T_f485abde_9655_11ea_968b_0242ac1c0002row0_col12 {\n",
              "            background-color:  #b2ccfb;\n",
              "            color:  #000000;\n",
              "        }    #T_f485abde_9655_11ea_968b_0242ac1c0002row0_col13 {\n",
              "            background-color:  #b7cff9;\n",
              "            color:  #000000;\n",
              "        }    #T_f485abde_9655_11ea_968b_0242ac1c0002row0_col14 {\n",
              "            background-color:  #afcafc;\n",
              "            color:  #000000;\n",
              "        }    #T_f485abde_9655_11ea_968b_0242ac1c0002row0_col15 {\n",
              "            background-color:  #b1cbfc;\n",
              "            color:  #000000;\n",
              "        }    #T_f485abde_9655_11ea_968b_0242ac1c0002row0_col16 {\n",
              "            background-color:  #b3cdfb;\n",
              "            color:  #000000;\n",
              "        }    #T_f485abde_9655_11ea_968b_0242ac1c0002row0_col17 {\n",
              "            background-color:  #b7cff9;\n",
              "            color:  #000000;\n",
              "        }    #T_f485abde_9655_11ea_968b_0242ac1c0002row0_col18 {\n",
              "            background-color:  #b2ccfb;\n",
              "            color:  #000000;\n",
              "        }    #T_f485abde_9655_11ea_968b_0242ac1c0002row0_col19 {\n",
              "            background-color:  #94b6ff;\n",
              "            color:  #000000;\n",
              "        }    #T_f485abde_9655_11ea_968b_0242ac1c0002row1_col0 {\n",
              "            background-color:  #afcafc;\n",
              "            color:  #000000;\n",
              "        }    #T_f485abde_9655_11ea_968b_0242ac1c0002row1_col1 {\n",
              "            background-color:  #b40426;\n",
              "            color:  #f1f1f1;\n",
              "        }    #T_f485abde_9655_11ea_968b_0242ac1c0002row1_col2 {\n",
              "            background-color:  #ead4c8;\n",
              "            color:  #000000;\n",
              "        }    #T_f485abde_9655_11ea_968b_0242ac1c0002row1_col3 {\n",
              "            background-color:  #f7ad90;\n",
              "            color:  #000000;\n",
              "        }    #T_f485abde_9655_11ea_968b_0242ac1c0002row1_col4 {\n",
              "            background-color:  #ec7f63;\n",
              "            color:  #000000;\n",
              "        }    #T_f485abde_9655_11ea_968b_0242ac1c0002row1_col5 {\n",
              "            background-color:  #c5d6f2;\n",
              "            color:  #000000;\n",
              "        }    #T_f485abde_9655_11ea_968b_0242ac1c0002row1_col6 {\n",
              "            background-color:  #e3d9d3;\n",
              "            color:  #000000;\n",
              "        }    #T_f485abde_9655_11ea_968b_0242ac1c0002row1_col7 {\n",
              "            background-color:  #e4d9d2;\n",
              "            color:  #000000;\n",
              "        }    #T_f485abde_9655_11ea_968b_0242ac1c0002row1_col8 {\n",
              "            background-color:  #f3c7b1;\n",
              "            color:  #000000;\n",
              "        }    #T_f485abde_9655_11ea_968b_0242ac1c0002row1_col9 {\n",
              "            background-color:  #bbd1f8;\n",
              "            color:  #000000;\n",
              "        }    #T_f485abde_9655_11ea_968b_0242ac1c0002row1_col10 {\n",
              "            background-color:  #f08a6c;\n",
              "            color:  #000000;\n",
              "        }    #T_f485abde_9655_11ea_968b_0242ac1c0002row1_col11 {\n",
              "            background-color:  #f49a7b;\n",
              "            color:  #000000;\n",
              "        }    #T_f485abde_9655_11ea_968b_0242ac1c0002row1_col12 {\n",
              "            background-color:  #edd2c3;\n",
              "            color:  #000000;\n",
              "        }    #T_f485abde_9655_11ea_968b_0242ac1c0002row1_col13 {\n",
              "            background-color:  #bfd3f6;\n",
              "            color:  #000000;\n",
              "        }    #T_f485abde_9655_11ea_968b_0242ac1c0002row1_col14 {\n",
              "            background-color:  #cdd9ec;\n",
              "            color:  #000000;\n",
              "        }    #T_f485abde_9655_11ea_968b_0242ac1c0002row1_col15 {\n",
              "            background-color:  #a7c5fe;\n",
              "            color:  #000000;\n",
              "        }    #T_f485abde_9655_11ea_968b_0242ac1c0002row1_col16 {\n",
              "            background-color:  #ead4c8;\n",
              "            color:  #000000;\n",
              "        }    #T_f485abde_9655_11ea_968b_0242ac1c0002row1_col17 {\n",
              "            background-color:  #b7cff9;\n",
              "            color:  #000000;\n",
              "        }    #T_f485abde_9655_11ea_968b_0242ac1c0002row1_col18 {\n",
              "            background-color:  #f59f80;\n",
              "            color:  #000000;\n",
              "        }    #T_f485abde_9655_11ea_968b_0242ac1c0002row1_col19 {\n",
              "            background-color:  #c4d5f3;\n",
              "            color:  #000000;\n",
              "        }    #T_f485abde_9655_11ea_968b_0242ac1c0002row2_col0 {\n",
              "            background-color:  #b3cdfb;\n",
              "            color:  #000000;\n",
              "        }    #T_f485abde_9655_11ea_968b_0242ac1c0002row2_col1 {\n",
              "            background-color:  #ead4c8;\n",
              "            color:  #000000;\n",
              "        }    #T_f485abde_9655_11ea_968b_0242ac1c0002row2_col2 {\n",
              "            background-color:  #b40426;\n",
              "            color:  #f1f1f1;\n",
              "        }    #T_f485abde_9655_11ea_968b_0242ac1c0002row2_col3 {\n",
              "            background-color:  #f7b093;\n",
              "            color:  #000000;\n",
              "        }    #T_f485abde_9655_11ea_968b_0242ac1c0002row2_col4 {\n",
              "            background-color:  #f6a283;\n",
              "            color:  #000000;\n",
              "        }    #T_f485abde_9655_11ea_968b_0242ac1c0002row2_col5 {\n",
              "            background-color:  #bad0f8;\n",
              "            color:  #000000;\n",
              "        }    #T_f485abde_9655_11ea_968b_0242ac1c0002row2_col6 {\n",
              "            background-color:  #d6dce4;\n",
              "            color:  #000000;\n",
              "        }    #T_f485abde_9655_11ea_968b_0242ac1c0002row2_col7 {\n",
              "            background-color:  #b2ccfb;\n",
              "            color:  #000000;\n",
              "        }    #T_f485abde_9655_11ea_968b_0242ac1c0002row2_col8 {\n",
              "            background-color:  #c4d5f3;\n",
              "            color:  #000000;\n",
              "        }    #T_f485abde_9655_11ea_968b_0242ac1c0002row2_col9 {\n",
              "            background-color:  #b9d0f9;\n",
              "            color:  #000000;\n",
              "        }    #T_f485abde_9655_11ea_968b_0242ac1c0002row2_col10 {\n",
              "            background-color:  #f0cdbb;\n",
              "            color:  #000000;\n",
              "        }    #T_f485abde_9655_11ea_968b_0242ac1c0002row2_col11 {\n",
              "            background-color:  #f7b89c;\n",
              "            color:  #000000;\n",
              "        }    #T_f485abde_9655_11ea_968b_0242ac1c0002row2_col12 {\n",
              "            background-color:  #ead5c9;\n",
              "            color:  #000000;\n",
              "        }    #T_f485abde_9655_11ea_968b_0242ac1c0002row2_col13 {\n",
              "            background-color:  #d2dbe8;\n",
              "            color:  #000000;\n",
              "        }    #T_f485abde_9655_11ea_968b_0242ac1c0002row2_col14 {\n",
              "            background-color:  #b7cff9;\n",
              "            color:  #000000;\n",
              "        }    #T_f485abde_9655_11ea_968b_0242ac1c0002row2_col15 {\n",
              "            background-color:  #92b4fe;\n",
              "            color:  #000000;\n",
              "        }    #T_f485abde_9655_11ea_968b_0242ac1c0002row2_col16 {\n",
              "            background-color:  #b1cbfc;\n",
              "            color:  #000000;\n",
              "        }    #T_f485abde_9655_11ea_968b_0242ac1c0002row2_col17 {\n",
              "            background-color:  #cdd9ec;\n",
              "            color:  #000000;\n",
              "        }    #T_f485abde_9655_11ea_968b_0242ac1c0002row2_col18 {\n",
              "            background-color:  #f3c8b2;\n",
              "            color:  #000000;\n",
              "        }    #T_f485abde_9655_11ea_968b_0242ac1c0002row2_col19 {\n",
              "            background-color:  #bad0f8;\n",
              "            color:  #000000;\n",
              "        }    #T_f485abde_9655_11ea_968b_0242ac1c0002row3_col0 {\n",
              "            background-color:  #b5cdfa;\n",
              "            color:  #000000;\n",
              "        }    #T_f485abde_9655_11ea_968b_0242ac1c0002row3_col1 {\n",
              "            background-color:  #f7ad90;\n",
              "            color:  #000000;\n",
              "        }    #T_f485abde_9655_11ea_968b_0242ac1c0002row3_col2 {\n",
              "            background-color:  #f7b093;\n",
              "            color:  #000000;\n",
              "        }    #T_f485abde_9655_11ea_968b_0242ac1c0002row3_col3 {\n",
              "            background-color:  #b40426;\n",
              "            color:  #f1f1f1;\n",
              "        }    #T_f485abde_9655_11ea_968b_0242ac1c0002row3_col4 {\n",
              "            background-color:  #e57058;\n",
              "            color:  #000000;\n",
              "        }    #T_f485abde_9655_11ea_968b_0242ac1c0002row3_col5 {\n",
              "            background-color:  #c5d6f2;\n",
              "            color:  #000000;\n",
              "        }    #T_f485abde_9655_11ea_968b_0242ac1c0002row3_col6 {\n",
              "            background-color:  #f7b396;\n",
              "            color:  #000000;\n",
              "        }    #T_f485abde_9655_11ea_968b_0242ac1c0002row3_col7 {\n",
              "            background-color:  #c0d4f5;\n",
              "            color:  #000000;\n",
              "        }    #T_f485abde_9655_11ea_968b_0242ac1c0002row3_col8 {\n",
              "            background-color:  #d8dce2;\n",
              "            color:  #000000;\n",
              "        }    #T_f485abde_9655_11ea_968b_0242ac1c0002row3_col9 {\n",
              "            background-color:  #97b8ff;\n",
              "            color:  #000000;\n",
              "        }    #T_f485abde_9655_11ea_968b_0242ac1c0002row3_col10 {\n",
              "            background-color:  #f08a6c;\n",
              "            color:  #000000;\n",
              "        }    #T_f485abde_9655_11ea_968b_0242ac1c0002row3_col11 {\n",
              "            background-color:  #ee8468;\n",
              "            color:  #000000;\n",
              "        }    #T_f485abde_9655_11ea_968b_0242ac1c0002row3_col12 {\n",
              "            background-color:  #e7d7ce;\n",
              "            color:  #000000;\n",
              "        }    #T_f485abde_9655_11ea_968b_0242ac1c0002row3_col13 {\n",
              "            background-color:  #f7b194;\n",
              "            color:  #000000;\n",
              "        }    #T_f485abde_9655_11ea_968b_0242ac1c0002row3_col14 {\n",
              "            background-color:  #bed2f6;\n",
              "            color:  #000000;\n",
              "        }    #T_f485abde_9655_11ea_968b_0242ac1c0002row3_col15 {\n",
              "            background-color:  #85a8fc;\n",
              "            color:  #000000;\n",
              "        }    #T_f485abde_9655_11ea_968b_0242ac1c0002row3_col16 {\n",
              "            background-color:  #b9d0f9;\n",
              "            color:  #000000;\n",
              "        }    #T_f485abde_9655_11ea_968b_0242ac1c0002row3_col17 {\n",
              "            background-color:  #dddcdc;\n",
              "            color:  #000000;\n",
              "        }    #T_f485abde_9655_11ea_968b_0242ac1c0002row3_col18 {\n",
              "            background-color:  #f6a385;\n",
              "            color:  #000000;\n",
              "        }    #T_f485abde_9655_11ea_968b_0242ac1c0002row3_col19 {\n",
              "            background-color:  #c5d6f2;\n",
              "            color:  #000000;\n",
              "        }    #T_f485abde_9655_11ea_968b_0242ac1c0002row4_col0 {\n",
              "            background-color:  #b1cbfc;\n",
              "            color:  #000000;\n",
              "        }    #T_f485abde_9655_11ea_968b_0242ac1c0002row4_col1 {\n",
              "            background-color:  #ec7f63;\n",
              "            color:  #000000;\n",
              "        }    #T_f485abde_9655_11ea_968b_0242ac1c0002row4_col2 {\n",
              "            background-color:  #f6a283;\n",
              "            color:  #000000;\n",
              "        }    #T_f485abde_9655_11ea_968b_0242ac1c0002row4_col3 {\n",
              "            background-color:  #e57058;\n",
              "            color:  #000000;\n",
              "        }    #T_f485abde_9655_11ea_968b_0242ac1c0002row4_col4 {\n",
              "            background-color:  #b40426;\n",
              "            color:  #f1f1f1;\n",
              "        }    #T_f485abde_9655_11ea_968b_0242ac1c0002row4_col5 {\n",
              "            background-color:  #d5dbe5;\n",
              "            color:  #000000;\n",
              "        }    #T_f485abde_9655_11ea_968b_0242ac1c0002row4_col6 {\n",
              "            background-color:  #f0cdbb;\n",
              "            color:  #000000;\n",
              "        }    #T_f485abde_9655_11ea_968b_0242ac1c0002row4_col7 {\n",
              "            background-color:  #c9d7f0;\n",
              "            color:  #000000;\n",
              "        }    #T_f485abde_9655_11ea_968b_0242ac1c0002row4_col8 {\n",
              "            background-color:  #e7d7ce;\n",
              "            color:  #000000;\n",
              "        }    #T_f485abde_9655_11ea_968b_0242ac1c0002row4_col9 {\n",
              "            background-color:  #a6c4fe;\n",
              "            color:  #000000;\n",
              "        }    #T_f485abde_9655_11ea_968b_0242ac1c0002row4_col10 {\n",
              "            background-color:  #e36c55;\n",
              "            color:  #000000;\n",
              "        }    #T_f485abde_9655_11ea_968b_0242ac1c0002row4_col11 {\n",
              "            background-color:  #d0473d;\n",
              "            color:  #f1f1f1;\n",
              "        }    #T_f485abde_9655_11ea_968b_0242ac1c0002row4_col12 {\n",
              "            background-color:  #f5c0a7;\n",
              "            color:  #000000;\n",
              "        }    #T_f485abde_9655_11ea_968b_0242ac1c0002row4_col13 {\n",
              "            background-color:  #ecd3c5;\n",
              "            color:  #000000;\n",
              "        }    #T_f485abde_9655_11ea_968b_0242ac1c0002row4_col14 {\n",
              "            background-color:  #bfd3f6;\n",
              "            color:  #000000;\n",
              "        }    #T_f485abde_9655_11ea_968b_0242ac1c0002row4_col15 {\n",
              "            background-color:  #86a9fc;\n",
              "            color:  #000000;\n",
              "        }    #T_f485abde_9655_11ea_968b_0242ac1c0002row4_col16 {\n",
              "            background-color:  #bed2f6;\n",
              "            color:  #000000;\n",
              "        }    #T_f485abde_9655_11ea_968b_0242ac1c0002row4_col17 {\n",
              "            background-color:  #e0dbd8;\n",
              "            color:  #000000;\n",
              "        }    #T_f485abde_9655_11ea_968b_0242ac1c0002row4_col18 {\n",
              "            background-color:  #e46e56;\n",
              "            color:  #000000;\n",
              "        }    #T_f485abde_9655_11ea_968b_0242ac1c0002row4_col19 {\n",
              "            background-color:  #d7dce3;\n",
              "            color:  #000000;\n",
              "        }    #T_f485abde_9655_11ea_968b_0242ac1c0002row5_col0 {\n",
              "            background-color:  #96b7ff;\n",
              "            color:  #000000;\n",
              "        }    #T_f485abde_9655_11ea_968b_0242ac1c0002row5_col1 {\n",
              "            background-color:  #c5d6f2;\n",
              "            color:  #000000;\n",
              "        }    #T_f485abde_9655_11ea_968b_0242ac1c0002row5_col2 {\n",
              "            background-color:  #bad0f8;\n",
              "            color:  #000000;\n",
              "        }    #T_f485abde_9655_11ea_968b_0242ac1c0002row5_col3 {\n",
              "            background-color:  #c5d6f2;\n",
              "            color:  #000000;\n",
              "        }    #T_f485abde_9655_11ea_968b_0242ac1c0002row5_col4 {\n",
              "            background-color:  #d5dbe5;\n",
              "            color:  #000000;\n",
              "        }    #T_f485abde_9655_11ea_968b_0242ac1c0002row5_col5 {\n",
              "            background-color:  #b40426;\n",
              "            color:  #f1f1f1;\n",
              "        }    #T_f485abde_9655_11ea_968b_0242ac1c0002row5_col6 {\n",
              "            background-color:  #b2ccfb;\n",
              "            color:  #000000;\n",
              "        }    #T_f485abde_9655_11ea_968b_0242ac1c0002row5_col7 {\n",
              "            background-color:  #b7cff9;\n",
              "            color:  #000000;\n",
              "        }    #T_f485abde_9655_11ea_968b_0242ac1c0002row5_col8 {\n",
              "            background-color:  #c3d5f4;\n",
              "            color:  #000000;\n",
              "        }    #T_f485abde_9655_11ea_968b_0242ac1c0002row5_col9 {\n",
              "            background-color:  #b1cbfc;\n",
              "            color:  #000000;\n",
              "        }    #T_f485abde_9655_11ea_968b_0242ac1c0002row5_col10 {\n",
              "            background-color:  #cad8ef;\n",
              "            color:  #000000;\n",
              "        }    #T_f485abde_9655_11ea_968b_0242ac1c0002row5_col11 {\n",
              "            background-color:  #d7dce3;\n",
              "            color:  #000000;\n",
              "        }    #T_f485abde_9655_11ea_968b_0242ac1c0002row5_col12 {\n",
              "            background-color:  #b6cefa;\n",
              "            color:  #000000;\n",
              "        }    #T_f485abde_9655_11ea_968b_0242ac1c0002row5_col13 {\n",
              "            background-color:  #bfd3f6;\n",
              "            color:  #000000;\n",
              "        }    #T_f485abde_9655_11ea_968b_0242ac1c0002row5_col14 {\n",
              "            background-color:  #b5cdfa;\n",
              "            color:  #000000;\n",
              "        }    #T_f485abde_9655_11ea_968b_0242ac1c0002row5_col15 {\n",
              "            background-color:  #97b8ff;\n",
              "            color:  #000000;\n",
              "        }    #T_f485abde_9655_11ea_968b_0242ac1c0002row5_col16 {\n",
              "            background-color:  #a1c0ff;\n",
              "            color:  #000000;\n",
              "        }    #T_f485abde_9655_11ea_968b_0242ac1c0002row5_col17 {\n",
              "            background-color:  #dedcdb;\n",
              "            color:  #000000;\n",
              "        }    #T_f485abde_9655_11ea_968b_0242ac1c0002row5_col18 {\n",
              "            background-color:  #cfdaea;\n",
              "            color:  #000000;\n",
              "        }    #T_f485abde_9655_11ea_968b_0242ac1c0002row5_col19 {\n",
              "            background-color:  #ea7b60;\n",
              "            color:  #000000;\n",
              "        }    #T_f485abde_9655_11ea_968b_0242ac1c0002row6_col0 {\n",
              "            background-color:  #b7cff9;\n",
              "            color:  #000000;\n",
              "        }    #T_f485abde_9655_11ea_968b_0242ac1c0002row6_col1 {\n",
              "            background-color:  #e3d9d3;\n",
              "            color:  #000000;\n",
              "        }    #T_f485abde_9655_11ea_968b_0242ac1c0002row6_col2 {\n",
              "            background-color:  #d6dce4;\n",
              "            color:  #000000;\n",
              "        }    #T_f485abde_9655_11ea_968b_0242ac1c0002row6_col3 {\n",
              "            background-color:  #f7b396;\n",
              "            color:  #000000;\n",
              "        }    #T_f485abde_9655_11ea_968b_0242ac1c0002row6_col4 {\n",
              "            background-color:  #f0cdbb;\n",
              "            color:  #000000;\n",
              "        }    #T_f485abde_9655_11ea_968b_0242ac1c0002row6_col5 {\n",
              "            background-color:  #b2ccfb;\n",
              "            color:  #000000;\n",
              "        }    #T_f485abde_9655_11ea_968b_0242ac1c0002row6_col6 {\n",
              "            background-color:  #b40426;\n",
              "            color:  #f1f1f1;\n",
              "        }    #T_f485abde_9655_11ea_968b_0242ac1c0002row6_col7 {\n",
              "            background-color:  #b9d0f9;\n",
              "            color:  #000000;\n",
              "        }    #T_f485abde_9655_11ea_968b_0242ac1c0002row6_col8 {\n",
              "            background-color:  #bad0f8;\n",
              "            color:  #000000;\n",
              "        }    #T_f485abde_9655_11ea_968b_0242ac1c0002row6_col9 {\n",
              "            background-color:  #799cf8;\n",
              "            color:  #000000;\n",
              "        }    #T_f485abde_9655_11ea_968b_0242ac1c0002row6_col10 {\n",
              "            background-color:  #f7bca1;\n",
              "            color:  #000000;\n",
              "        }    #T_f485abde_9655_11ea_968b_0242ac1c0002row6_col11 {\n",
              "            background-color:  #f7ad90;\n",
              "            color:  #000000;\n",
              "        }    #T_f485abde_9655_11ea_968b_0242ac1c0002row6_col12 {\n",
              "            background-color:  #7da0f9;\n",
              "            color:  #000000;\n",
              "        }    #T_f485abde_9655_11ea_968b_0242ac1c0002row6_col13 {\n",
              "            background-color:  #f7b599;\n",
              "            color:  #000000;\n",
              "        }    #T_f485abde_9655_11ea_968b_0242ac1c0002row6_col14 {\n",
              "            background-color:  #b5cdfa;\n",
              "            color:  #000000;\n",
              "        }    #T_f485abde_9655_11ea_968b_0242ac1c0002row6_col15 {\n",
              "            background-color:  #a6c4fe;\n",
              "            color:  #000000;\n",
              "        }    #T_f485abde_9655_11ea_968b_0242ac1c0002row6_col16 {\n",
              "            background-color:  #bed2f6;\n",
              "            color:  #000000;\n",
              "        }    #T_f485abde_9655_11ea_968b_0242ac1c0002row6_col17 {\n",
              "            background-color:  #ccd9ed;\n",
              "            color:  #000000;\n",
              "        }    #T_f485abde_9655_11ea_968b_0242ac1c0002row6_col18 {\n",
              "            background-color:  #e7d7ce;\n",
              "            color:  #000000;\n",
              "        }    #T_f485abde_9655_11ea_968b_0242ac1c0002row6_col19 {\n",
              "            background-color:  #b1cbfc;\n",
              "            color:  #000000;\n",
              "        }    #T_f485abde_9655_11ea_968b_0242ac1c0002row7_col0 {\n",
              "            background-color:  #b2ccfb;\n",
              "            color:  #000000;\n",
              "        }    #T_f485abde_9655_11ea_968b_0242ac1c0002row7_col1 {\n",
              "            background-color:  #e4d9d2;\n",
              "            color:  #000000;\n",
              "        }    #T_f485abde_9655_11ea_968b_0242ac1c0002row7_col2 {\n",
              "            background-color:  #b2ccfb;\n",
              "            color:  #000000;\n",
              "        }    #T_f485abde_9655_11ea_968b_0242ac1c0002row7_col3 {\n",
              "            background-color:  #c0d4f5;\n",
              "            color:  #000000;\n",
              "        }    #T_f485abde_9655_11ea_968b_0242ac1c0002row7_col4 {\n",
              "            background-color:  #c9d7f0;\n",
              "            color:  #000000;\n",
              "        }    #T_f485abde_9655_11ea_968b_0242ac1c0002row7_col5 {\n",
              "            background-color:  #b7cff9;\n",
              "            color:  #000000;\n",
              "        }    #T_f485abde_9655_11ea_968b_0242ac1c0002row7_col6 {\n",
              "            background-color:  #b9d0f9;\n",
              "            color:  #000000;\n",
              "        }    #T_f485abde_9655_11ea_968b_0242ac1c0002row7_col7 {\n",
              "            background-color:  #b40426;\n",
              "            color:  #f1f1f1;\n",
              "        }    #T_f485abde_9655_11ea_968b_0242ac1c0002row7_col8 {\n",
              "            background-color:  #f4c6af;\n",
              "            color:  #000000;\n",
              "        }    #T_f485abde_9655_11ea_968b_0242ac1c0002row7_col9 {\n",
              "            background-color:  #b7cff9;\n",
              "            color:  #000000;\n",
              "        }    #T_f485abde_9655_11ea_968b_0242ac1c0002row7_col10 {\n",
              "            background-color:  #c4d5f3;\n",
              "            color:  #000000;\n",
              "        }    #T_f485abde_9655_11ea_968b_0242ac1c0002row7_col11 {\n",
              "            background-color:  #c3d5f4;\n",
              "            color:  #000000;\n",
              "        }    #T_f485abde_9655_11ea_968b_0242ac1c0002row7_col12 {\n",
              "            background-color:  #c4d5f3;\n",
              "            color:  #000000;\n",
              "        }    #T_f485abde_9655_11ea_968b_0242ac1c0002row7_col13 {\n",
              "            background-color:  #aec9fc;\n",
              "            color:  #000000;\n",
              "        }    #T_f485abde_9655_11ea_968b_0242ac1c0002row7_col14 {\n",
              "            background-color:  #c6d6f1;\n",
              "            color:  #000000;\n",
              "        }    #T_f485abde_9655_11ea_968b_0242ac1c0002row7_col15 {\n",
              "            background-color:  #bad0f8;\n",
              "            color:  #000000;\n",
              "        }    #T_f485abde_9655_11ea_968b_0242ac1c0002row7_col16 {\n",
              "            background-color:  #afcafc;\n",
              "            color:  #000000;\n",
              "        }    #T_f485abde_9655_11ea_968b_0242ac1c0002row7_col17 {\n",
              "            background-color:  #aac7fd;\n",
              "            color:  #000000;\n",
              "        }    #T_f485abde_9655_11ea_968b_0242ac1c0002row7_col18 {\n",
              "            background-color:  #c5d6f2;\n",
              "            color:  #000000;\n",
              "        }    #T_f485abde_9655_11ea_968b_0242ac1c0002row7_col19 {\n",
              "            background-color:  #bad0f8;\n",
              "            color:  #000000;\n",
              "        }    #T_f485abde_9655_11ea_968b_0242ac1c0002row8_col0 {\n",
              "            background-color:  #b6cefa;\n",
              "            color:  #000000;\n",
              "        }    #T_f485abde_9655_11ea_968b_0242ac1c0002row8_col1 {\n",
              "            background-color:  #f3c7b1;\n",
              "            color:  #000000;\n",
              "        }    #T_f485abde_9655_11ea_968b_0242ac1c0002row8_col2 {\n",
              "            background-color:  #c4d5f3;\n",
              "            color:  #000000;\n",
              "        }    #T_f485abde_9655_11ea_968b_0242ac1c0002row8_col3 {\n",
              "            background-color:  #d8dce2;\n",
              "            color:  #000000;\n",
              "        }    #T_f485abde_9655_11ea_968b_0242ac1c0002row8_col4 {\n",
              "            background-color:  #e7d7ce;\n",
              "            color:  #000000;\n",
              "        }    #T_f485abde_9655_11ea_968b_0242ac1c0002row8_col5 {\n",
              "            background-color:  #c3d5f4;\n",
              "            color:  #000000;\n",
              "        }    #T_f485abde_9655_11ea_968b_0242ac1c0002row8_col6 {\n",
              "            background-color:  #bad0f8;\n",
              "            color:  #000000;\n",
              "        }    #T_f485abde_9655_11ea_968b_0242ac1c0002row8_col7 {\n",
              "            background-color:  #f4c6af;\n",
              "            color:  #000000;\n",
              "        }    #T_f485abde_9655_11ea_968b_0242ac1c0002row8_col8 {\n",
              "            background-color:  #b40426;\n",
              "            color:  #f1f1f1;\n",
              "        }    #T_f485abde_9655_11ea_968b_0242ac1c0002row8_col9 {\n",
              "            background-color:  #bcd2f7;\n",
              "            color:  #000000;\n",
              "        }    #T_f485abde_9655_11ea_968b_0242ac1c0002row8_col10 {\n",
              "            background-color:  #e2dad5;\n",
              "            color:  #000000;\n",
              "        }    #T_f485abde_9655_11ea_968b_0242ac1c0002row8_col11 {\n",
              "            background-color:  #d4dbe6;\n",
              "            color:  #000000;\n",
              "        }    #T_f485abde_9655_11ea_968b_0242ac1c0002row8_col12 {\n",
              "            background-color:  #e6d7cf;\n",
              "            color:  #000000;\n",
              "        }    #T_f485abde_9655_11ea_968b_0242ac1c0002row8_col13 {\n",
              "            background-color:  #a7c5fe;\n",
              "            color:  #000000;\n",
              "        }    #T_f485abde_9655_11ea_968b_0242ac1c0002row8_col14 {\n",
              "            background-color:  #c9d7f0;\n",
              "            color:  #000000;\n",
              "        }    #T_f485abde_9655_11ea_968b_0242ac1c0002row8_col15 {\n",
              "            background-color:  #c5d6f2;\n",
              "            color:  #000000;\n",
              "        }    #T_f485abde_9655_11ea_968b_0242ac1c0002row8_col16 {\n",
              "            background-color:  #b5cdfa;\n",
              "            color:  #000000;\n",
              "        }    #T_f485abde_9655_11ea_968b_0242ac1c0002row8_col17 {\n",
              "            background-color:  #a2c1ff;\n",
              "            color:  #000000;\n",
              "        }    #T_f485abde_9655_11ea_968b_0242ac1c0002row8_col18 {\n",
              "            background-color:  #e7d7ce;\n",
              "            color:  #000000;\n",
              "        }    #T_f485abde_9655_11ea_968b_0242ac1c0002row8_col19 {\n",
              "            background-color:  #c3d5f4;\n",
              "            color:  #000000;\n",
              "        }    #T_f485abde_9655_11ea_968b_0242ac1c0002row9_col0 {\n",
              "            background-color:  #aec9fc;\n",
              "            color:  #000000;\n",
              "        }    #T_f485abde_9655_11ea_968b_0242ac1c0002row9_col1 {\n",
              "            background-color:  #bbd1f8;\n",
              "            color:  #000000;\n",
              "        }    #T_f485abde_9655_11ea_968b_0242ac1c0002row9_col2 {\n",
              "            background-color:  #b9d0f9;\n",
              "            color:  #000000;\n",
              "        }    #T_f485abde_9655_11ea_968b_0242ac1c0002row9_col3 {\n",
              "            background-color:  #97b8ff;\n",
              "            color:  #000000;\n",
              "        }    #T_f485abde_9655_11ea_968b_0242ac1c0002row9_col4 {\n",
              "            background-color:  #a6c4fe;\n",
              "            color:  #000000;\n",
              "        }    #T_f485abde_9655_11ea_968b_0242ac1c0002row9_col5 {\n",
              "            background-color:  #b1cbfc;\n",
              "            color:  #000000;\n",
              "        }    #T_f485abde_9655_11ea_968b_0242ac1c0002row9_col6 {\n",
              "            background-color:  #799cf8;\n",
              "            color:  #000000;\n",
              "        }    #T_f485abde_9655_11ea_968b_0242ac1c0002row9_col7 {\n",
              "            background-color:  #b7cff9;\n",
              "            color:  #000000;\n",
              "        }    #T_f485abde_9655_11ea_968b_0242ac1c0002row9_col8 {\n",
              "            background-color:  #bcd2f7;\n",
              "            color:  #000000;\n",
              "        }    #T_f485abde_9655_11ea_968b_0242ac1c0002row9_col9 {\n",
              "            background-color:  #b40426;\n",
              "            color:  #f1f1f1;\n",
              "        }    #T_f485abde_9655_11ea_968b_0242ac1c0002row9_col10 {\n",
              "            background-color:  #93b5fe;\n",
              "            color:  #000000;\n",
              "        }    #T_f485abde_9655_11ea_968b_0242ac1c0002row9_col11 {\n",
              "            background-color:  #90b2fe;\n",
              "            color:  #000000;\n",
              "        }    #T_f485abde_9655_11ea_968b_0242ac1c0002row9_col12 {\n",
              "            background-color:  #d5dbe5;\n",
              "            color:  #000000;\n",
              "        }    #T_f485abde_9655_11ea_968b_0242ac1c0002row9_col13 {\n",
              "            background-color:  #6384eb;\n",
              "            color:  #000000;\n",
              "        }    #T_f485abde_9655_11ea_968b_0242ac1c0002row9_col14 {\n",
              "            background-color:  #a6c4fe;\n",
              "            color:  #000000;\n",
              "        }    #T_f485abde_9655_11ea_968b_0242ac1c0002row9_col15 {\n",
              "            background-color:  #b3cdfb;\n",
              "            color:  #000000;\n",
              "        }    #T_f485abde_9655_11ea_968b_0242ac1c0002row9_col16 {\n",
              "            background-color:  #afcafc;\n",
              "            color:  #000000;\n",
              "        }    #T_f485abde_9655_11ea_968b_0242ac1c0002row9_col17 {\n",
              "            background-color:  #9bbcff;\n",
              "            color:  #000000;\n",
              "        }    #T_f485abde_9655_11ea_968b_0242ac1c0002row9_col18 {\n",
              "            background-color:  #9fbfff;\n",
              "            color:  #000000;\n",
              "        }    #T_f485abde_9655_11ea_968b_0242ac1c0002row9_col19 {\n",
              "            background-color:  #b2ccfb;\n",
              "            color:  #000000;\n",
              "        }    #T_f485abde_9655_11ea_968b_0242ac1c0002row10_col0 {\n",
              "            background-color:  #b5cdfa;\n",
              "            color:  #000000;\n",
              "        }    #T_f485abde_9655_11ea_968b_0242ac1c0002row10_col1 {\n",
              "            background-color:  #f08a6c;\n",
              "            color:  #000000;\n",
              "        }    #T_f485abde_9655_11ea_968b_0242ac1c0002row10_col2 {\n",
              "            background-color:  #f0cdbb;\n",
              "            color:  #000000;\n",
              "        }    #T_f485abde_9655_11ea_968b_0242ac1c0002row10_col3 {\n",
              "            background-color:  #f08a6c;\n",
              "            color:  #000000;\n",
              "        }    #T_f485abde_9655_11ea_968b_0242ac1c0002row10_col4 {\n",
              "            background-color:  #e36c55;\n",
              "            color:  #000000;\n",
              "        }    #T_f485abde_9655_11ea_968b_0242ac1c0002row10_col5 {\n",
              "            background-color:  #cad8ef;\n",
              "            color:  #000000;\n",
              "        }    #T_f485abde_9655_11ea_968b_0242ac1c0002row10_col6 {\n",
              "            background-color:  #f7bca1;\n",
              "            color:  #000000;\n",
              "        }    #T_f485abde_9655_11ea_968b_0242ac1c0002row10_col7 {\n",
              "            background-color:  #c4d5f3;\n",
              "            color:  #000000;\n",
              "        }    #T_f485abde_9655_11ea_968b_0242ac1c0002row10_col8 {\n",
              "            background-color:  #e2dad5;\n",
              "            color:  #000000;\n",
              "        }    #T_f485abde_9655_11ea_968b_0242ac1c0002row10_col9 {\n",
              "            background-color:  #93b5fe;\n",
              "            color:  #000000;\n",
              "        }    #T_f485abde_9655_11ea_968b_0242ac1c0002row10_col10 {\n",
              "            background-color:  #b40426;\n",
              "            color:  #f1f1f1;\n",
              "        }    #T_f485abde_9655_11ea_968b_0242ac1c0002row10_col11 {\n",
              "            background-color:  #e46e56;\n",
              "            color:  #000000;\n",
              "        }    #T_f485abde_9655_11ea_968b_0242ac1c0002row10_col12 {\n",
              "            background-color:  #d4dbe6;\n",
              "            color:  #000000;\n",
              "        }    #T_f485abde_9655_11ea_968b_0242ac1c0002row10_col13 {\n",
              "            background-color:  #f6bea4;\n",
              "            color:  #000000;\n",
              "        }    #T_f485abde_9655_11ea_968b_0242ac1c0002row10_col14 {\n",
              "            background-color:  #b6cefa;\n",
              "            color:  #000000;\n",
              "        }    #T_f485abde_9655_11ea_968b_0242ac1c0002row10_col15 {\n",
              "            background-color:  #8badfd;\n",
              "            color:  #000000;\n",
              "        }    #T_f485abde_9655_11ea_968b_0242ac1c0002row10_col16 {\n",
              "            background-color:  #cad8ef;\n",
              "            color:  #000000;\n",
              "        }    #T_f485abde_9655_11ea_968b_0242ac1c0002row10_col17 {\n",
              "            background-color:  #d9dce1;\n",
              "            color:  #000000;\n",
              "        }    #T_f485abde_9655_11ea_968b_0242ac1c0002row10_col18 {\n",
              "            background-color:  #ea7b60;\n",
              "            color:  #000000;\n",
              "        }    #T_f485abde_9655_11ea_968b_0242ac1c0002row10_col19 {\n",
              "            background-color:  #cbd8ee;\n",
              "            color:  #000000;\n",
              "        }    #T_f485abde_9655_11ea_968b_0242ac1c0002row11_col0 {\n",
              "            background-color:  #b1cbfc;\n",
              "            color:  #000000;\n",
              "        }    #T_f485abde_9655_11ea_968b_0242ac1c0002row11_col1 {\n",
              "            background-color:  #f49a7b;\n",
              "            color:  #000000;\n",
              "        }    #T_f485abde_9655_11ea_968b_0242ac1c0002row11_col2 {\n",
              "            background-color:  #f7b89c;\n",
              "            color:  #000000;\n",
              "        }    #T_f485abde_9655_11ea_968b_0242ac1c0002row11_col3 {\n",
              "            background-color:  #ee8468;\n",
              "            color:  #000000;\n",
              "        }    #T_f485abde_9655_11ea_968b_0242ac1c0002row11_col4 {\n",
              "            background-color:  #d0473d;\n",
              "            color:  #f1f1f1;\n",
              "        }    #T_f485abde_9655_11ea_968b_0242ac1c0002row11_col5 {\n",
              "            background-color:  #d7dce3;\n",
              "            color:  #000000;\n",
              "        }    #T_f485abde_9655_11ea_968b_0242ac1c0002row11_col6 {\n",
              "            background-color:  #f7ad90;\n",
              "            color:  #000000;\n",
              "        }    #T_f485abde_9655_11ea_968b_0242ac1c0002row11_col7 {\n",
              "            background-color:  #c3d5f4;\n",
              "            color:  #000000;\n",
              "        }    #T_f485abde_9655_11ea_968b_0242ac1c0002row11_col8 {\n",
              "            background-color:  #d4dbe6;\n",
              "            color:  #000000;\n",
              "        }    #T_f485abde_9655_11ea_968b_0242ac1c0002row11_col9 {\n",
              "            background-color:  #90b2fe;\n",
              "            color:  #000000;\n",
              "        }    #T_f485abde_9655_11ea_968b_0242ac1c0002row11_col10 {\n",
              "            background-color:  #e46e56;\n",
              "            color:  #000000;\n",
              "        }    #T_f485abde_9655_11ea_968b_0242ac1c0002row11_col11 {\n",
              "            background-color:  #b40426;\n",
              "            color:  #f1f1f1;\n",
              "        }    #T_f485abde_9655_11ea_968b_0242ac1c0002row11_col12 {\n",
              "            background-color:  #a7c5fe;\n",
              "            color:  #000000;\n",
              "        }    #T_f485abde_9655_11ea_968b_0242ac1c0002row11_col13 {\n",
              "            background-color:  #f5c2aa;\n",
              "            color:  #000000;\n",
              "        }    #T_f485abde_9655_11ea_968b_0242ac1c0002row11_col14 {\n",
              "            background-color:  #b9d0f9;\n",
              "            color:  #000000;\n",
              "        }    #T_f485abde_9655_11ea_968b_0242ac1c0002row11_col15 {\n",
              "            background-color:  #799cf8;\n",
              "            color:  #000000;\n",
              "        }    #T_f485abde_9655_11ea_968b_0242ac1c0002row11_col16 {\n",
              "            background-color:  #b3cdfb;\n",
              "            color:  #000000;\n",
              "        }    #T_f485abde_9655_11ea_968b_0242ac1c0002row11_col17 {\n",
              "            background-color:  #efcfbf;\n",
              "            color:  #000000;\n",
              "        }    #T_f485abde_9655_11ea_968b_0242ac1c0002row11_col18 {\n",
              "            background-color:  #e8765c;\n",
              "            color:  #000000;\n",
              "        }    #T_f485abde_9655_11ea_968b_0242ac1c0002row11_col19 {\n",
              "            background-color:  #d9dce1;\n",
              "            color:  #000000;\n",
              "        }    #T_f485abde_9655_11ea_968b_0242ac1c0002row12_col0 {\n",
              "            background-color:  #b2ccfb;\n",
              "            color:  #000000;\n",
              "        }    #T_f485abde_9655_11ea_968b_0242ac1c0002row12_col1 {\n",
              "            background-color:  #edd2c3;\n",
              "            color:  #000000;\n",
              "        }    #T_f485abde_9655_11ea_968b_0242ac1c0002row12_col2 {\n",
              "            background-color:  #ead5c9;\n",
              "            color:  #000000;\n",
              "        }    #T_f485abde_9655_11ea_968b_0242ac1c0002row12_col3 {\n",
              "            background-color:  #e7d7ce;\n",
              "            color:  #000000;\n",
              "        }    #T_f485abde_9655_11ea_968b_0242ac1c0002row12_col4 {\n",
              "            background-color:  #f5c0a7;\n",
              "            color:  #000000;\n",
              "        }    #T_f485abde_9655_11ea_968b_0242ac1c0002row12_col5 {\n",
              "            background-color:  #b6cefa;\n",
              "            color:  #000000;\n",
              "        }    #T_f485abde_9655_11ea_968b_0242ac1c0002row12_col6 {\n",
              "            background-color:  #7da0f9;\n",
              "            color:  #000000;\n",
              "        }    #T_f485abde_9655_11ea_968b_0242ac1c0002row12_col7 {\n",
              "            background-color:  #c4d5f3;\n",
              "            color:  #000000;\n",
              "        }    #T_f485abde_9655_11ea_968b_0242ac1c0002row12_col8 {\n",
              "            background-color:  #e6d7cf;\n",
              "            color:  #000000;\n",
              "        }    #T_f485abde_9655_11ea_968b_0242ac1c0002row12_col9 {\n",
              "            background-color:  #d5dbe5;\n",
              "            color:  #000000;\n",
              "        }    #T_f485abde_9655_11ea_968b_0242ac1c0002row12_col10 {\n",
              "            background-color:  #d4dbe6;\n",
              "            color:  #000000;\n",
              "        }    #T_f485abde_9655_11ea_968b_0242ac1c0002row12_col11 {\n",
              "            background-color:  #a7c5fe;\n",
              "            color:  #000000;\n",
              "        }    #T_f485abde_9655_11ea_968b_0242ac1c0002row12_col12 {\n",
              "            background-color:  #b40426;\n",
              "            color:  #f1f1f1;\n",
              "        }    #T_f485abde_9655_11ea_968b_0242ac1c0002row12_col13 {\n",
              "            background-color:  #96b7ff;\n",
              "            color:  #000000;\n",
              "        }    #T_f485abde_9655_11ea_968b_0242ac1c0002row12_col14 {\n",
              "            background-color:  #c1d4f4;\n",
              "            color:  #000000;\n",
              "        }    #T_f485abde_9655_11ea_968b_0242ac1c0002row12_col15 {\n",
              "            background-color:  #c3d5f4;\n",
              "            color:  #000000;\n",
              "        }    #T_f485abde_9655_11ea_968b_0242ac1c0002row12_col16 {\n",
              "            background-color:  #cad8ef;\n",
              "            color:  #000000;\n",
              "        }    #T_f485abde_9655_11ea_968b_0242ac1c0002row12_col17 {\n",
              "            background-color:  #93b5fe;\n",
              "            color:  #000000;\n",
              "        }    #T_f485abde_9655_11ea_968b_0242ac1c0002row12_col18 {\n",
              "            background-color:  #dadce0;\n",
              "            color:  #000000;\n",
              "        }    #T_f485abde_9655_11ea_968b_0242ac1c0002row12_col19 {\n",
              "            background-color:  #b7cff9;\n",
              "            color:  #000000;\n",
              "        }    #T_f485abde_9655_11ea_968b_0242ac1c0002row13_col0 {\n",
              "            background-color:  #b7cff9;\n",
              "            color:  #000000;\n",
              "        }    #T_f485abde_9655_11ea_968b_0242ac1c0002row13_col1 {\n",
              "            background-color:  #bfd3f6;\n",
              "            color:  #000000;\n",
              "        }    #T_f485abde_9655_11ea_968b_0242ac1c0002row13_col2 {\n",
              "            background-color:  #d2dbe8;\n",
              "            color:  #000000;\n",
              "        }    #T_f485abde_9655_11ea_968b_0242ac1c0002row13_col3 {\n",
              "            background-color:  #f7b194;\n",
              "            color:  #000000;\n",
              "        }    #T_f485abde_9655_11ea_968b_0242ac1c0002row13_col4 {\n",
              "            background-color:  #ecd3c5;\n",
              "            color:  #000000;\n",
              "        }    #T_f485abde_9655_11ea_968b_0242ac1c0002row13_col5 {\n",
              "            background-color:  #bfd3f6;\n",
              "            color:  #000000;\n",
              "        }    #T_f485abde_9655_11ea_968b_0242ac1c0002row13_col6 {\n",
              "            background-color:  #f7b599;\n",
              "            color:  #000000;\n",
              "        }    #T_f485abde_9655_11ea_968b_0242ac1c0002row13_col7 {\n",
              "            background-color:  #aec9fc;\n",
              "            color:  #000000;\n",
              "        }    #T_f485abde_9655_11ea_968b_0242ac1c0002row13_col8 {\n",
              "            background-color:  #a7c5fe;\n",
              "            color:  #000000;\n",
              "        }    #T_f485abde_9655_11ea_968b_0242ac1c0002row13_col9 {\n",
              "            background-color:  #6384eb;\n",
              "            color:  #000000;\n",
              "        }    #T_f485abde_9655_11ea_968b_0242ac1c0002row13_col10 {\n",
              "            background-color:  #f6bea4;\n",
              "            color:  #000000;\n",
              "        }    #T_f485abde_9655_11ea_968b_0242ac1c0002row13_col11 {\n",
              "            background-color:  #f5c2aa;\n",
              "            color:  #000000;\n",
              "        }    #T_f485abde_9655_11ea_968b_0242ac1c0002row13_col12 {\n",
              "            background-color:  #96b7ff;\n",
              "            color:  #000000;\n",
              "        }    #T_f485abde_9655_11ea_968b_0242ac1c0002row13_col13 {\n",
              "            background-color:  #b40426;\n",
              "            color:  #f1f1f1;\n",
              "        }    #T_f485abde_9655_11ea_968b_0242ac1c0002row13_col14 {\n",
              "            background-color:  #81a4fb;\n",
              "            color:  #000000;\n",
              "        }    #T_f485abde_9655_11ea_968b_0242ac1c0002row13_col15 {\n",
              "            background-color:  #6687ed;\n",
              "            color:  #000000;\n",
              "        }    #T_f485abde_9655_11ea_968b_0242ac1c0002row13_col16 {\n",
              "            background-color:  #93b5fe;\n",
              "            color:  #000000;\n",
              "        }    #T_f485abde_9655_11ea_968b_0242ac1c0002row13_col17 {\n",
              "            background-color:  #f4c5ad;\n",
              "            color:  #000000;\n",
              "        }    #T_f485abde_9655_11ea_968b_0242ac1c0002row13_col18 {\n",
              "            background-color:  #edd2c3;\n",
              "            color:  #000000;\n",
              "        }    #T_f485abde_9655_11ea_968b_0242ac1c0002row13_col19 {\n",
              "            background-color:  #c1d4f4;\n",
              "            color:  #000000;\n",
              "        }    #T_f485abde_9655_11ea_968b_0242ac1c0002row14_col0 {\n",
              "            background-color:  #afcafc;\n",
              "            color:  #000000;\n",
              "        }    #T_f485abde_9655_11ea_968b_0242ac1c0002row14_col1 {\n",
              "            background-color:  #cdd9ec;\n",
              "            color:  #000000;\n",
              "        }    #T_f485abde_9655_11ea_968b_0242ac1c0002row14_col2 {\n",
              "            background-color:  #b7cff9;\n",
              "            color:  #000000;\n",
              "        }    #T_f485abde_9655_11ea_968b_0242ac1c0002row14_col3 {\n",
              "            background-color:  #bed2f6;\n",
              "            color:  #000000;\n",
              "        }    #T_f485abde_9655_11ea_968b_0242ac1c0002row14_col4 {\n",
              "            background-color:  #bfd3f6;\n",
              "            color:  #000000;\n",
              "        }    #T_f485abde_9655_11ea_968b_0242ac1c0002row14_col5 {\n",
              "            background-color:  #b5cdfa;\n",
              "            color:  #000000;\n",
              "        }    #T_f485abde_9655_11ea_968b_0242ac1c0002row14_col6 {\n",
              "            background-color:  #b5cdfa;\n",
              "            color:  #000000;\n",
              "        }    #T_f485abde_9655_11ea_968b_0242ac1c0002row14_col7 {\n",
              "            background-color:  #c6d6f1;\n",
              "            color:  #000000;\n",
              "        }    #T_f485abde_9655_11ea_968b_0242ac1c0002row14_col8 {\n",
              "            background-color:  #c9d7f0;\n",
              "            color:  #000000;\n",
              "        }    #T_f485abde_9655_11ea_968b_0242ac1c0002row14_col9 {\n",
              "            background-color:  #a6c4fe;\n",
              "            color:  #000000;\n",
              "        }    #T_f485abde_9655_11ea_968b_0242ac1c0002row14_col10 {\n",
              "            background-color:  #b6cefa;\n",
              "            color:  #000000;\n",
              "        }    #T_f485abde_9655_11ea_968b_0242ac1c0002row14_col11 {\n",
              "            background-color:  #b9d0f9;\n",
              "            color:  #000000;\n",
              "        }    #T_f485abde_9655_11ea_968b_0242ac1c0002row14_col12 {\n",
              "            background-color:  #c1d4f4;\n",
              "            color:  #000000;\n",
              "        }    #T_f485abde_9655_11ea_968b_0242ac1c0002row14_col13 {\n",
              "            background-color:  #81a4fb;\n",
              "            color:  #000000;\n",
              "        }    #T_f485abde_9655_11ea_968b_0242ac1c0002row14_col14 {\n",
              "            background-color:  #b40426;\n",
              "            color:  #f1f1f1;\n",
              "        }    #T_f485abde_9655_11ea_968b_0242ac1c0002row14_col15 {\n",
              "            background-color:  #c0d4f5;\n",
              "            color:  #000000;\n",
              "        }    #T_f485abde_9655_11ea_968b_0242ac1c0002row14_col16 {\n",
              "            background-color:  #bad0f8;\n",
              "            color:  #000000;\n",
              "        }    #T_f485abde_9655_11ea_968b_0242ac1c0002row14_col17 {\n",
              "            background-color:  #a5c3fe;\n",
              "            color:  #000000;\n",
              "        }    #T_f485abde_9655_11ea_968b_0242ac1c0002row14_col18 {\n",
              "            background-color:  #b2ccfb;\n",
              "            color:  #000000;\n",
              "        }    #T_f485abde_9655_11ea_968b_0242ac1c0002row14_col19 {\n",
              "            background-color:  #b5cdfa;\n",
              "            color:  #000000;\n",
              "        }    #T_f485abde_9655_11ea_968b_0242ac1c0002row15_col0 {\n",
              "            background-color:  #b1cbfc;\n",
              "            color:  #000000;\n",
              "        }    #T_f485abde_9655_11ea_968b_0242ac1c0002row15_col1 {\n",
              "            background-color:  #a7c5fe;\n",
              "            color:  #000000;\n",
              "        }    #T_f485abde_9655_11ea_968b_0242ac1c0002row15_col2 {\n",
              "            background-color:  #92b4fe;\n",
              "            color:  #000000;\n",
              "        }    #T_f485abde_9655_11ea_968b_0242ac1c0002row15_col3 {\n",
              "            background-color:  #85a8fc;\n",
              "            color:  #000000;\n",
              "        }    #T_f485abde_9655_11ea_968b_0242ac1c0002row15_col4 {\n",
              "            background-color:  #86a9fc;\n",
              "            color:  #000000;\n",
              "        }    #T_f485abde_9655_11ea_968b_0242ac1c0002row15_col5 {\n",
              "            background-color:  #97b8ff;\n",
              "            color:  #000000;\n",
              "        }    #T_f485abde_9655_11ea_968b_0242ac1c0002row15_col6 {\n",
              "            background-color:  #a6c4fe;\n",
              "            color:  #000000;\n",
              "        }    #T_f485abde_9655_11ea_968b_0242ac1c0002row15_col7 {\n",
              "            background-color:  #bad0f8;\n",
              "            color:  #000000;\n",
              "        }    #T_f485abde_9655_11ea_968b_0242ac1c0002row15_col8 {\n",
              "            background-color:  #c5d6f2;\n",
              "            color:  #000000;\n",
              "        }    #T_f485abde_9655_11ea_968b_0242ac1c0002row15_col9 {\n",
              "            background-color:  #b3cdfb;\n",
              "            color:  #000000;\n",
              "        }    #T_f485abde_9655_11ea_968b_0242ac1c0002row15_col10 {\n",
              "            background-color:  #8badfd;\n",
              "            color:  #000000;\n",
              "        }    #T_f485abde_9655_11ea_968b_0242ac1c0002row15_col11 {\n",
              "            background-color:  #799cf8;\n",
              "            color:  #000000;\n",
              "        }    #T_f485abde_9655_11ea_968b_0242ac1c0002row15_col12 {\n",
              "            background-color:  #c3d5f4;\n",
              "            color:  #000000;\n",
              "        }    #T_f485abde_9655_11ea_968b_0242ac1c0002row15_col13 {\n",
              "            background-color:  #6687ed;\n",
              "            color:  #000000;\n",
              "        }    #T_f485abde_9655_11ea_968b_0242ac1c0002row15_col14 {\n",
              "            background-color:  #c0d4f5;\n",
              "            color:  #000000;\n",
              "        }    #T_f485abde_9655_11ea_968b_0242ac1c0002row15_col15 {\n",
              "            background-color:  #b40426;\n",
              "            color:  #f1f1f1;\n",
              "        }    #T_f485abde_9655_11ea_968b_0242ac1c0002row15_col16 {\n",
              "            background-color:  #e5d8d1;\n",
              "            color:  #000000;\n",
              "        }    #T_f485abde_9655_11ea_968b_0242ac1c0002row15_col17 {\n",
              "            background-color:  #3b4cc0;\n",
              "            color:  #f1f1f1;\n",
              "        }    #T_f485abde_9655_11ea_968b_0242ac1c0002row15_col18 {\n",
              "            background-color:  #7597f6;\n",
              "            color:  #000000;\n",
              "        }    #T_f485abde_9655_11ea_968b_0242ac1c0002row15_col19 {\n",
              "            background-color:  #93b5fe;\n",
              "            color:  #000000;\n",
              "        }    #T_f485abde_9655_11ea_968b_0242ac1c0002row16_col0 {\n",
              "            background-color:  #b3cdfb;\n",
              "            color:  #000000;\n",
              "        }    #T_f485abde_9655_11ea_968b_0242ac1c0002row16_col1 {\n",
              "            background-color:  #ead4c8;\n",
              "            color:  #000000;\n",
              "        }    #T_f485abde_9655_11ea_968b_0242ac1c0002row16_col2 {\n",
              "            background-color:  #b1cbfc;\n",
              "            color:  #000000;\n",
              "        }    #T_f485abde_9655_11ea_968b_0242ac1c0002row16_col3 {\n",
              "            background-color:  #b9d0f9;\n",
              "            color:  #000000;\n",
              "        }    #T_f485abde_9655_11ea_968b_0242ac1c0002row16_col4 {\n",
              "            background-color:  #bed2f6;\n",
              "            color:  #000000;\n",
              "        }    #T_f485abde_9655_11ea_968b_0242ac1c0002row16_col5 {\n",
              "            background-color:  #a1c0ff;\n",
              "            color:  #000000;\n",
              "        }    #T_f485abde_9655_11ea_968b_0242ac1c0002row16_col6 {\n",
              "            background-color:  #bed2f6;\n",
              "            color:  #000000;\n",
              "        }    #T_f485abde_9655_11ea_968b_0242ac1c0002row16_col7 {\n",
              "            background-color:  #afcafc;\n",
              "            color:  #000000;\n",
              "        }    #T_f485abde_9655_11ea_968b_0242ac1c0002row16_col8 {\n",
              "            background-color:  #b5cdfa;\n",
              "            color:  #000000;\n",
              "        }    #T_f485abde_9655_11ea_968b_0242ac1c0002row16_col9 {\n",
              "            background-color:  #afcafc;\n",
              "            color:  #000000;\n",
              "        }    #T_f485abde_9655_11ea_968b_0242ac1c0002row16_col10 {\n",
              "            background-color:  #cad8ef;\n",
              "            color:  #000000;\n",
              "        }    #T_f485abde_9655_11ea_968b_0242ac1c0002row16_col11 {\n",
              "            background-color:  #b3cdfb;\n",
              "            color:  #000000;\n",
              "        }    #T_f485abde_9655_11ea_968b_0242ac1c0002row16_col12 {\n",
              "            background-color:  #cad8ef;\n",
              "            color:  #000000;\n",
              "        }    #T_f485abde_9655_11ea_968b_0242ac1c0002row16_col13 {\n",
              "            background-color:  #93b5fe;\n",
              "            color:  #000000;\n",
              "        }    #T_f485abde_9655_11ea_968b_0242ac1c0002row16_col14 {\n",
              "            background-color:  #bad0f8;\n",
              "            color:  #000000;\n",
              "        }    #T_f485abde_9655_11ea_968b_0242ac1c0002row16_col15 {\n",
              "            background-color:  #e5d8d1;\n",
              "            color:  #000000;\n",
              "        }    #T_f485abde_9655_11ea_968b_0242ac1c0002row16_col16 {\n",
              "            background-color:  #b40426;\n",
              "            color:  #f1f1f1;\n",
              "        }    #T_f485abde_9655_11ea_968b_0242ac1c0002row16_col17 {\n",
              "            background-color:  #96b7ff;\n",
              "            color:  #000000;\n",
              "        }    #T_f485abde_9655_11ea_968b_0242ac1c0002row16_col18 {\n",
              "            background-color:  #bed2f6;\n",
              "            color:  #000000;\n",
              "        }    #T_f485abde_9655_11ea_968b_0242ac1c0002row16_col19 {\n",
              "            background-color:  #a1c0ff;\n",
              "            color:  #000000;\n",
              "        }    #T_f485abde_9655_11ea_968b_0242ac1c0002row17_col0 {\n",
              "            background-color:  #b7cff9;\n",
              "            color:  #000000;\n",
              "        }    #T_f485abde_9655_11ea_968b_0242ac1c0002row17_col1 {\n",
              "            background-color:  #b7cff9;\n",
              "            color:  #000000;\n",
              "        }    #T_f485abde_9655_11ea_968b_0242ac1c0002row17_col2 {\n",
              "            background-color:  #cdd9ec;\n",
              "            color:  #000000;\n",
              "        }    #T_f485abde_9655_11ea_968b_0242ac1c0002row17_col3 {\n",
              "            background-color:  #dddcdc;\n",
              "            color:  #000000;\n",
              "        }    #T_f485abde_9655_11ea_968b_0242ac1c0002row17_col4 {\n",
              "            background-color:  #e0dbd8;\n",
              "            color:  #000000;\n",
              "        }    #T_f485abde_9655_11ea_968b_0242ac1c0002row17_col5 {\n",
              "            background-color:  #dedcdb;\n",
              "            color:  #000000;\n",
              "        }    #T_f485abde_9655_11ea_968b_0242ac1c0002row17_col6 {\n",
              "            background-color:  #ccd9ed;\n",
              "            color:  #000000;\n",
              "        }    #T_f485abde_9655_11ea_968b_0242ac1c0002row17_col7 {\n",
              "            background-color:  #aac7fd;\n",
              "            color:  #000000;\n",
              "        }    #T_f485abde_9655_11ea_968b_0242ac1c0002row17_col8 {\n",
              "            background-color:  #a2c1ff;\n",
              "            color:  #000000;\n",
              "        }    #T_f485abde_9655_11ea_968b_0242ac1c0002row17_col9 {\n",
              "            background-color:  #9bbcff;\n",
              "            color:  #000000;\n",
              "        }    #T_f485abde_9655_11ea_968b_0242ac1c0002row17_col10 {\n",
              "            background-color:  #d9dce1;\n",
              "            color:  #000000;\n",
              "        }    #T_f485abde_9655_11ea_968b_0242ac1c0002row17_col11 {\n",
              "            background-color:  #efcfbf;\n",
              "            color:  #000000;\n",
              "        }    #T_f485abde_9655_11ea_968b_0242ac1c0002row17_col12 {\n",
              "            background-color:  #93b5fe;\n",
              "            color:  #000000;\n",
              "        }    #T_f485abde_9655_11ea_968b_0242ac1c0002row17_col13 {\n",
              "            background-color:  #f4c5ad;\n",
              "            color:  #000000;\n",
              "        }    #T_f485abde_9655_11ea_968b_0242ac1c0002row17_col14 {\n",
              "            background-color:  #a5c3fe;\n",
              "            color:  #000000;\n",
              "        }    #T_f485abde_9655_11ea_968b_0242ac1c0002row17_col15 {\n",
              "            background-color:  #3b4cc0;\n",
              "            color:  #f1f1f1;\n",
              "        }    #T_f485abde_9655_11ea_968b_0242ac1c0002row17_col16 {\n",
              "            background-color:  #96b7ff;\n",
              "            color:  #000000;\n",
              "        }    #T_f485abde_9655_11ea_968b_0242ac1c0002row17_col17 {\n",
              "            background-color:  #b40426;\n",
              "            color:  #f1f1f1;\n",
              "        }    #T_f485abde_9655_11ea_968b_0242ac1c0002row17_col18 {\n",
              "            background-color:  #eed0c0;\n",
              "            color:  #000000;\n",
              "        }    #T_f485abde_9655_11ea_968b_0242ac1c0002row17_col19 {\n",
              "            background-color:  #e2dad5;\n",
              "            color:  #000000;\n",
              "        }    #T_f485abde_9655_11ea_968b_0242ac1c0002row18_col0 {\n",
              "            background-color:  #b2ccfb;\n",
              "            color:  #000000;\n",
              "        }    #T_f485abde_9655_11ea_968b_0242ac1c0002row18_col1 {\n",
              "            background-color:  #f59f80;\n",
              "            color:  #000000;\n",
              "        }    #T_f485abde_9655_11ea_968b_0242ac1c0002row18_col2 {\n",
              "            background-color:  #f3c8b2;\n",
              "            color:  #000000;\n",
              "        }    #T_f485abde_9655_11ea_968b_0242ac1c0002row18_col3 {\n",
              "            background-color:  #f6a385;\n",
              "            color:  #000000;\n",
              "        }    #T_f485abde_9655_11ea_968b_0242ac1c0002row18_col4 {\n",
              "            background-color:  #e46e56;\n",
              "            color:  #000000;\n",
              "        }    #T_f485abde_9655_11ea_968b_0242ac1c0002row18_col5 {\n",
              "            background-color:  #cfdaea;\n",
              "            color:  #000000;\n",
              "        }    #T_f485abde_9655_11ea_968b_0242ac1c0002row18_col6 {\n",
              "            background-color:  #e7d7ce;\n",
              "            color:  #000000;\n",
              "        }    #T_f485abde_9655_11ea_968b_0242ac1c0002row18_col7 {\n",
              "            background-color:  #c5d6f2;\n",
              "            color:  #000000;\n",
              "        }    #T_f485abde_9655_11ea_968b_0242ac1c0002row18_col8 {\n",
              "            background-color:  #e7d7ce;\n",
              "            color:  #000000;\n",
              "        }    #T_f485abde_9655_11ea_968b_0242ac1c0002row18_col9 {\n",
              "            background-color:  #9fbfff;\n",
              "            color:  #000000;\n",
              "        }    #T_f485abde_9655_11ea_968b_0242ac1c0002row18_col10 {\n",
              "            background-color:  #ea7b60;\n",
              "            color:  #000000;\n",
              "        }    #T_f485abde_9655_11ea_968b_0242ac1c0002row18_col11 {\n",
              "            background-color:  #e8765c;\n",
              "            color:  #000000;\n",
              "        }    #T_f485abde_9655_11ea_968b_0242ac1c0002row18_col12 {\n",
              "            background-color:  #dadce0;\n",
              "            color:  #000000;\n",
              "        }    #T_f485abde_9655_11ea_968b_0242ac1c0002row18_col13 {\n",
              "            background-color:  #edd2c3;\n",
              "            color:  #000000;\n",
              "        }    #T_f485abde_9655_11ea_968b_0242ac1c0002row18_col14 {\n",
              "            background-color:  #b2ccfb;\n",
              "            color:  #000000;\n",
              "        }    #T_f485abde_9655_11ea_968b_0242ac1c0002row18_col15 {\n",
              "            background-color:  #7597f6;\n",
              "            color:  #000000;\n",
              "        }    #T_f485abde_9655_11ea_968b_0242ac1c0002row18_col16 {\n",
              "            background-color:  #bed2f6;\n",
              "            color:  #000000;\n",
              "        }    #T_f485abde_9655_11ea_968b_0242ac1c0002row18_col17 {\n",
              "            background-color:  #eed0c0;\n",
              "            color:  #000000;\n",
              "        }    #T_f485abde_9655_11ea_968b_0242ac1c0002row18_col18 {\n",
              "            background-color:  #b40426;\n",
              "            color:  #f1f1f1;\n",
              "        }    #T_f485abde_9655_11ea_968b_0242ac1c0002row18_col19 {\n",
              "            background-color:  #d7dce3;\n",
              "            color:  #000000;\n",
              "        }    #T_f485abde_9655_11ea_968b_0242ac1c0002row19_col0 {\n",
              "            background-color:  #94b6ff;\n",
              "            color:  #000000;\n",
              "        }    #T_f485abde_9655_11ea_968b_0242ac1c0002row19_col1 {\n",
              "            background-color:  #c4d5f3;\n",
              "            color:  #000000;\n",
              "        }    #T_f485abde_9655_11ea_968b_0242ac1c0002row19_col2 {\n",
              "            background-color:  #bad0f8;\n",
              "            color:  #000000;\n",
              "        }    #T_f485abde_9655_11ea_968b_0242ac1c0002row19_col3 {\n",
              "            background-color:  #c5d6f2;\n",
              "            color:  #000000;\n",
              "        }    #T_f485abde_9655_11ea_968b_0242ac1c0002row19_col4 {\n",
              "            background-color:  #d7dce3;\n",
              "            color:  #000000;\n",
              "        }    #T_f485abde_9655_11ea_968b_0242ac1c0002row19_col5 {\n",
              "            background-color:  #ea7b60;\n",
              "            color:  #000000;\n",
              "        }    #T_f485abde_9655_11ea_968b_0242ac1c0002row19_col6 {\n",
              "            background-color:  #b1cbfc;\n",
              "            color:  #000000;\n",
              "        }    #T_f485abde_9655_11ea_968b_0242ac1c0002row19_col7 {\n",
              "            background-color:  #bad0f8;\n",
              "            color:  #000000;\n",
              "        }    #T_f485abde_9655_11ea_968b_0242ac1c0002row19_col8 {\n",
              "            background-color:  #c3d5f4;\n",
              "            color:  #000000;\n",
              "        }    #T_f485abde_9655_11ea_968b_0242ac1c0002row19_col9 {\n",
              "            background-color:  #b2ccfb;\n",
              "            color:  #000000;\n",
              "        }    #T_f485abde_9655_11ea_968b_0242ac1c0002row19_col10 {\n",
              "            background-color:  #cbd8ee;\n",
              "            color:  #000000;\n",
              "        }    #T_f485abde_9655_11ea_968b_0242ac1c0002row19_col11 {\n",
              "            background-color:  #d9dce1;\n",
              "            color:  #000000;\n",
              "        }    #T_f485abde_9655_11ea_968b_0242ac1c0002row19_col12 {\n",
              "            background-color:  #b7cff9;\n",
              "            color:  #000000;\n",
              "        }    #T_f485abde_9655_11ea_968b_0242ac1c0002row19_col13 {\n",
              "            background-color:  #c1d4f4;\n",
              "            color:  #000000;\n",
              "        }    #T_f485abde_9655_11ea_968b_0242ac1c0002row19_col14 {\n",
              "            background-color:  #b5cdfa;\n",
              "            color:  #000000;\n",
              "        }    #T_f485abde_9655_11ea_968b_0242ac1c0002row19_col15 {\n",
              "            background-color:  #93b5fe;\n",
              "            color:  #000000;\n",
              "        }    #T_f485abde_9655_11ea_968b_0242ac1c0002row19_col16 {\n",
              "            background-color:  #a1c0ff;\n",
              "            color:  #000000;\n",
              "        }    #T_f485abde_9655_11ea_968b_0242ac1c0002row19_col17 {\n",
              "            background-color:  #e2dad5;\n",
              "            color:  #000000;\n",
              "        }    #T_f485abde_9655_11ea_968b_0242ac1c0002row19_col18 {\n",
              "            background-color:  #d7dce3;\n",
              "            color:  #000000;\n",
              "        }    #T_f485abde_9655_11ea_968b_0242ac1c0002row19_col19 {\n",
              "            background-color:  #b40426;\n",
              "            color:  #f1f1f1;\n",
              "        }</style><table id=\"T_f485abde_9655_11ea_968b_0242ac1c0002\" ><thead>    <tr>        <th class=\"blank level0\" ></th>        <th class=\"col_heading level0 col0\" >id</th>        <th class=\"col_heading level0 col1\" >price</th>        <th class=\"col_heading level0 col2\" >bedrooms</th>        <th class=\"col_heading level0 col3\" >bathrooms</th>        <th class=\"col_heading level0 col4\" >sqft_living</th>        <th class=\"col_heading level0 col5\" >sqft_lot</th>        <th class=\"col_heading level0 col6\" >floors</th>        <th class=\"col_heading level0 col7\" >waterfront</th>        <th class=\"col_heading level0 col8\" >view</th>        <th class=\"col_heading level0 col9\" >condition</th>        <th class=\"col_heading level0 col10\" >grade</th>        <th class=\"col_heading level0 col11\" >sqft_above</th>        <th class=\"col_heading level0 col12\" >sqft_basement</th>        <th class=\"col_heading level0 col13\" >yr_built</th>        <th class=\"col_heading level0 col14\" >yr_renovated</th>        <th class=\"col_heading level0 col15\" >zipcode</th>        <th class=\"col_heading level0 col16\" >lat</th>        <th class=\"col_heading level0 col17\" >long</th>        <th class=\"col_heading level0 col18\" >sqft_living15</th>        <th class=\"col_heading level0 col19\" >sqft_lot15</th>    </tr></thead><tbody>\n",
              "                <tr>\n",
              "                        <th id=\"T_f485abde_9655_11ea_968b_0242ac1c0002level0_row0\" class=\"row_heading level0 row0\" >id</th>\n",
              "                        <td id=\"T_f485abde_9655_11ea_968b_0242ac1c0002row0_col0\" class=\"data row0 col0\" >1.000000</td>\n",
              "                        <td id=\"T_f485abde_9655_11ea_968b_0242ac1c0002row0_col1\" class=\"data row0 col1\" >-0.016762</td>\n",
              "                        <td id=\"T_f485abde_9655_11ea_968b_0242ac1c0002row0_col2\" class=\"data row0 col2\" >0.001286</td>\n",
              "                        <td id=\"T_f485abde_9655_11ea_968b_0242ac1c0002row0_col3\" class=\"data row0 col3\" >0.005160</td>\n",
              "                        <td id=\"T_f485abde_9655_11ea_968b_0242ac1c0002row0_col4\" class=\"data row0 col4\" >-0.012258</td>\n",
              "                        <td id=\"T_f485abde_9655_11ea_968b_0242ac1c0002row0_col5\" class=\"data row0 col5\" >-0.132109</td>\n",
              "                        <td id=\"T_f485abde_9655_11ea_968b_0242ac1c0002row0_col6\" class=\"data row0 col6\" >0.018525</td>\n",
              "                        <td id=\"T_f485abde_9655_11ea_968b_0242ac1c0002row0_col7\" class=\"data row0 col7\" >-0.002721</td>\n",
              "                        <td id=\"T_f485abde_9655_11ea_968b_0242ac1c0002row0_col8\" class=\"data row0 col8\" >0.011592</td>\n",
              "                        <td id=\"T_f485abde_9655_11ea_968b_0242ac1c0002row0_col9\" class=\"data row0 col9\" >-0.023783</td>\n",
              "                        <td id=\"T_f485abde_9655_11ea_968b_0242ac1c0002row0_col10\" class=\"data row0 col10\" >0.008130</td>\n",
              "                        <td id=\"T_f485abde_9655_11ea_968b_0242ac1c0002row0_col11\" class=\"data row0 col11\" >-0.010842</td>\n",
              "                        <td id=\"T_f485abde_9655_11ea_968b_0242ac1c0002row0_col12\" class=\"data row0 col12\" >-0.005151</td>\n",
              "                        <td id=\"T_f485abde_9655_11ea_968b_0242ac1c0002row0_col13\" class=\"data row0 col13\" >0.021380</td>\n",
              "                        <td id=\"T_f485abde_9655_11ea_968b_0242ac1c0002row0_col14\" class=\"data row0 col14\" >-0.016907</td>\n",
              "                        <td id=\"T_f485abde_9655_11ea_968b_0242ac1c0002row0_col15\" class=\"data row0 col15\" >-0.008224</td>\n",
              "                        <td id=\"T_f485abde_9655_11ea_968b_0242ac1c0002row0_col16\" class=\"data row0 col16\" >-0.001891</td>\n",
              "                        <td id=\"T_f485abde_9655_11ea_968b_0242ac1c0002row0_col17\" class=\"data row0 col17\" >0.020799</td>\n",
              "                        <td id=\"T_f485abde_9655_11ea_968b_0242ac1c0002row0_col18\" class=\"data row0 col18\" >-0.002901</td>\n",
              "                        <td id=\"T_f485abde_9655_11ea_968b_0242ac1c0002row0_col19\" class=\"data row0 col19\" >-0.138798</td>\n",
              "            </tr>\n",
              "            <tr>\n",
              "                        <th id=\"T_f485abde_9655_11ea_968b_0242ac1c0002level0_row1\" class=\"row_heading level0 row1\" >price</th>\n",
              "                        <td id=\"T_f485abde_9655_11ea_968b_0242ac1c0002row1_col0\" class=\"data row1 col0\" >-0.016762</td>\n",
              "                        <td id=\"T_f485abde_9655_11ea_968b_0242ac1c0002row1_col1\" class=\"data row1 col1\" >1.000000</td>\n",
              "                        <td id=\"T_f485abde_9655_11ea_968b_0242ac1c0002row1_col2\" class=\"data row1 col2\" >0.308350</td>\n",
              "                        <td id=\"T_f485abde_9655_11ea_968b_0242ac1c0002row1_col3\" class=\"data row1 col3\" >0.525138</td>\n",
              "                        <td id=\"T_f485abde_9655_11ea_968b_0242ac1c0002row1_col4\" class=\"data row1 col4\" >0.702035</td>\n",
              "                        <td id=\"T_f485abde_9655_11ea_968b_0242ac1c0002row1_col5\" class=\"data row1 col5\" >0.089661</td>\n",
              "                        <td id=\"T_f485abde_9655_11ea_968b_0242ac1c0002row1_col6\" class=\"data row1 col6\" >0.256794</td>\n",
              "                        <td id=\"T_f485abde_9655_11ea_968b_0242ac1c0002row1_col7\" class=\"data row1 col7\" >0.266369</td>\n",
              "                        <td id=\"T_f485abde_9655_11ea_968b_0242ac1c0002row1_col8\" class=\"data row1 col8\" >0.397293</td>\n",
              "                        <td id=\"T_f485abde_9655_11ea_968b_0242ac1c0002row1_col9\" class=\"data row1 col9\" >0.036362</td>\n",
              "                        <td id=\"T_f485abde_9655_11ea_968b_0242ac1c0002row1_col10\" class=\"data row1 col10\" >0.667434</td>\n",
              "                        <td id=\"T_f485abde_9655_11ea_968b_0242ac1c0002row1_col11\" class=\"data row1 col11\" >0.605567</td>\n",
              "                        <td id=\"T_f485abde_9655_11ea_968b_0242ac1c0002row1_col12\" class=\"data row1 col12\" >0.323816</td>\n",
              "                        <td id=\"T_f485abde_9655_11ea_968b_0242ac1c0002row1_col13\" class=\"data row1 col13\" >0.054012</td>\n",
              "                        <td id=\"T_f485abde_9655_11ea_968b_0242ac1c0002row1_col14\" class=\"data row1 col14\" >0.126434</td>\n",
              "                        <td id=\"T_f485abde_9655_11ea_968b_0242ac1c0002row1_col15\" class=\"data row1 col15\" >-0.053203</td>\n",
              "                        <td id=\"T_f485abde_9655_11ea_968b_0242ac1c0002row1_col16\" class=\"data row1 col16\" >0.307003</td>\n",
              "                        <td id=\"T_f485abde_9655_11ea_968b_0242ac1c0002row1_col17\" class=\"data row1 col17\" >0.021626</td>\n",
              "                        <td id=\"T_f485abde_9655_11ea_968b_0242ac1c0002row1_col18\" class=\"data row1 col18\" >0.585379</td>\n",
              "                        <td id=\"T_f485abde_9655_11ea_968b_0242ac1c0002row1_col19\" class=\"data row1 col19\" >0.082447</td>\n",
              "            </tr>\n",
              "            <tr>\n",
              "                        <th id=\"T_f485abde_9655_11ea_968b_0242ac1c0002level0_row2\" class=\"row_heading level0 row2\" >bedrooms</th>\n",
              "                        <td id=\"T_f485abde_9655_11ea_968b_0242ac1c0002row2_col0\" class=\"data row2 col0\" >0.001286</td>\n",
              "                        <td id=\"T_f485abde_9655_11ea_968b_0242ac1c0002row2_col1\" class=\"data row2 col1\" >0.308350</td>\n",
              "                        <td id=\"T_f485abde_9655_11ea_968b_0242ac1c0002row2_col2\" class=\"data row2 col2\" >1.000000</td>\n",
              "                        <td id=\"T_f485abde_9655_11ea_968b_0242ac1c0002row2_col3\" class=\"data row2 col3\" >0.515884</td>\n",
              "                        <td id=\"T_f485abde_9655_11ea_968b_0242ac1c0002row2_col4\" class=\"data row2 col4\" >0.576671</td>\n",
              "                        <td id=\"T_f485abde_9655_11ea_968b_0242ac1c0002row2_col5\" class=\"data row2 col5\" >0.031703</td>\n",
              "                        <td id=\"T_f485abde_9655_11ea_968b_0242ac1c0002row2_col6\" class=\"data row2 col6\" >0.175429</td>\n",
              "                        <td id=\"T_f485abde_9655_11ea_968b_0242ac1c0002row2_col7\" class=\"data row2 col7\" >-0.006582</td>\n",
              "                        <td id=\"T_f485abde_9655_11ea_968b_0242ac1c0002row2_col8\" class=\"data row2 col8\" >0.079532</td>\n",
              "                        <td id=\"T_f485abde_9655_11ea_968b_0242ac1c0002row2_col9\" class=\"data row2 col9\" >0.028472</td>\n",
              "                        <td id=\"T_f485abde_9655_11ea_968b_0242ac1c0002row2_col10\" class=\"data row2 col10\" >0.356967</td>\n",
              "                        <td id=\"T_f485abde_9655_11ea_968b_0242ac1c0002row2_col11\" class=\"data row2 col11\" >0.477600</td>\n",
              "                        <td id=\"T_f485abde_9655_11ea_968b_0242ac1c0002row2_col12\" class=\"data row2 col12\" >0.303093</td>\n",
              "                        <td id=\"T_f485abde_9655_11ea_968b_0242ac1c0002row2_col13\" class=\"data row2 col13\" >0.154178</td>\n",
              "                        <td id=\"T_f485abde_9655_11ea_968b_0242ac1c0002row2_col14\" class=\"data row2 col14\" >0.018841</td>\n",
              "                        <td id=\"T_f485abde_9655_11ea_968b_0242ac1c0002row2_col15\" class=\"data row2 col15\" >-0.152668</td>\n",
              "                        <td id=\"T_f485abde_9655_11ea_968b_0242ac1c0002row2_col16\" class=\"data row2 col16\" >-0.008931</td>\n",
              "                        <td id=\"T_f485abde_9655_11ea_968b_0242ac1c0002row2_col17\" class=\"data row2 col17\" >0.129473</td>\n",
              "                        <td id=\"T_f485abde_9655_11ea_968b_0242ac1c0002row2_col18\" class=\"data row2 col18\" >0.391638</td>\n",
              "                        <td id=\"T_f485abde_9655_11ea_968b_0242ac1c0002row2_col19\" class=\"data row2 col19\" >0.029244</td>\n",
              "            </tr>\n",
              "            <tr>\n",
              "                        <th id=\"T_f485abde_9655_11ea_968b_0242ac1c0002level0_row3\" class=\"row_heading level0 row3\" >bathrooms</th>\n",
              "                        <td id=\"T_f485abde_9655_11ea_968b_0242ac1c0002row3_col0\" class=\"data row3 col0\" >0.005160</td>\n",
              "                        <td id=\"T_f485abde_9655_11ea_968b_0242ac1c0002row3_col1\" class=\"data row3 col1\" >0.525138</td>\n",
              "                        <td id=\"T_f485abde_9655_11ea_968b_0242ac1c0002row3_col2\" class=\"data row3 col2\" >0.515884</td>\n",
              "                        <td id=\"T_f485abde_9655_11ea_968b_0242ac1c0002row3_col3\" class=\"data row3 col3\" >1.000000</td>\n",
              "                        <td id=\"T_f485abde_9655_11ea_968b_0242ac1c0002row3_col4\" class=\"data row3 col4\" >0.754665</td>\n",
              "                        <td id=\"T_f485abde_9655_11ea_968b_0242ac1c0002row3_col5\" class=\"data row3 col5\" >0.087740</td>\n",
              "                        <td id=\"T_f485abde_9655_11ea_968b_0242ac1c0002row3_col6\" class=\"data row3 col6\" >0.500653</td>\n",
              "                        <td id=\"T_f485abde_9655_11ea_968b_0242ac1c0002row3_col7\" class=\"data row3 col7\" >0.063744</td>\n",
              "                        <td id=\"T_f485abde_9655_11ea_968b_0242ac1c0002row3_col8\" class=\"data row3 col8\" >0.187737</td>\n",
              "                        <td id=\"T_f485abde_9655_11ea_968b_0242ac1c0002row3_col9\" class=\"data row3 col9\" >-0.124982</td>\n",
              "                        <td id=\"T_f485abde_9655_11ea_968b_0242ac1c0002row3_col10\" class=\"data row3 col10\" >0.664983</td>\n",
              "                        <td id=\"T_f485abde_9655_11ea_968b_0242ac1c0002row3_col11\" class=\"data row3 col11\" >0.685342</td>\n",
              "                        <td id=\"T_f485abde_9655_11ea_968b_0242ac1c0002row3_col12\" class=\"data row3 col12\" >0.283770</td>\n",
              "                        <td id=\"T_f485abde_9655_11ea_968b_0242ac1c0002row3_col13\" class=\"data row3 col13\" >0.506019</td>\n",
              "                        <td id=\"T_f485abde_9655_11ea_968b_0242ac1c0002row3_col14\" class=\"data row3 col14\" >0.050739</td>\n",
              "                        <td id=\"T_f485abde_9655_11ea_968b_0242ac1c0002row3_col15\" class=\"data row3 col15\" >-0.203866</td>\n",
              "                        <td id=\"T_f485abde_9655_11ea_968b_0242ac1c0002row3_col16\" class=\"data row3 col16\" >0.024573</td>\n",
              "                        <td id=\"T_f485abde_9655_11ea_968b_0242ac1c0002row3_col17\" class=\"data row3 col17\" >0.223042</td>\n",
              "                        <td id=\"T_f485abde_9655_11ea_968b_0242ac1c0002row3_col18\" class=\"data row3 col18\" >0.568634</td>\n",
              "                        <td id=\"T_f485abde_9655_11ea_968b_0242ac1c0002row3_col19\" class=\"data row3 col19\" >0.087175</td>\n",
              "            </tr>\n",
              "            <tr>\n",
              "                        <th id=\"T_f485abde_9655_11ea_968b_0242ac1c0002level0_row4\" class=\"row_heading level0 row4\" >sqft_living</th>\n",
              "                        <td id=\"T_f485abde_9655_11ea_968b_0242ac1c0002row4_col0\" class=\"data row4 col0\" >-0.012258</td>\n",
              "                        <td id=\"T_f485abde_9655_11ea_968b_0242ac1c0002row4_col1\" class=\"data row4 col1\" >0.702035</td>\n",
              "                        <td id=\"T_f485abde_9655_11ea_968b_0242ac1c0002row4_col2\" class=\"data row4 col2\" >0.576671</td>\n",
              "                        <td id=\"T_f485abde_9655_11ea_968b_0242ac1c0002row4_col3\" class=\"data row4 col3\" >0.754665</td>\n",
              "                        <td id=\"T_f485abde_9655_11ea_968b_0242ac1c0002row4_col4\" class=\"data row4 col4\" >1.000000</td>\n",
              "                        <td id=\"T_f485abde_9655_11ea_968b_0242ac1c0002row4_col5\" class=\"data row4 col5\" >0.172826</td>\n",
              "                        <td id=\"T_f485abde_9655_11ea_968b_0242ac1c0002row4_col6\" class=\"data row4 col6\" >0.353949</td>\n",
              "                        <td id=\"T_f485abde_9655_11ea_968b_0242ac1c0002row4_col7\" class=\"data row4 col7\" >0.103818</td>\n",
              "                        <td id=\"T_f485abde_9655_11ea_968b_0242ac1c0002row4_col8\" class=\"data row4 col8\" >0.284611</td>\n",
              "                        <td id=\"T_f485abde_9655_11ea_968b_0242ac1c0002row4_col9\" class=\"data row4 col9\" >-0.058753</td>\n",
              "                        <td id=\"T_f485abde_9655_11ea_968b_0242ac1c0002row4_col10\" class=\"data row4 col10\" >0.762704</td>\n",
              "                        <td id=\"T_f485abde_9655_11ea_968b_0242ac1c0002row4_col11\" class=\"data row4 col11\" >0.876597</td>\n",
              "                        <td id=\"T_f485abde_9655_11ea_968b_0242ac1c0002row4_col12\" class=\"data row4 col12\" >0.435043</td>\n",
              "                        <td id=\"T_f485abde_9655_11ea_968b_0242ac1c0002row4_col13\" class=\"data row4 col13\" >0.318049</td>\n",
              "                        <td id=\"T_f485abde_9655_11ea_968b_0242ac1c0002row4_col14\" class=\"data row4 col14\" >0.055363</td>\n",
              "                        <td id=\"T_f485abde_9655_11ea_968b_0242ac1c0002row4_col15\" class=\"data row4 col15\" >-0.199430</td>\n",
              "                        <td id=\"T_f485abde_9655_11ea_968b_0242ac1c0002row4_col16\" class=\"data row4 col16\" >0.052529</td>\n",
              "                        <td id=\"T_f485abde_9655_11ea_968b_0242ac1c0002row4_col17\" class=\"data row4 col17\" >0.240223</td>\n",
              "                        <td id=\"T_f485abde_9655_11ea_968b_0242ac1c0002row4_col18\" class=\"data row4 col18\" >0.756420</td>\n",
              "                        <td id=\"T_f485abde_9655_11ea_968b_0242ac1c0002row4_col19\" class=\"data row4 col19\" >0.183286</td>\n",
              "            </tr>\n",
              "            <tr>\n",
              "                        <th id=\"T_f485abde_9655_11ea_968b_0242ac1c0002level0_row5\" class=\"row_heading level0 row5\" >sqft_lot</th>\n",
              "                        <td id=\"T_f485abde_9655_11ea_968b_0242ac1c0002row5_col0\" class=\"data row5 col0\" >-0.132109</td>\n",
              "                        <td id=\"T_f485abde_9655_11ea_968b_0242ac1c0002row5_col1\" class=\"data row5 col1\" >0.089661</td>\n",
              "                        <td id=\"T_f485abde_9655_11ea_968b_0242ac1c0002row5_col2\" class=\"data row5 col2\" >0.031703</td>\n",
              "                        <td id=\"T_f485abde_9655_11ea_968b_0242ac1c0002row5_col3\" class=\"data row5 col3\" >0.087740</td>\n",
              "                        <td id=\"T_f485abde_9655_11ea_968b_0242ac1c0002row5_col4\" class=\"data row5 col4\" >0.172826</td>\n",
              "                        <td id=\"T_f485abde_9655_11ea_968b_0242ac1c0002row5_col5\" class=\"data row5 col5\" >1.000000</td>\n",
              "                        <td id=\"T_f485abde_9655_11ea_968b_0242ac1c0002row5_col6\" class=\"data row5 col6\" >-0.005201</td>\n",
              "                        <td id=\"T_f485abde_9655_11ea_968b_0242ac1c0002row5_col7\" class=\"data row5 col7\" >0.021604</td>\n",
              "                        <td id=\"T_f485abde_9655_11ea_968b_0242ac1c0002row5_col8\" class=\"data row5 col8\" >0.074710</td>\n",
              "                        <td id=\"T_f485abde_9655_11ea_968b_0242ac1c0002row5_col9\" class=\"data row5 col9\" >-0.008958</td>\n",
              "                        <td id=\"T_f485abde_9655_11ea_968b_0242ac1c0002row5_col10\" class=\"data row5 col10\" >0.113621</td>\n",
              "                        <td id=\"T_f485abde_9655_11ea_968b_0242ac1c0002row5_col11\" class=\"data row5 col11\" >0.183512</td>\n",
              "                        <td id=\"T_f485abde_9655_11ea_968b_0242ac1c0002row5_col12\" class=\"data row5 col12\" >0.015286</td>\n",
              "                        <td id=\"T_f485abde_9655_11ea_968b_0242ac1c0002row5_col13\" class=\"data row5 col13\" >0.053080</td>\n",
              "                        <td id=\"T_f485abde_9655_11ea_968b_0242ac1c0002row5_col14\" class=\"data row5 col14\" >0.007644</td>\n",
              "                        <td id=\"T_f485abde_9655_11ea_968b_0242ac1c0002row5_col15\" class=\"data row5 col15\" >-0.129574</td>\n",
              "                        <td id=\"T_f485abde_9655_11ea_968b_0242ac1c0002row5_col16\" class=\"data row5 col16\" >-0.085683</td>\n",
              "                        <td id=\"T_f485abde_9655_11ea_968b_0242ac1c0002row5_col17\" class=\"data row5 col17\" >0.229521</td>\n",
              "                        <td id=\"T_f485abde_9655_11ea_968b_0242ac1c0002row5_col18\" class=\"data row5 col18\" >0.144608</td>\n",
              "                        <td id=\"T_f485abde_9655_11ea_968b_0242ac1c0002row5_col19\" class=\"data row5 col19\" >0.718557</td>\n",
              "            </tr>\n",
              "            <tr>\n",
              "                        <th id=\"T_f485abde_9655_11ea_968b_0242ac1c0002level0_row6\" class=\"row_heading level0 row6\" >floors</th>\n",
              "                        <td id=\"T_f485abde_9655_11ea_968b_0242ac1c0002row6_col0\" class=\"data row6 col0\" >0.018525</td>\n",
              "                        <td id=\"T_f485abde_9655_11ea_968b_0242ac1c0002row6_col1\" class=\"data row6 col1\" >0.256794</td>\n",
              "                        <td id=\"T_f485abde_9655_11ea_968b_0242ac1c0002row6_col2\" class=\"data row6 col2\" >0.175429</td>\n",
              "                        <td id=\"T_f485abde_9655_11ea_968b_0242ac1c0002row6_col3\" class=\"data row6 col3\" >0.500653</td>\n",
              "                        <td id=\"T_f485abde_9655_11ea_968b_0242ac1c0002row6_col4\" class=\"data row6 col4\" >0.353949</td>\n",
              "                        <td id=\"T_f485abde_9655_11ea_968b_0242ac1c0002row6_col5\" class=\"data row6 col5\" >-0.005201</td>\n",
              "                        <td id=\"T_f485abde_9655_11ea_968b_0242ac1c0002row6_col6\" class=\"data row6 col6\" >1.000000</td>\n",
              "                        <td id=\"T_f485abde_9655_11ea_968b_0242ac1c0002row6_col7\" class=\"data row6 col7\" >0.023698</td>\n",
              "                        <td id=\"T_f485abde_9655_11ea_968b_0242ac1c0002row6_col8\" class=\"data row6 col8\" >0.029444</td>\n",
              "                        <td id=\"T_f485abde_9655_11ea_968b_0242ac1c0002row6_col9\" class=\"data row6 col9\" >-0.263768</td>\n",
              "                        <td id=\"T_f485abde_9655_11ea_968b_0242ac1c0002row6_col10\" class=\"data row6 col10\" >0.458183</td>\n",
              "                        <td id=\"T_f485abde_9655_11ea_968b_0242ac1c0002row6_col11\" class=\"data row6 col11\" >0.523885</td>\n",
              "                        <td id=\"T_f485abde_9655_11ea_968b_0242ac1c0002row6_col12\" class=\"data row6 col12\" >-0.245705</td>\n",
              "                        <td id=\"T_f485abde_9655_11ea_968b_0242ac1c0002row6_col13\" class=\"data row6 col13\" >0.489319</td>\n",
              "                        <td id=\"T_f485abde_9655_11ea_968b_0242ac1c0002row6_col14\" class=\"data row6 col14\" >0.006338</td>\n",
              "                        <td id=\"T_f485abde_9655_11ea_968b_0242ac1c0002row6_col15\" class=\"data row6 col15\" >-0.059121</td>\n",
              "                        <td id=\"T_f485abde_9655_11ea_968b_0242ac1c0002row6_col16\" class=\"data row6 col16\" >0.049614</td>\n",
              "                        <td id=\"T_f485abde_9655_11ea_968b_0242ac1c0002row6_col17\" class=\"data row6 col17\" >0.125419</td>\n",
              "                        <td id=\"T_f485abde_9655_11ea_968b_0242ac1c0002row6_col18\" class=\"data row6 col18\" >0.279885</td>\n",
              "                        <td id=\"T_f485abde_9655_11ea_968b_0242ac1c0002row6_col19\" class=\"data row6 col19\" >-0.011269</td>\n",
              "            </tr>\n",
              "            <tr>\n",
              "                        <th id=\"T_f485abde_9655_11ea_968b_0242ac1c0002level0_row7\" class=\"row_heading level0 row7\" >waterfront</th>\n",
              "                        <td id=\"T_f485abde_9655_11ea_968b_0242ac1c0002row7_col0\" class=\"data row7 col0\" >-0.002721</td>\n",
              "                        <td id=\"T_f485abde_9655_11ea_968b_0242ac1c0002row7_col1\" class=\"data row7 col1\" >0.266369</td>\n",
              "                        <td id=\"T_f485abde_9655_11ea_968b_0242ac1c0002row7_col2\" class=\"data row7 col2\" >-0.006582</td>\n",
              "                        <td id=\"T_f485abde_9655_11ea_968b_0242ac1c0002row7_col3\" class=\"data row7 col3\" >0.063744</td>\n",
              "                        <td id=\"T_f485abde_9655_11ea_968b_0242ac1c0002row7_col4\" class=\"data row7 col4\" >0.103818</td>\n",
              "                        <td id=\"T_f485abde_9655_11ea_968b_0242ac1c0002row7_col5\" class=\"data row7 col5\" >0.021604</td>\n",
              "                        <td id=\"T_f485abde_9655_11ea_968b_0242ac1c0002row7_col6\" class=\"data row7 col6\" >0.023698</td>\n",
              "                        <td id=\"T_f485abde_9655_11ea_968b_0242ac1c0002row7_col7\" class=\"data row7 col7\" >1.000000</td>\n",
              "                        <td id=\"T_f485abde_9655_11ea_968b_0242ac1c0002row7_col8\" class=\"data row7 col8\" >0.401857</td>\n",
              "                        <td id=\"T_f485abde_9655_11ea_968b_0242ac1c0002row7_col9\" class=\"data row7 col9\" >0.016653</td>\n",
              "                        <td id=\"T_f485abde_9655_11ea_968b_0242ac1c0002row7_col10\" class=\"data row7 col10\" >0.082775</td>\n",
              "                        <td id=\"T_f485abde_9655_11ea_968b_0242ac1c0002row7_col11\" class=\"data row7 col11\" >0.072075</td>\n",
              "                        <td id=\"T_f485abde_9655_11ea_968b_0242ac1c0002row7_col12\" class=\"data row7 col12\" >0.080588</td>\n",
              "                        <td id=\"T_f485abde_9655_11ea_968b_0242ac1c0002row7_col13\" class=\"data row7 col13\" >-0.026161</td>\n",
              "                        <td id=\"T_f485abde_9655_11ea_968b_0242ac1c0002row7_col14\" class=\"data row7 col14\" >0.092885</td>\n",
              "                        <td id=\"T_f485abde_9655_11ea_968b_0242ac1c0002row7_col15\" class=\"data row7 col15\" >0.030285</td>\n",
              "                        <td id=\"T_f485abde_9655_11ea_968b_0242ac1c0002row7_col16\" class=\"data row7 col16\" >-0.014274</td>\n",
              "                        <td id=\"T_f485abde_9655_11ea_968b_0242ac1c0002row7_col17\" class=\"data row7 col17\" >-0.041910</td>\n",
              "                        <td id=\"T_f485abde_9655_11ea_968b_0242ac1c0002row7_col18\" class=\"data row7 col18\" >0.086463</td>\n",
              "                        <td id=\"T_f485abde_9655_11ea_968b_0242ac1c0002row7_col19\" class=\"data row7 col19\" >0.030703</td>\n",
              "            </tr>\n",
              "            <tr>\n",
              "                        <th id=\"T_f485abde_9655_11ea_968b_0242ac1c0002level0_row8\" class=\"row_heading level0 row8\" >view</th>\n",
              "                        <td id=\"T_f485abde_9655_11ea_968b_0242ac1c0002row8_col0\" class=\"data row8 col0\" >0.011592</td>\n",
              "                        <td id=\"T_f485abde_9655_11ea_968b_0242ac1c0002row8_col1\" class=\"data row8 col1\" >0.397293</td>\n",
              "                        <td id=\"T_f485abde_9655_11ea_968b_0242ac1c0002row8_col2\" class=\"data row8 col2\" >0.079532</td>\n",
              "                        <td id=\"T_f485abde_9655_11ea_968b_0242ac1c0002row8_col3\" class=\"data row8 col3\" >0.187737</td>\n",
              "                        <td id=\"T_f485abde_9655_11ea_968b_0242ac1c0002row8_col4\" class=\"data row8 col4\" >0.284611</td>\n",
              "                        <td id=\"T_f485abde_9655_11ea_968b_0242ac1c0002row8_col5\" class=\"data row8 col5\" >0.074710</td>\n",
              "                        <td id=\"T_f485abde_9655_11ea_968b_0242ac1c0002row8_col6\" class=\"data row8 col6\" >0.029444</td>\n",
              "                        <td id=\"T_f485abde_9655_11ea_968b_0242ac1c0002row8_col7\" class=\"data row8 col7\" >0.401857</td>\n",
              "                        <td id=\"T_f485abde_9655_11ea_968b_0242ac1c0002row8_col8\" class=\"data row8 col8\" >1.000000</td>\n",
              "                        <td id=\"T_f485abde_9655_11ea_968b_0242ac1c0002row8_col9\" class=\"data row8 col9\" >0.045990</td>\n",
              "                        <td id=\"T_f485abde_9655_11ea_968b_0242ac1c0002row8_col10\" class=\"data row8 col10\" >0.251321</td>\n",
              "                        <td id=\"T_f485abde_9655_11ea_968b_0242ac1c0002row8_col11\" class=\"data row8 col11\" >0.167649</td>\n",
              "                        <td id=\"T_f485abde_9655_11ea_968b_0242ac1c0002row8_col12\" class=\"data row8 col12\" >0.276947</td>\n",
              "                        <td id=\"T_f485abde_9655_11ea_968b_0242ac1c0002row8_col13\" class=\"data row8 col13\" >-0.053440</td>\n",
              "                        <td id=\"T_f485abde_9655_11ea_968b_0242ac1c0002row8_col14\" class=\"data row8 col14\" >0.103917</td>\n",
              "                        <td id=\"T_f485abde_9655_11ea_968b_0242ac1c0002row8_col15\" class=\"data row8 col15\" >0.084827</td>\n",
              "                        <td id=\"T_f485abde_9655_11ea_968b_0242ac1c0002row8_col16\" class=\"data row8 col16\" >0.006157</td>\n",
              "                        <td id=\"T_f485abde_9655_11ea_968b_0242ac1c0002row8_col17\" class=\"data row8 col17\" >-0.078400</td>\n",
              "                        <td id=\"T_f485abde_9655_11ea_968b_0242ac1c0002row8_col18\" class=\"data row8 col18\" >0.280439</td>\n",
              "                        <td id=\"T_f485abde_9655_11ea_968b_0242ac1c0002row8_col19\" class=\"data row8 col19\" >0.072575</td>\n",
              "            </tr>\n",
              "            <tr>\n",
              "                        <th id=\"T_f485abde_9655_11ea_968b_0242ac1c0002level0_row9\" class=\"row_heading level0 row9\" >condition</th>\n",
              "                        <td id=\"T_f485abde_9655_11ea_968b_0242ac1c0002row9_col0\" class=\"data row9 col0\" >-0.023783</td>\n",
              "                        <td id=\"T_f485abde_9655_11ea_968b_0242ac1c0002row9_col1\" class=\"data row9 col1\" >0.036362</td>\n",
              "                        <td id=\"T_f485abde_9655_11ea_968b_0242ac1c0002row9_col2\" class=\"data row9 col2\" >0.028472</td>\n",
              "                        <td id=\"T_f485abde_9655_11ea_968b_0242ac1c0002row9_col3\" class=\"data row9 col3\" >-0.124982</td>\n",
              "                        <td id=\"T_f485abde_9655_11ea_968b_0242ac1c0002row9_col4\" class=\"data row9 col4\" >-0.058753</td>\n",
              "                        <td id=\"T_f485abde_9655_11ea_968b_0242ac1c0002row9_col5\" class=\"data row9 col5\" >-0.008958</td>\n",
              "                        <td id=\"T_f485abde_9655_11ea_968b_0242ac1c0002row9_col6\" class=\"data row9 col6\" >-0.263768</td>\n",
              "                        <td id=\"T_f485abde_9655_11ea_968b_0242ac1c0002row9_col7\" class=\"data row9 col7\" >0.016653</td>\n",
              "                        <td id=\"T_f485abde_9655_11ea_968b_0242ac1c0002row9_col8\" class=\"data row9 col8\" >0.045990</td>\n",
              "                        <td id=\"T_f485abde_9655_11ea_968b_0242ac1c0002row9_col9\" class=\"data row9 col9\" >1.000000</td>\n",
              "                        <td id=\"T_f485abde_9655_11ea_968b_0242ac1c0002row9_col10\" class=\"data row9 col10\" >-0.144674</td>\n",
              "                        <td id=\"T_f485abde_9655_11ea_968b_0242ac1c0002row9_col11\" class=\"data row9 col11\" >-0.158214</td>\n",
              "                        <td id=\"T_f485abde_9655_11ea_968b_0242ac1c0002row9_col12\" class=\"data row9 col12\" >0.174105</td>\n",
              "                        <td id=\"T_f485abde_9655_11ea_968b_0242ac1c0002row9_col13\" class=\"data row9 col13\" >-0.361417</td>\n",
              "                        <td id=\"T_f485abde_9655_11ea_968b_0242ac1c0002row9_col14\" class=\"data row9 col14\" >-0.060618</td>\n",
              "                        <td id=\"T_f485abde_9655_11ea_968b_0242ac1c0002row9_col15\" class=\"data row9 col15\" >0.003026</td>\n",
              "                        <td id=\"T_f485abde_9655_11ea_968b_0242ac1c0002row9_col16\" class=\"data row9 col16\" >-0.014941</td>\n",
              "                        <td id=\"T_f485abde_9655_11ea_968b_0242ac1c0002row9_col17\" class=\"data row9 col17\" >-0.106500</td>\n",
              "                        <td id=\"T_f485abde_9655_11ea_968b_0242ac1c0002row9_col18\" class=\"data row9 col18\" >-0.092824</td>\n",
              "                        <td id=\"T_f485abde_9655_11ea_968b_0242ac1c0002row9_col19\" class=\"data row9 col19\" >-0.003406</td>\n",
              "            </tr>\n",
              "            <tr>\n",
              "                        <th id=\"T_f485abde_9655_11ea_968b_0242ac1c0002level0_row10\" class=\"row_heading level0 row10\" >grade</th>\n",
              "                        <td id=\"T_f485abde_9655_11ea_968b_0242ac1c0002row10_col0\" class=\"data row10 col0\" >0.008130</td>\n",
              "                        <td id=\"T_f485abde_9655_11ea_968b_0242ac1c0002row10_col1\" class=\"data row10 col1\" >0.667434</td>\n",
              "                        <td id=\"T_f485abde_9655_11ea_968b_0242ac1c0002row10_col2\" class=\"data row10 col2\" >0.356967</td>\n",
              "                        <td id=\"T_f485abde_9655_11ea_968b_0242ac1c0002row10_col3\" class=\"data row10 col3\" >0.664983</td>\n",
              "                        <td id=\"T_f485abde_9655_11ea_968b_0242ac1c0002row10_col4\" class=\"data row10 col4\" >0.762704</td>\n",
              "                        <td id=\"T_f485abde_9655_11ea_968b_0242ac1c0002row10_col5\" class=\"data row10 col5\" >0.113621</td>\n",
              "                        <td id=\"T_f485abde_9655_11ea_968b_0242ac1c0002row10_col6\" class=\"data row10 col6\" >0.458183</td>\n",
              "                        <td id=\"T_f485abde_9655_11ea_968b_0242ac1c0002row10_col7\" class=\"data row10 col7\" >0.082775</td>\n",
              "                        <td id=\"T_f485abde_9655_11ea_968b_0242ac1c0002row10_col8\" class=\"data row10 col8\" >0.251321</td>\n",
              "                        <td id=\"T_f485abde_9655_11ea_968b_0242ac1c0002row10_col9\" class=\"data row10 col9\" >-0.144674</td>\n",
              "                        <td id=\"T_f485abde_9655_11ea_968b_0242ac1c0002row10_col10\" class=\"data row10 col10\" >1.000000</td>\n",
              "                        <td id=\"T_f485abde_9655_11ea_968b_0242ac1c0002row10_col11\" class=\"data row10 col11\" >0.755923</td>\n",
              "                        <td id=\"T_f485abde_9655_11ea_968b_0242ac1c0002row10_col12\" class=\"data row10 col12\" >0.168392</td>\n",
              "                        <td id=\"T_f485abde_9655_11ea_968b_0242ac1c0002row10_col13\" class=\"data row10 col13\" >0.446963</td>\n",
              "                        <td id=\"T_f485abde_9655_11ea_968b_0242ac1c0002row10_col14\" class=\"data row10 col14\" >0.014414</td>\n",
              "                        <td id=\"T_f485abde_9655_11ea_968b_0242ac1c0002row10_col15\" class=\"data row10 col15\" >-0.184862</td>\n",
              "                        <td id=\"T_f485abde_9655_11ea_968b_0242ac1c0002row10_col16\" class=\"data row10 col16\" >0.114084</td>\n",
              "                        <td id=\"T_f485abde_9655_11ea_968b_0242ac1c0002row10_col17\" class=\"data row10 col17\" >0.198372</td>\n",
              "                        <td id=\"T_f485abde_9655_11ea_968b_0242ac1c0002row10_col18\" class=\"data row10 col18\" >0.713202</td>\n",
              "                        <td id=\"T_f485abde_9655_11ea_968b_0242ac1c0002row10_col19\" class=\"data row10 col19\" >0.119248</td>\n",
              "            </tr>\n",
              "            <tr>\n",
              "                        <th id=\"T_f485abde_9655_11ea_968b_0242ac1c0002level0_row11\" class=\"row_heading level0 row11\" >sqft_above</th>\n",
              "                        <td id=\"T_f485abde_9655_11ea_968b_0242ac1c0002row11_col0\" class=\"data row11 col0\" >-0.010842</td>\n",
              "                        <td id=\"T_f485abde_9655_11ea_968b_0242ac1c0002row11_col1\" class=\"data row11 col1\" >0.605567</td>\n",
              "                        <td id=\"T_f485abde_9655_11ea_968b_0242ac1c0002row11_col2\" class=\"data row11 col2\" >0.477600</td>\n",
              "                        <td id=\"T_f485abde_9655_11ea_968b_0242ac1c0002row11_col3\" class=\"data row11 col3\" >0.685342</td>\n",
              "                        <td id=\"T_f485abde_9655_11ea_968b_0242ac1c0002row11_col4\" class=\"data row11 col4\" >0.876597</td>\n",
              "                        <td id=\"T_f485abde_9655_11ea_968b_0242ac1c0002row11_col5\" class=\"data row11 col5\" >0.183512</td>\n",
              "                        <td id=\"T_f485abde_9655_11ea_968b_0242ac1c0002row11_col6\" class=\"data row11 col6\" >0.523885</td>\n",
              "                        <td id=\"T_f485abde_9655_11ea_968b_0242ac1c0002row11_col7\" class=\"data row11 col7\" >0.072075</td>\n",
              "                        <td id=\"T_f485abde_9655_11ea_968b_0242ac1c0002row11_col8\" class=\"data row11 col8\" >0.167649</td>\n",
              "                        <td id=\"T_f485abde_9655_11ea_968b_0242ac1c0002row11_col9\" class=\"data row11 col9\" >-0.158214</td>\n",
              "                        <td id=\"T_f485abde_9655_11ea_968b_0242ac1c0002row11_col10\" class=\"data row11 col10\" >0.755923</td>\n",
              "                        <td id=\"T_f485abde_9655_11ea_968b_0242ac1c0002row11_col11\" class=\"data row11 col11\" >1.000000</td>\n",
              "                        <td id=\"T_f485abde_9655_11ea_968b_0242ac1c0002row11_col12\" class=\"data row11 col12\" >-0.051943</td>\n",
              "                        <td id=\"T_f485abde_9655_11ea_968b_0242ac1c0002row11_col13\" class=\"data row11 col13\" >0.423898</td>\n",
              "                        <td id=\"T_f485abde_9655_11ea_968b_0242ac1c0002row11_col14\" class=\"data row11 col14\" >0.023285</td>\n",
              "                        <td id=\"T_f485abde_9655_11ea_968b_0242ac1c0002row11_col15\" class=\"data row11 col15\" >-0.261190</td>\n",
              "                        <td id=\"T_f485abde_9655_11ea_968b_0242ac1c0002row11_col16\" class=\"data row11 col16\" >-0.000816</td>\n",
              "                        <td id=\"T_f485abde_9655_11ea_968b_0242ac1c0002row11_col17\" class=\"data row11 col17\" >0.343803</td>\n",
              "                        <td id=\"T_f485abde_9655_11ea_968b_0242ac1c0002row11_col18\" class=\"data row11 col18\" >0.731870</td>\n",
              "                        <td id=\"T_f485abde_9655_11ea_968b_0242ac1c0002row11_col19\" class=\"data row11 col19\" >0.194050</td>\n",
              "            </tr>\n",
              "            <tr>\n",
              "                        <th id=\"T_f485abde_9655_11ea_968b_0242ac1c0002level0_row12\" class=\"row_heading level0 row12\" >sqft_basement</th>\n",
              "                        <td id=\"T_f485abde_9655_11ea_968b_0242ac1c0002row12_col0\" class=\"data row12 col0\" >-0.005151</td>\n",
              "                        <td id=\"T_f485abde_9655_11ea_968b_0242ac1c0002row12_col1\" class=\"data row12 col1\" >0.323816</td>\n",
              "                        <td id=\"T_f485abde_9655_11ea_968b_0242ac1c0002row12_col2\" class=\"data row12 col2\" >0.303093</td>\n",
              "                        <td id=\"T_f485abde_9655_11ea_968b_0242ac1c0002row12_col3\" class=\"data row12 col3\" >0.283770</td>\n",
              "                        <td id=\"T_f485abde_9655_11ea_968b_0242ac1c0002row12_col4\" class=\"data row12 col4\" >0.435043</td>\n",
              "                        <td id=\"T_f485abde_9655_11ea_968b_0242ac1c0002row12_col5\" class=\"data row12 col5\" >0.015286</td>\n",
              "                        <td id=\"T_f485abde_9655_11ea_968b_0242ac1c0002row12_col6\" class=\"data row12 col6\" >-0.245705</td>\n",
              "                        <td id=\"T_f485abde_9655_11ea_968b_0242ac1c0002row12_col7\" class=\"data row12 col7\" >0.080588</td>\n",
              "                        <td id=\"T_f485abde_9655_11ea_968b_0242ac1c0002row12_col8\" class=\"data row12 col8\" >0.276947</td>\n",
              "                        <td id=\"T_f485abde_9655_11ea_968b_0242ac1c0002row12_col9\" class=\"data row12 col9\" >0.174105</td>\n",
              "                        <td id=\"T_f485abde_9655_11ea_968b_0242ac1c0002row12_col10\" class=\"data row12 col10\" >0.168392</td>\n",
              "                        <td id=\"T_f485abde_9655_11ea_968b_0242ac1c0002row12_col11\" class=\"data row12 col11\" >-0.051943</td>\n",
              "                        <td id=\"T_f485abde_9655_11ea_968b_0242ac1c0002row12_col12\" class=\"data row12 col12\" >1.000000</td>\n",
              "                        <td id=\"T_f485abde_9655_11ea_968b_0242ac1c0002row12_col13\" class=\"data row12 col13\" >-0.133124</td>\n",
              "                        <td id=\"T_f485abde_9655_11ea_968b_0242ac1c0002row12_col14\" class=\"data row12 col14\" >0.071323</td>\n",
              "                        <td id=\"T_f485abde_9655_11ea_968b_0242ac1c0002row12_col15\" class=\"data row12 col15\" >0.074845</td>\n",
              "                        <td id=\"T_f485abde_9655_11ea_968b_0242ac1c0002row12_col16\" class=\"data row12 col16\" >0.110538</td>\n",
              "                        <td id=\"T_f485abde_9655_11ea_968b_0242ac1c0002row12_col17\" class=\"data row12 col17\" >-0.144765</td>\n",
              "                        <td id=\"T_f485abde_9655_11ea_968b_0242ac1c0002row12_col18\" class=\"data row12 col18\" >0.200355</td>\n",
              "                        <td id=\"T_f485abde_9655_11ea_968b_0242ac1c0002row12_col19\" class=\"data row12 col19\" >0.017276</td>\n",
              "            </tr>\n",
              "            <tr>\n",
              "                        <th id=\"T_f485abde_9655_11ea_968b_0242ac1c0002level0_row13\" class=\"row_heading level0 row13\" >yr_built</th>\n",
              "                        <td id=\"T_f485abde_9655_11ea_968b_0242ac1c0002row13_col0\" class=\"data row13 col0\" >0.021380</td>\n",
              "                        <td id=\"T_f485abde_9655_11ea_968b_0242ac1c0002row13_col1\" class=\"data row13 col1\" >0.054012</td>\n",
              "                        <td id=\"T_f485abde_9655_11ea_968b_0242ac1c0002row13_col2\" class=\"data row13 col2\" >0.154178</td>\n",
              "                        <td id=\"T_f485abde_9655_11ea_968b_0242ac1c0002row13_col3\" class=\"data row13 col3\" >0.506019</td>\n",
              "                        <td id=\"T_f485abde_9655_11ea_968b_0242ac1c0002row13_col4\" class=\"data row13 col4\" >0.318049</td>\n",
              "                        <td id=\"T_f485abde_9655_11ea_968b_0242ac1c0002row13_col5\" class=\"data row13 col5\" >0.053080</td>\n",
              "                        <td id=\"T_f485abde_9655_11ea_968b_0242ac1c0002row13_col6\" class=\"data row13 col6\" >0.489319</td>\n",
              "                        <td id=\"T_f485abde_9655_11ea_968b_0242ac1c0002row13_col7\" class=\"data row13 col7\" >-0.026161</td>\n",
              "                        <td id=\"T_f485abde_9655_11ea_968b_0242ac1c0002row13_col8\" class=\"data row13 col8\" >-0.053440</td>\n",
              "                        <td id=\"T_f485abde_9655_11ea_968b_0242ac1c0002row13_col9\" class=\"data row13 col9\" >-0.361417</td>\n",
              "                        <td id=\"T_f485abde_9655_11ea_968b_0242ac1c0002row13_col10\" class=\"data row13 col10\" >0.446963</td>\n",
              "                        <td id=\"T_f485abde_9655_11ea_968b_0242ac1c0002row13_col11\" class=\"data row13 col11\" >0.423898</td>\n",
              "                        <td id=\"T_f485abde_9655_11ea_968b_0242ac1c0002row13_col12\" class=\"data row13 col12\" >-0.133124</td>\n",
              "                        <td id=\"T_f485abde_9655_11ea_968b_0242ac1c0002row13_col13\" class=\"data row13 col13\" >1.000000</td>\n",
              "                        <td id=\"T_f485abde_9655_11ea_968b_0242ac1c0002row13_col14\" class=\"data row13 col14\" >-0.224874</td>\n",
              "                        <td id=\"T_f485abde_9655_11ea_968b_0242ac1c0002row13_col15\" class=\"data row13 col15\" >-0.346869</td>\n",
              "                        <td id=\"T_f485abde_9655_11ea_968b_0242ac1c0002row13_col16\" class=\"data row13 col16\" >-0.148122</td>\n",
              "                        <td id=\"T_f485abde_9655_11ea_968b_0242ac1c0002row13_col17\" class=\"data row13 col17\" >0.409356</td>\n",
              "                        <td id=\"T_f485abde_9655_11ea_968b_0242ac1c0002row13_col18\" class=\"data row13 col18\" >0.326229</td>\n",
              "                        <td id=\"T_f485abde_9655_11ea_968b_0242ac1c0002row13_col19\" class=\"data row13 col19\" >0.070958</td>\n",
              "            </tr>\n",
              "            <tr>\n",
              "                        <th id=\"T_f485abde_9655_11ea_968b_0242ac1c0002level0_row14\" class=\"row_heading level0 row14\" >yr_renovated</th>\n",
              "                        <td id=\"T_f485abde_9655_11ea_968b_0242ac1c0002row14_col0\" class=\"data row14 col0\" >-0.016907</td>\n",
              "                        <td id=\"T_f485abde_9655_11ea_968b_0242ac1c0002row14_col1\" class=\"data row14 col1\" >0.126434</td>\n",
              "                        <td id=\"T_f485abde_9655_11ea_968b_0242ac1c0002row14_col2\" class=\"data row14 col2\" >0.018841</td>\n",
              "                        <td id=\"T_f485abde_9655_11ea_968b_0242ac1c0002row14_col3\" class=\"data row14 col3\" >0.050739</td>\n",
              "                        <td id=\"T_f485abde_9655_11ea_968b_0242ac1c0002row14_col4\" class=\"data row14 col4\" >0.055363</td>\n",
              "                        <td id=\"T_f485abde_9655_11ea_968b_0242ac1c0002row14_col5\" class=\"data row14 col5\" >0.007644</td>\n",
              "                        <td id=\"T_f485abde_9655_11ea_968b_0242ac1c0002row14_col6\" class=\"data row14 col6\" >0.006338</td>\n",
              "                        <td id=\"T_f485abde_9655_11ea_968b_0242ac1c0002row14_col7\" class=\"data row14 col7\" >0.092885</td>\n",
              "                        <td id=\"T_f485abde_9655_11ea_968b_0242ac1c0002row14_col8\" class=\"data row14 col8\" >0.103917</td>\n",
              "                        <td id=\"T_f485abde_9655_11ea_968b_0242ac1c0002row14_col9\" class=\"data row14 col9\" >-0.060618</td>\n",
              "                        <td id=\"T_f485abde_9655_11ea_968b_0242ac1c0002row14_col10\" class=\"data row14 col10\" >0.014414</td>\n",
              "                        <td id=\"T_f485abde_9655_11ea_968b_0242ac1c0002row14_col11\" class=\"data row14 col11\" >0.023285</td>\n",
              "                        <td id=\"T_f485abde_9655_11ea_968b_0242ac1c0002row14_col12\" class=\"data row14 col12\" >0.071323</td>\n",
              "                        <td id=\"T_f485abde_9655_11ea_968b_0242ac1c0002row14_col13\" class=\"data row14 col13\" >-0.224874</td>\n",
              "                        <td id=\"T_f485abde_9655_11ea_968b_0242ac1c0002row14_col14\" class=\"data row14 col14\" >1.000000</td>\n",
              "                        <td id=\"T_f485abde_9655_11ea_968b_0242ac1c0002row14_col15\" class=\"data row14 col15\" >0.064357</td>\n",
              "                        <td id=\"T_f485abde_9655_11ea_968b_0242ac1c0002row14_col16\" class=\"data row14 col16\" >0.029398</td>\n",
              "                        <td id=\"T_f485abde_9655_11ea_968b_0242ac1c0002row14_col17\" class=\"data row14 col17\" >-0.068372</td>\n",
              "                        <td id=\"T_f485abde_9655_11ea_968b_0242ac1c0002row14_col18\" class=\"data row14 col18\" >-0.002673</td>\n",
              "                        <td id=\"T_f485abde_9655_11ea_968b_0242ac1c0002row14_col19\" class=\"data row14 col19\" >0.007854</td>\n",
              "            </tr>\n",
              "            <tr>\n",
              "                        <th id=\"T_f485abde_9655_11ea_968b_0242ac1c0002level0_row15\" class=\"row_heading level0 row15\" >zipcode</th>\n",
              "                        <td id=\"T_f485abde_9655_11ea_968b_0242ac1c0002row15_col0\" class=\"data row15 col0\" >-0.008224</td>\n",
              "                        <td id=\"T_f485abde_9655_11ea_968b_0242ac1c0002row15_col1\" class=\"data row15 col1\" >-0.053203</td>\n",
              "                        <td id=\"T_f485abde_9655_11ea_968b_0242ac1c0002row15_col2\" class=\"data row15 col2\" >-0.152668</td>\n",
              "                        <td id=\"T_f485abde_9655_11ea_968b_0242ac1c0002row15_col3\" class=\"data row15 col3\" >-0.203866</td>\n",
              "                        <td id=\"T_f485abde_9655_11ea_968b_0242ac1c0002row15_col4\" class=\"data row15 col4\" >-0.199430</td>\n",
              "                        <td id=\"T_f485abde_9655_11ea_968b_0242ac1c0002row15_col5\" class=\"data row15 col5\" >-0.129574</td>\n",
              "                        <td id=\"T_f485abde_9655_11ea_968b_0242ac1c0002row15_col6\" class=\"data row15 col6\" >-0.059121</td>\n",
              "                        <td id=\"T_f485abde_9655_11ea_968b_0242ac1c0002row15_col7\" class=\"data row15 col7\" >0.030285</td>\n",
              "                        <td id=\"T_f485abde_9655_11ea_968b_0242ac1c0002row15_col8\" class=\"data row15 col8\" >0.084827</td>\n",
              "                        <td id=\"T_f485abde_9655_11ea_968b_0242ac1c0002row15_col9\" class=\"data row15 col9\" >0.003026</td>\n",
              "                        <td id=\"T_f485abde_9655_11ea_968b_0242ac1c0002row15_col10\" class=\"data row15 col10\" >-0.184862</td>\n",
              "                        <td id=\"T_f485abde_9655_11ea_968b_0242ac1c0002row15_col11\" class=\"data row15 col11\" >-0.261190</td>\n",
              "                        <td id=\"T_f485abde_9655_11ea_968b_0242ac1c0002row15_col12\" class=\"data row15 col12\" >0.074845</td>\n",
              "                        <td id=\"T_f485abde_9655_11ea_968b_0242ac1c0002row15_col13\" class=\"data row15 col13\" >-0.346869</td>\n",
              "                        <td id=\"T_f485abde_9655_11ea_968b_0242ac1c0002row15_col14\" class=\"data row15 col14\" >0.064357</td>\n",
              "                        <td id=\"T_f485abde_9655_11ea_968b_0242ac1c0002row15_col15\" class=\"data row15 col15\" >1.000000</td>\n",
              "                        <td id=\"T_f485abde_9655_11ea_968b_0242ac1c0002row15_col16\" class=\"data row15 col16\" >0.267048</td>\n",
              "                        <td id=\"T_f485abde_9655_11ea_968b_0242ac1c0002row15_col17\" class=\"data row15 col17\" >-0.564072</td>\n",
              "                        <td id=\"T_f485abde_9655_11ea_968b_0242ac1c0002row15_col18\" class=\"data row15 col18\" >-0.279033</td>\n",
              "                        <td id=\"T_f485abde_9655_11ea_968b_0242ac1c0002row15_col19\" class=\"data row15 col19\" >-0.147221</td>\n",
              "            </tr>\n",
              "            <tr>\n",
              "                        <th id=\"T_f485abde_9655_11ea_968b_0242ac1c0002level0_row16\" class=\"row_heading level0 row16\" >lat</th>\n",
              "                        <td id=\"T_f485abde_9655_11ea_968b_0242ac1c0002row16_col0\" class=\"data row16 col0\" >-0.001891</td>\n",
              "                        <td id=\"T_f485abde_9655_11ea_968b_0242ac1c0002row16_col1\" class=\"data row16 col1\" >0.307003</td>\n",
              "                        <td id=\"T_f485abde_9655_11ea_968b_0242ac1c0002row16_col2\" class=\"data row16 col2\" >-0.008931</td>\n",
              "                        <td id=\"T_f485abde_9655_11ea_968b_0242ac1c0002row16_col3\" class=\"data row16 col3\" >0.024573</td>\n",
              "                        <td id=\"T_f485abde_9655_11ea_968b_0242ac1c0002row16_col4\" class=\"data row16 col4\" >0.052529</td>\n",
              "                        <td id=\"T_f485abde_9655_11ea_968b_0242ac1c0002row16_col5\" class=\"data row16 col5\" >-0.085683</td>\n",
              "                        <td id=\"T_f485abde_9655_11ea_968b_0242ac1c0002row16_col6\" class=\"data row16 col6\" >0.049614</td>\n",
              "                        <td id=\"T_f485abde_9655_11ea_968b_0242ac1c0002row16_col7\" class=\"data row16 col7\" >-0.014274</td>\n",
              "                        <td id=\"T_f485abde_9655_11ea_968b_0242ac1c0002row16_col8\" class=\"data row16 col8\" >0.006157</td>\n",
              "                        <td id=\"T_f485abde_9655_11ea_968b_0242ac1c0002row16_col9\" class=\"data row16 col9\" >-0.014941</td>\n",
              "                        <td id=\"T_f485abde_9655_11ea_968b_0242ac1c0002row16_col10\" class=\"data row16 col10\" >0.114084</td>\n",
              "                        <td id=\"T_f485abde_9655_11ea_968b_0242ac1c0002row16_col11\" class=\"data row16 col11\" >-0.000816</td>\n",
              "                        <td id=\"T_f485abde_9655_11ea_968b_0242ac1c0002row16_col12\" class=\"data row16 col12\" >0.110538</td>\n",
              "                        <td id=\"T_f485abde_9655_11ea_968b_0242ac1c0002row16_col13\" class=\"data row16 col13\" >-0.148122</td>\n",
              "                        <td id=\"T_f485abde_9655_11ea_968b_0242ac1c0002row16_col14\" class=\"data row16 col14\" >0.029398</td>\n",
              "                        <td id=\"T_f485abde_9655_11ea_968b_0242ac1c0002row16_col15\" class=\"data row16 col15\" >0.267048</td>\n",
              "                        <td id=\"T_f485abde_9655_11ea_968b_0242ac1c0002row16_col16\" class=\"data row16 col16\" >1.000000</td>\n",
              "                        <td id=\"T_f485abde_9655_11ea_968b_0242ac1c0002row16_col17\" class=\"data row16 col17\" >-0.135512</td>\n",
              "                        <td id=\"T_f485abde_9655_11ea_968b_0242ac1c0002row16_col18\" class=\"data row16 col18\" >0.048858</td>\n",
              "                        <td id=\"T_f485abde_9655_11ea_968b_0242ac1c0002row16_col19\" class=\"data row16 col19\" >-0.086419</td>\n",
              "            </tr>\n",
              "            <tr>\n",
              "                        <th id=\"T_f485abde_9655_11ea_968b_0242ac1c0002level0_row17\" class=\"row_heading level0 row17\" >long</th>\n",
              "                        <td id=\"T_f485abde_9655_11ea_968b_0242ac1c0002row17_col0\" class=\"data row17 col0\" >0.020799</td>\n",
              "                        <td id=\"T_f485abde_9655_11ea_968b_0242ac1c0002row17_col1\" class=\"data row17 col1\" >0.021626</td>\n",
              "                        <td id=\"T_f485abde_9655_11ea_968b_0242ac1c0002row17_col2\" class=\"data row17 col2\" >0.129473</td>\n",
              "                        <td id=\"T_f485abde_9655_11ea_968b_0242ac1c0002row17_col3\" class=\"data row17 col3\" >0.223042</td>\n",
              "                        <td id=\"T_f485abde_9655_11ea_968b_0242ac1c0002row17_col4\" class=\"data row17 col4\" >0.240223</td>\n",
              "                        <td id=\"T_f485abde_9655_11ea_968b_0242ac1c0002row17_col5\" class=\"data row17 col5\" >0.229521</td>\n",
              "                        <td id=\"T_f485abde_9655_11ea_968b_0242ac1c0002row17_col6\" class=\"data row17 col6\" >0.125419</td>\n",
              "                        <td id=\"T_f485abde_9655_11ea_968b_0242ac1c0002row17_col7\" class=\"data row17 col7\" >-0.041910</td>\n",
              "                        <td id=\"T_f485abde_9655_11ea_968b_0242ac1c0002row17_col8\" class=\"data row17 col8\" >-0.078400</td>\n",
              "                        <td id=\"T_f485abde_9655_11ea_968b_0242ac1c0002row17_col9\" class=\"data row17 col9\" >-0.106500</td>\n",
              "                        <td id=\"T_f485abde_9655_11ea_968b_0242ac1c0002row17_col10\" class=\"data row17 col10\" >0.198372</td>\n",
              "                        <td id=\"T_f485abde_9655_11ea_968b_0242ac1c0002row17_col11\" class=\"data row17 col11\" >0.343803</td>\n",
              "                        <td id=\"T_f485abde_9655_11ea_968b_0242ac1c0002row17_col12\" class=\"data row17 col12\" >-0.144765</td>\n",
              "                        <td id=\"T_f485abde_9655_11ea_968b_0242ac1c0002row17_col13\" class=\"data row17 col13\" >0.409356</td>\n",
              "                        <td id=\"T_f485abde_9655_11ea_968b_0242ac1c0002row17_col14\" class=\"data row17 col14\" >-0.068372</td>\n",
              "                        <td id=\"T_f485abde_9655_11ea_968b_0242ac1c0002row17_col15\" class=\"data row17 col15\" >-0.564072</td>\n",
              "                        <td id=\"T_f485abde_9655_11ea_968b_0242ac1c0002row17_col16\" class=\"data row17 col16\" >-0.135512</td>\n",
              "                        <td id=\"T_f485abde_9655_11ea_968b_0242ac1c0002row17_col17\" class=\"data row17 col17\" >1.000000</td>\n",
              "                        <td id=\"T_f485abde_9655_11ea_968b_0242ac1c0002row17_col18\" class=\"data row17 col18\" >0.334605</td>\n",
              "                        <td id=\"T_f485abde_9655_11ea_968b_0242ac1c0002row17_col19\" class=\"data row17 col19\" >0.254451</td>\n",
              "            </tr>\n",
              "            <tr>\n",
              "                        <th id=\"T_f485abde_9655_11ea_968b_0242ac1c0002level0_row18\" class=\"row_heading level0 row18\" >sqft_living15</th>\n",
              "                        <td id=\"T_f485abde_9655_11ea_968b_0242ac1c0002row18_col0\" class=\"data row18 col0\" >-0.002901</td>\n",
              "                        <td id=\"T_f485abde_9655_11ea_968b_0242ac1c0002row18_col1\" class=\"data row18 col1\" >0.585379</td>\n",
              "                        <td id=\"T_f485abde_9655_11ea_968b_0242ac1c0002row18_col2\" class=\"data row18 col2\" >0.391638</td>\n",
              "                        <td id=\"T_f485abde_9655_11ea_968b_0242ac1c0002row18_col3\" class=\"data row18 col3\" >0.568634</td>\n",
              "                        <td id=\"T_f485abde_9655_11ea_968b_0242ac1c0002row18_col4\" class=\"data row18 col4\" >0.756420</td>\n",
              "                        <td id=\"T_f485abde_9655_11ea_968b_0242ac1c0002row18_col5\" class=\"data row18 col5\" >0.144608</td>\n",
              "                        <td id=\"T_f485abde_9655_11ea_968b_0242ac1c0002row18_col6\" class=\"data row18 col6\" >0.279885</td>\n",
              "                        <td id=\"T_f485abde_9655_11ea_968b_0242ac1c0002row18_col7\" class=\"data row18 col7\" >0.086463</td>\n",
              "                        <td id=\"T_f485abde_9655_11ea_968b_0242ac1c0002row18_col8\" class=\"data row18 col8\" >0.280439</td>\n",
              "                        <td id=\"T_f485abde_9655_11ea_968b_0242ac1c0002row18_col9\" class=\"data row18 col9\" >-0.092824</td>\n",
              "                        <td id=\"T_f485abde_9655_11ea_968b_0242ac1c0002row18_col10\" class=\"data row18 col10\" >0.713202</td>\n",
              "                        <td id=\"T_f485abde_9655_11ea_968b_0242ac1c0002row18_col11\" class=\"data row18 col11\" >0.731870</td>\n",
              "                        <td id=\"T_f485abde_9655_11ea_968b_0242ac1c0002row18_col12\" class=\"data row18 col12\" >0.200355</td>\n",
              "                        <td id=\"T_f485abde_9655_11ea_968b_0242ac1c0002row18_col13\" class=\"data row18 col13\" >0.326229</td>\n",
              "                        <td id=\"T_f485abde_9655_11ea_968b_0242ac1c0002row18_col14\" class=\"data row18 col14\" >-0.002673</td>\n",
              "                        <td id=\"T_f485abde_9655_11ea_968b_0242ac1c0002row18_col15\" class=\"data row18 col15\" >-0.279033</td>\n",
              "                        <td id=\"T_f485abde_9655_11ea_968b_0242ac1c0002row18_col16\" class=\"data row18 col16\" >0.048858</td>\n",
              "                        <td id=\"T_f485abde_9655_11ea_968b_0242ac1c0002row18_col17\" class=\"data row18 col17\" >0.334605</td>\n",
              "                        <td id=\"T_f485abde_9655_11ea_968b_0242ac1c0002row18_col18\" class=\"data row18 col18\" >1.000000</td>\n",
              "                        <td id=\"T_f485abde_9655_11ea_968b_0242ac1c0002row18_col19\" class=\"data row18 col19\" >0.183192</td>\n",
              "            </tr>\n",
              "            <tr>\n",
              "                        <th id=\"T_f485abde_9655_11ea_968b_0242ac1c0002level0_row19\" class=\"row_heading level0 row19\" >sqft_lot15</th>\n",
              "                        <td id=\"T_f485abde_9655_11ea_968b_0242ac1c0002row19_col0\" class=\"data row19 col0\" >-0.138798</td>\n",
              "                        <td id=\"T_f485abde_9655_11ea_968b_0242ac1c0002row19_col1\" class=\"data row19 col1\" >0.082447</td>\n",
              "                        <td id=\"T_f485abde_9655_11ea_968b_0242ac1c0002row19_col2\" class=\"data row19 col2\" >0.029244</td>\n",
              "                        <td id=\"T_f485abde_9655_11ea_968b_0242ac1c0002row19_col3\" class=\"data row19 col3\" >0.087175</td>\n",
              "                        <td id=\"T_f485abde_9655_11ea_968b_0242ac1c0002row19_col4\" class=\"data row19 col4\" >0.183286</td>\n",
              "                        <td id=\"T_f485abde_9655_11ea_968b_0242ac1c0002row19_col5\" class=\"data row19 col5\" >0.718557</td>\n",
              "                        <td id=\"T_f485abde_9655_11ea_968b_0242ac1c0002row19_col6\" class=\"data row19 col6\" >-0.011269</td>\n",
              "                        <td id=\"T_f485abde_9655_11ea_968b_0242ac1c0002row19_col7\" class=\"data row19 col7\" >0.030703</td>\n",
              "                        <td id=\"T_f485abde_9655_11ea_968b_0242ac1c0002row19_col8\" class=\"data row19 col8\" >0.072575</td>\n",
              "                        <td id=\"T_f485abde_9655_11ea_968b_0242ac1c0002row19_col9\" class=\"data row19 col9\" >-0.003406</td>\n",
              "                        <td id=\"T_f485abde_9655_11ea_968b_0242ac1c0002row19_col10\" class=\"data row19 col10\" >0.119248</td>\n",
              "                        <td id=\"T_f485abde_9655_11ea_968b_0242ac1c0002row19_col11\" class=\"data row19 col11\" >0.194050</td>\n",
              "                        <td id=\"T_f485abde_9655_11ea_968b_0242ac1c0002row19_col12\" class=\"data row19 col12\" >0.017276</td>\n",
              "                        <td id=\"T_f485abde_9655_11ea_968b_0242ac1c0002row19_col13\" class=\"data row19 col13\" >0.070958</td>\n",
              "                        <td id=\"T_f485abde_9655_11ea_968b_0242ac1c0002row19_col14\" class=\"data row19 col14\" >0.007854</td>\n",
              "                        <td id=\"T_f485abde_9655_11ea_968b_0242ac1c0002row19_col15\" class=\"data row19 col15\" >-0.147221</td>\n",
              "                        <td id=\"T_f485abde_9655_11ea_968b_0242ac1c0002row19_col16\" class=\"data row19 col16\" >-0.086419</td>\n",
              "                        <td id=\"T_f485abde_9655_11ea_968b_0242ac1c0002row19_col17\" class=\"data row19 col17\" >0.254451</td>\n",
              "                        <td id=\"T_f485abde_9655_11ea_968b_0242ac1c0002row19_col18\" class=\"data row19 col18\" >0.183192</td>\n",
              "                        <td id=\"T_f485abde_9655_11ea_968b_0242ac1c0002row19_col19\" class=\"data row19 col19\" >1.000000</td>\n",
              "            </tr>\n",
              "    </tbody></table>"
            ],
            "text/plain": [
              "<pandas.io.formats.style.Styler at 0x7f9d628b5208>"
            ]
          },
          "metadata": {
            "tags": []
          },
          "execution_count": 14
        }
      ]
    },
    {
      "cell_type": "code",
      "metadata": {
        "id": "PxM2MrYa41nV",
        "colab_type": "code",
        "colab": {}
      },
      "source": [
        "def scatter_wrapper(df, ax=None, x='sqft_living', y='price', color='b'):\n",
        "    if ax is None:\n",
        "        _, ax = plt.subplots(figsize=(8, 6))\n",
        "    df.plot.scatter(x=x , y=y, c=color, alpha=0.35, s=1.5, ax=ax)\n",
        "    return ax"
      ],
      "execution_count": 0,
      "outputs": []
    },
    {
      "cell_type": "code",
      "metadata": {
        "id": "Hs72J84m41nd",
        "colab_type": "code",
        "outputId": "c1899918-1821-4f6b-ae53-7954ad1cf329",
        "colab": {
          "base_uri": "https://localhost:8080/",
          "height": 417
        }
      },
      "source": [
        "scatter_wrapper(df)"
      ],
      "execution_count": 0,
      "outputs": [
        {
          "output_type": "execute_result",
          "data": {
            "text/plain": [
              "<matplotlib.axes._subplots.AxesSubplot at 0x7f9d61dc4cf8>"
            ]
          },
          "metadata": {
            "tags": []
          },
          "execution_count": 16
        },
        {
          "output_type": "display_data",
          "data": {
            "image/png": "[encoded data removed]",
            "text/plain": [
              "<Figure size 576x432 with 1 Axes>"
            ]
          },
          "metadata": {
            "tags": [],
            "needs_background": "light"
          }
        }
      ]
    },
    {
      "cell_type": "markdown",
      "metadata": {
        "id": "H2hiNFXy41nj",
        "colab_type": "text"
      },
      "source": [
        "### Preprocesamiento"
      ]
    },
    {
      "cell_type": "markdown",
      "metadata": {
        "id": "FZchhZ2q41nk",
        "colab_type": "text"
      },
      "source": [
        "### Transformacion: Ingenieria\n",
        "\n",
        "![](https://www.oreilly.com/library/view/feature-engineering-for/9781491953235/assets/feml_0102.png)\n",
        "\n",
        "El \"aprendizaje\" del modelo dependerá de la información y variabilidad provista por los atributos (*Garbage in - garbage out*).\n",
        "\n",
        "Existe gran variedad de técnicas para generar/modificar atributos\n",
        "\n",
        "- **Transformaciones logaritmicas:** tiene sentido cuando variables siguen una distribución asimétrica positiva (masa concentrada en valores pequeños y grandes con poca densidad)\n",
        "- **Reescalamiento de variables numéricas:** si el modelo es sensible a la escala del atributo es deseable hacer transformaciones tipo *estandarización*.\n",
        "(Esto puede ser propenso a *data leakage*)\n",
        "- **Binning:** agrupación en *bins* ordenados\n",
        "- **One-hot encoding:** transformación de variables categóricas en variables contínuas. ![](https://raw.githubusercontent.com/petobens/introduccion-ml-aplicado/master/figures/ml-claro-1/one_hot.png)\n",
        "\n",
        "\n",
        "\n"
      ]
    },
    {
      "cell_type": "code",
      "metadata": {
        "id": "bnoA6uHy41nl",
        "colab_type": "code",
        "outputId": "ddcba3cc-00b9-46c7-e28e-9bceb22169c5",
        "colab": {
          "base_uri": "https://localhost:8080/",
          "height": 221
        }
      },
      "source": [
        "df['date']"
      ],
      "execution_count": 0,
      "outputs": [
        {
          "output_type": "execute_result",
          "data": {
            "text/plain": [
              "0        20141013T000000\n",
              "1        20141209T000000\n",
              "2        20150225T000000\n",
              "3        20141209T000000\n",
              "4        20150218T000000\n",
              "              ...       \n",
              "21608    20140521T000000\n",
              "21609    20150223T000000\n",
              "21610    20140623T000000\n",
              "21611    20150116T000000\n",
              "21612    20141015T000000\n",
              "Name: date, Length: 21613, dtype: object"
            ]
          },
          "metadata": {
            "tags": []
          },
          "execution_count": 17
        }
      ]
    },
    {
      "cell_type": "code",
      "metadata": {
        "id": "Y-P3cGkP41nr",
        "colab_type": "code",
        "outputId": "da74b857-a803-4c2c-ccf4-9effccbc95d5",
        "colab": {
          "base_uri": "https://localhost:8080/",
          "height": 221
        }
      },
      "source": [
        "pd.to_datetime(df['date']).dt.month"
      ],
      "execution_count": 0,
      "outputs": [
        {
          "output_type": "execute_result",
          "data": {
            "text/plain": [
              "0        10\n",
              "1        12\n",
              "2         2\n",
              "3        12\n",
              "4         2\n",
              "         ..\n",
              "21608     5\n",
              "21609     2\n",
              "21610     6\n",
              "21611     1\n",
              "21612    10\n",
              "Name: date, Length: 21613, dtype: int64"
            ]
          },
          "metadata": {
            "tags": []
          },
          "execution_count": 18
        }
      ]
    },
    {
      "cell_type": "code",
      "metadata": {
        "id": "ougG_dKB41nx",
        "colab_type": "code",
        "colab": {}
      },
      "source": [
        "def preprocess_data(df):\n",
        "    df['sales_yr'] = pd.to_datetime(df['date']).dt.year\n",
        "    df['log_price'] = np.log(df['price'])\n",
        "    return df"
      ],
      "execution_count": 0,
      "outputs": []
    },
    {
      "cell_type": "code",
      "metadata": {
        "id": "19dkB6C241n4",
        "colab_type": "code",
        "colab": {}
      },
      "source": [
        "df = preprocess_data(df)"
      ],
      "execution_count": 0,
      "outputs": []
    },
    {
      "cell_type": "code",
      "metadata": {
        "id": "VfTHQWAX41n_",
        "colab_type": "code",
        "outputId": "540b9ef4-468d-42ea-d35d-dfb5e2160874",
        "colab": {
          "base_uri": "https://localhost:8080/",
          "height": 102
        }
      },
      "source": [
        "df.columns"
      ],
      "execution_count": 0,
      "outputs": [
        {
          "output_type": "execute_result",
          "data": {
            "text/plain": [
              "Index(['id', 'date', 'price', 'bedrooms', 'bathrooms', 'sqft_living',\n",
              "       'sqft_lot', 'floors', 'waterfront', 'view', 'condition', 'grade',\n",
              "       'sqft_above', 'sqft_basement', 'yr_built', 'yr_renovated', 'zipcode',\n",
              "       'lat', 'long', 'sqft_living15', 'sqft_lot15', 'sales_yr', 'log_price'],\n",
              "      dtype='object')"
            ]
          },
          "metadata": {
            "tags": []
          },
          "execution_count": 22
        }
      ]
    },
    {
      "cell_type": "code",
      "metadata": {
        "id": "Sgi_nH9N41oE",
        "colab_type": "code",
        "outputId": "9850ebc0-f390-470d-e66a-6c13e328c10b",
        "colab": {
          "base_uri": "https://localhost:8080/",
          "height": 406
        }
      },
      "source": [
        "scatter_wrapper(df, y='log_price')"
      ],
      "execution_count": 0,
      "outputs": [
        {
          "output_type": "execute_result",
          "data": {
            "text/plain": [
              "<matplotlib.axes._subplots.AxesSubplot at 0x7f9d61d61a20>"
            ]
          },
          "metadata": {
            "tags": []
          },
          "execution_count": 23
        },
        {
          "output_type": "display_data",
          "data": {
            "image/png": "[encoded data removed]",
            "text/plain": [
              "<Figure size 576x432 with 1 Axes>"
            ]
          },
          "metadata": {
            "tags": [],
            "needs_background": "light"
          }
        }
      ]
    },
    {
      "cell_type": "code",
      "metadata": {
        "id": "tg4DOM7441oK",
        "colab_type": "code",
        "colab": {}
      },
      "source": [
        "def xy_split(df):\n",
        "    y = df['log_price']\n",
        "    X = df.drop(['price', 'log_price', 'date', 'id'], axis=1).copy()\n",
        "    return X, y"
      ],
      "execution_count": 0,
      "outputs": []
    },
    {
      "cell_type": "code",
      "metadata": {
        "id": "6QuZ-jNV41oO",
        "colab_type": "code",
        "colab": {}
      },
      "source": [
        "X, y = xy_split(df)"
      ],
      "execution_count": 0,
      "outputs": []
    },
    {
      "cell_type": "code",
      "metadata": {
        "id": "AlDpfvd641oS",
        "colab_type": "code",
        "outputId": "6e89f545-e889-421e-a840-5550e438b3f4",
        "colab": {
          "base_uri": "https://localhost:8080/",
          "height": 221
        }
      },
      "source": [
        "y"
      ],
      "execution_count": 0,
      "outputs": [
        {
          "output_type": "execute_result",
          "data": {
            "text/plain": [
              "0        12.309982\n",
              "1        13.195614\n",
              "2        12.100712\n",
              "3        13.311329\n",
              "4        13.142166\n",
              "           ...    \n",
              "21608    12.793859\n",
              "21609    12.899220\n",
              "21610    12.904459\n",
              "21611    12.899220\n",
              "21612    12.691580\n",
              "Name: log_price, Length: 21613, dtype: float64"
            ]
          },
          "metadata": {
            "tags": []
          },
          "execution_count": 26
        }
      ]
    },
    {
      "cell_type": "code",
      "metadata": {
        "id": "SyHvqNPN41oX",
        "colab_type": "code",
        "outputId": "abbdc426-5691-4fbd-c583-e2fb7b7ffc96",
        "colab": {
          "base_uri": "https://localhost:8080/",
          "height": 102
        }
      },
      "source": [
        "X.columns"
      ],
      "execution_count": 0,
      "outputs": [
        {
          "output_type": "execute_result",
          "data": {
            "text/plain": [
              "Index(['bedrooms', 'bathrooms', 'sqft_living', 'sqft_lot', 'floors',\n",
              "       'waterfront', 'view', 'condition', 'grade', 'sqft_above',\n",
              "       'sqft_basement', 'yr_built', 'yr_renovated', 'zipcode', 'lat', 'long',\n",
              "       'sqft_living15', 'sqft_lot15', 'sales_yr'],\n",
              "      dtype='object')"
            ]
          },
          "metadata": {
            "tags": []
          },
          "execution_count": 27
        }
      ]
    },
    {
      "cell_type": "code",
      "metadata": {
        "id": "lf-TUtmR41ob",
        "colab_type": "code",
        "colab": {}
      },
      "source": [
        "def fit(X, y, x_cols=None):\n",
        "    lr_model = linear_model.LinearRegression()\n",
        "    X = X if x_cols is None else X[x_cols]\n",
        "    lr_model.fit(X, y)\n",
        "    return lr_model"
      ],
      "execution_count": 0,
      "outputs": []
    },
    {
      "cell_type": "code",
      "metadata": {
        "id": "bSsjkNCy41of",
        "colab_type": "code",
        "colab": {}
      },
      "source": [
        "lr_model = fit(X, y, x_cols=['sqft_living'])"
      ],
      "execution_count": 0,
      "outputs": []
    },
    {
      "cell_type": "code",
      "metadata": {
        "id": "z9R_ZC1T41ok",
        "colab_type": "code",
        "colab": {}
      },
      "source": [
        "beta_0, beta_1 = lr_model.intercept_, lr_model.coef_[0]"
      ],
      "execution_count": 0,
      "outputs": []
    },
    {
      "cell_type": "code",
      "metadata": {
        "id": "XbAJa3t441oo",
        "colab_type": "code",
        "outputId": "6acd0838-520d-4e66-bff5-520b410f7e37",
        "colab": {
          "base_uri": "https://localhost:8080/",
          "height": 34
        }
      },
      "source": [
        "beta_0, beta_1"
      ],
      "execution_count": 0,
      "outputs": [
        {
          "output_type": "execute_result",
          "data": {
            "text/plain": [
              "(12.218464096380853, 0.0003987465387451504)"
            ]
          },
          "metadata": {
            "tags": []
          },
          "execution_count": 31
        }
      ]
    },
    {
      "cell_type": "code",
      "metadata": {
        "id": "Q3D_YM3A41os",
        "colab_type": "code",
        "outputId": "ac43cbd3-8a4f-4641-918f-1535fd560426",
        "colab": {
          "base_uri": "https://localhost:8080/",
          "height": 406
        }
      },
      "source": [
        "# Plotear predicción\n",
        "ax = scatter_wrapper(df, y='log_price')\n",
        "x = np.array([0, df['sqft_living'].max()])\n",
        "ax.plot(x, beta_0 + beta_1*x)"
      ],
      "execution_count": 0,
      "outputs": [
        {
          "output_type": "execute_result",
          "data": {
            "text/plain": [
              "[<matplotlib.lines.Line2D at 0x7f9d5dcbcb00>]"
            ]
          },
          "metadata": {
            "tags": []
          },
          "execution_count": 33
        },
        {
          "output_type": "display_data",
          "data": {
            "image/png": "[encoded data removed]",
            "text/plain": [
              "<Figure size 576x432 with 1 Axes>"
            ]
          },
          "metadata": {
            "tags": [],
            "needs_background": "light"
          }
        }
      ]
    },
    {
      "cell_type": "code",
      "metadata": {
        "id": "gwLLvvAg41ov",
        "colab_type": "code",
        "colab": {}
      },
      "source": [
        "def predict(model, X, exp=False):\n",
        "    y_pred = model.predict(X)\n",
        "    if exp:\n",
        "        y_pred = np.exp(y_pred)\n",
        "    return y_pred"
      ],
      "execution_count": 0,
      "outputs": []
    },
    {
      "cell_type": "code",
      "metadata": {
        "id": "DtGbEzei41oz",
        "colab_type": "code",
        "outputId": "6334d270-80ea-4a84-da91-1a9688a8ee8c",
        "colab": {
          "base_uri": "https://localhost:8080/",
          "height": 34
        }
      },
      "source": [
        "predict(lr_model, [[5000]], exp=True) # Nota: esto es un array"
      ],
      "execution_count": 0,
      "outputs": [
        {
          "output_type": "execute_result",
          "data": {
            "text/plain": [
              "array([1486889.31877518])"
            ]
          },
          "metadata": {
            "tags": []
          },
          "execution_count": 35
        }
      ]
    },
    {
      "cell_type": "code",
      "metadata": {
        "id": "DtA7u1Jh41o3",
        "colab_type": "code",
        "colab": {}
      },
      "source": [
        "from sklearn.metrics import mean_squared_error"
      ],
      "execution_count": 0,
      "outputs": []
    },
    {
      "cell_type": "code",
      "metadata": {
        "id": "dTC509-241o6",
        "colab_type": "code",
        "colab": {}
      },
      "source": [
        "def score(y, y_hat):\n",
        "    mse = mean_squared_error(y, y_hat)\n",
        "    print(f\"MSE is {mse}\")\n",
        "    return mse"
      ],
      "execution_count": 0,
      "outputs": []
    },
    {
      "cell_type": "code",
      "metadata": {
        "id": "txnbujer41o9",
        "colab_type": "code",
        "colab": {}
      },
      "source": [
        "y_hat = predict(lr_model, X[['sqft_living']])"
      ],
      "execution_count": 0,
      "outputs": []
    },
    {
      "cell_type": "code",
      "metadata": {
        "id": "_PATAXAd41pB",
        "colab_type": "code",
        "outputId": "7651c6b5-2036-4ed4-c61b-8fe3213d50d5",
        "colab": {
          "base_uri": "https://localhost:8080/",
          "height": 51
        }
      },
      "source": [
        "y_hat"
      ],
      "execution_count": 0,
      "outputs": [
        {
          "output_type": "execute_result",
          "data": {
            "text/plain": [
              "array([12.68898501, 13.2432427 , 12.52549893, ..., 12.62518557,\n",
              "       12.85645856, 12.62518557])"
            ]
          },
          "metadata": {
            "tags": []
          },
          "execution_count": 39
        }
      ]
    },
    {
      "cell_type": "code",
      "metadata": {
        "id": "MuuTkQ3a41pE",
        "colab_type": "code",
        "outputId": "d5d924dc-9394-4759-ea80-b009b7c72d25",
        "colab": {
          "base_uri": "https://localhost:8080/",
          "height": 51
        }
      },
      "source": [
        "score(y, y_hat)"
      ],
      "execution_count": 0,
      "outputs": [
        {
          "output_type": "stream",
          "text": [
            "MSE is 0.14326910852241476\n"
          ],
          "name": "stdout"
        },
        {
          "output_type": "execute_result",
          "data": {
            "text/plain": [
              "0.14326910852241476"
            ]
          },
          "metadata": {
            "tags": []
          },
          "execution_count": 40
        }
      ]
    },
    {
      "cell_type": "markdown",
      "metadata": {
        "id": "htrc4xtc41pG",
        "colab_type": "text"
      },
      "source": [
        "## Ejercicios"
      ]
    },
    {
      "cell_type": "markdown",
      "metadata": {
        "id": "JmOJ8w-U41pH",
        "colab_type": "text"
      },
      "source": [
        "### Ejercicios Regresion Lineal Simple\n",
        "\n",
        "1. **Caching**\n",
        "Modifique la función que extrae los datos de forma tal que guarde una copia local de los  mismos en caso que esta no exista aun. Si este archivo existe entonces devolver los datos ya guardados a menos que expresamente se quiere rehacer la consulta.\n",
        "2. **Sistema métrico**\n",
        "  1. Escriba una función que convierta metros cuadrados a pies cuadrados.\n",
        "  2. Use la función anterior para estimar el precio de un vivienda con 464 m2 de living.\n",
        "3. **Regresión lineal multivariada**\n",
        "  1. Ajuste ahora un modelo con la totalidad de los features: $Y = X\\beta + \\varepsilon$\n",
        "  2. En un mismo plano (`sqft_living`, `log_price`), grafique una nube de puntos con la data actual, los valores predicho por el modelo simple y aquellos predichos por este modelo multivariado.\n",
        "  3. Compare el error cuadrático medio de los dos modelos.\n",
        "  4. *Feature Engineering:* cree una nueva variable que refleje la fracción de pies no subterraneos y reestime el modelo con este nuevo atributo. ¿Encuentra mejoras en performance?\n",
        "4. In Sample versus Out Of Sample\n",
        "  1. Para pensar: ¿con lo hecho hasta ahora puede usted asegurar que su modelo performará correctamente con datos desconocidos?\n"
      ]
    },
    {
      "cell_type": "markdown",
      "metadata": {
        "id": "y3_5A0x941pI",
        "colab_type": "text"
      },
      "source": [
        "### Ejercicio 1: Caching"
      ]
    },
    {
      "cell_type": "code",
      "metadata": {
        "id": "udn0Ru3R41pI",
        "colab_type": "code",
        "colab": {}
      },
      "source": [
        "from pathlib import Path\n",
        "\n",
        "def extract_housing_prices_data_with_cache(cache_fn='hp_data.csv', refresh_cache=False):\n",
        "    ## TODO: implementar\n",
        "    return df"
      ],
      "execution_count": 0,
      "outputs": []
    },
    {
      "cell_type": "code",
      "metadata": {
        "id": "ZbSJBzY341pL",
        "colab_type": "code",
        "colab": {}
      },
      "source": [
        "df_cache = extract_housing_prices_data_with_cache(refresh_cache=False)"
      ],
      "execution_count": 0,
      "outputs": []
    },
    {
      "cell_type": "markdown",
      "metadata": {
        "id": "jXNPDx5941pO",
        "colab_type": "text"
      },
      "source": [
        "### Ejercicio 2: Sistema metrico"
      ]
    },
    {
      "cell_type": "code",
      "metadata": {
        "id": "Y1657M2I41pO",
        "colab_type": "code",
        "colab": {}
      },
      "source": [
        "##TODO: implementar"
      ],
      "execution_count": 0,
      "outputs": []
    },
    {
      "cell_type": "code",
      "metadata": {
        "id": "DhWDM5e341pT",
        "colab_type": "code",
        "colab": {}
      },
      "source": [
        "predict(lr_model, [[m2_to_sqft(464)]], exp=True)"
      ],
      "execution_count": 0,
      "outputs": []
    },
    {
      "cell_type": "markdown",
      "metadata": {
        "id": "oHX19BlN41pW",
        "colab_type": "text"
      },
      "source": [
        "### Ejercicio 3: Regresión multivariada y feature engineering"
      ]
    },
    {
      "cell_type": "code",
      "metadata": {
        "id": "QIQWRB2k41pX",
        "colab_type": "code",
        "colab": {}
      },
      "source": [
        "lr_model_full = fit(X, y)"
      ],
      "execution_count": 0,
      "outputs": []
    },
    {
      "cell_type": "code",
      "metadata": {
        "id": "LGD_SelO41pa",
        "colab_type": "code",
        "colab": {}
      },
      "source": [
        "x = 'sqft_living'\n",
        "size = 1.5\n",
        "ax = scatter_wrapper(df, y='log_price')\n",
        "ax.scatter(X[x], predict(lr_model_full, X), c='r', s=size)\n",
        "ax.scatter(X[x], predict(lr_model, X[[x]]), c='y', s=size)\n",
        "ax.legend(['data', 'full', 'sqft'])"
      ],
      "execution_count": 0,
      "outputs": []
    },
    {
      "cell_type": "code",
      "metadata": {
        "id": "A4ujDGTt41pe",
        "colab_type": "code",
        "colab": {}
      },
      "source": [
        "X_fe = X.copy()\n",
        "X_fe['pct_sqft_above'] = X_fe['sqft_above'] / X['sqft_living']"
      ],
      "execution_count": 0,
      "outputs": []
    },
    {
      "cell_type": "code",
      "metadata": {
        "id": "yCt4PnBP41pi",
        "colab_type": "code",
        "colab": {}
      },
      "source": [
        "X_fe.columns"
      ],
      "execution_count": 0,
      "outputs": []
    },
    {
      "cell_type": "code",
      "metadata": {
        "id": "1DuwvIj_41pm",
        "colab_type": "code",
        "colab": {}
      },
      "source": [
        "lr_model_full_above = fit(X_fe, y)"
      ],
      "execution_count": 0,
      "outputs": []
    },
    {
      "cell_type": "code",
      "metadata": {
        "id": "4MyHOKpc41pq",
        "colab_type": "code",
        "colab": {}
      },
      "source": [
        "y_hat_full_above = predict(lr_model_full_above, X_fe)\n",
        "mse_full_above = score(y, y_hat_full_above)"
      ],
      "execution_count": 0,
      "outputs": []
    },
    {
      "cell_type": "code",
      "metadata": {
        "id": "iBrH0yT341pt",
        "colab_type": "code",
        "colab": {}
      },
      "source": [
        "y_hat_full = predict(lr_model_full, X)\n",
        "mse_full = score(y, y_hat_full)"
      ],
      "execution_count": 0,
      "outputs": []
    },
    {
      "cell_type": "markdown",
      "metadata": {
        "id": "z3y9EEE841pv",
        "colab_type": "text"
      },
      "source": [
        "## Seleccion de Modelos"
      ]
    },
    {
      "cell_type": "markdown",
      "metadata": {
        "id": "YmntuH1O41pw",
        "colab_type": "text"
      },
      "source": [
        "### Selección de modelos: Conjunto de Validación\n",
        "\n",
        "Hasta ahora hemos visto un único modelo y calculado una métrica de performance sobre el conjunto de entrenamiento\n",
        "Pero... **queremos predecir bien sobre datos desconocidos!**\n",
        "\n",
        "\n",
        "¿Cómo hacerlo? Simulamos la división entre datos conocidos y desconocidos.\n",
        "\n",
        "*Enfoque de validation/holdout set:* entrenamos el modelo con datos conocidos y validamos las predicciones con el *conjunto de validación* (desconocido)\n",
        "\n",
        "El conjunto de validación es una submuestra al azar de observaciones del conjunto de entrenamiento (usualmente 20%)\n",
        "\n",
        "Posible problemas: \n",
        "\n",
        "1. La predicción de performance tiene alta variabilidad ya que depende de la participación de observaciones en entrenamiento/validación. \n",
        "2. Al achicar el conjunto de entrenamiento podemos estar sobrestimando el error de test.\n",
        "\n",
        "![](https://raw.githubusercontent.com/petobens/introduccion-ml-aplicado/master/figures/ml-claro-1/holdout.png)\n",
        "\n",
        "**¿Definido el modelo final: qué observaciones usamos para entrenarlo?**\n"
      ]
    },
    {
      "cell_type": "markdown",
      "metadata": {
        "id": "38t6UBJg41qn",
        "colab_type": "text"
      },
      "source": [
        "## Ejercicios"
      ]
    },
    {
      "cell_type": "code",
      "metadata": {
        "id": "fJHIJRCs41pw",
        "colab_type": "code",
        "colab": {}
      },
      "source": [
        "from sklearn.tree import DecisionTreeRegressor\n",
        "from sklearn.ensemble import RandomForestRegressor"
      ],
      "execution_count": 0,
      "outputs": []
    },
    {
      "cell_type": "code",
      "metadata": {
        "id": "pOEI5ed741pz",
        "colab_type": "code",
        "colab": {}
      },
      "source": [
        "def fit(X, y, x_cols=None, model='lr', max_depth=None):\n",
        "    if model == 'lr':\n",
        "        clf = linear_model.LinearRegression()\n",
        "    elif model == 'dt':\n",
        "        clf = DecisionTreeRegressor(max_depth=max_depth)\n",
        "    elif model == 'rf':\n",
        "        clf = RandomForestRegressor()\n",
        "    else:\n",
        "        raise ValueError(\"Unknown model!\")\n",
        "\n",
        "    X = X if x_cols is None else X[x_cols]\n",
        "    clf.fit(X, y)\n",
        "    return clf"
      ],
      "execution_count": 0,
      "outputs": []
    },
    {
      "cell_type": "code",
      "metadata": {
        "id": "DsEztPJg41p2",
        "colab_type": "code",
        "colab": {}
      },
      "source": [
        "dt_model = fit(X, y, model='dt')"
      ],
      "execution_count": 0,
      "outputs": []
    },
    {
      "cell_type": "code",
      "metadata": {
        "id": "O7VzG0R241p4",
        "colab_type": "code",
        "colab": {}
      },
      "source": [
        "dt_model"
      ],
      "execution_count": 0,
      "outputs": []
    },
    {
      "cell_type": "code",
      "metadata": {
        "id": "OU3qnIPN41p9",
        "colab_type": "code",
        "colab": {}
      },
      "source": [
        "# Train test split\n",
        "test_n = 50\n",
        "X_train = X.iloc[:test_n, :]\n",
        "y_train = y.iloc[:test_n]\n",
        "X_test = X.iloc[test_n:, :]\n",
        "y_test = y.iloc[test_n:]"
      ],
      "execution_count": 0,
      "outputs": []
    },
    {
      "cell_type": "code",
      "metadata": {
        "id": "0Zyox7SI41qA",
        "colab_type": "code",
        "colab": {}
      },
      "source": [
        "X.shape, X_train.shape, X_test.shape"
      ],
      "execution_count": 0,
      "outputs": []
    },
    {
      "cell_type": "code",
      "metadata": {
        "id": "RTgsjTpv41qI",
        "colab_type": "code",
        "colab": {}
      },
      "source": [
        "def fit_pipeline(X_train, y_train, X_test, y_test, model, max_depth=None):\n",
        "    m = fit(X_train, y_train, model=model, max_depth=max_depth)\n",
        "    mses = {}\n",
        "    for phase in ['train', 'test']:\n",
        "        X = X_train if phase == 'train' else X_test\n",
        "        y = y_train if phase == 'train' else y_test\n",
        "        y_hat = predict(m, X)\n",
        "        print(f\"{phase} phase:\")\n",
        "        mses[phase] = score(y, y_hat)\n",
        "    return mses"
      ],
      "execution_count": 0,
      "outputs": []
    },
    {
      "cell_type": "code",
      "metadata": {
        "id": "WZH1awPI41qL",
        "colab_type": "code",
        "colab": {}
      },
      "source": [
        "fit_pipeline(X_train, y_train, X_test, y_test, 'lr')"
      ],
      "execution_count": 0,
      "outputs": []
    },
    {
      "cell_type": "code",
      "metadata": {
        "id": "3KhruyeH41qQ",
        "colab_type": "code",
        "colab": {}
      },
      "source": [
        "fit_pipeline(X_train, y_train, X_test, y_test, 'dt')"
      ],
      "execution_count": 0,
      "outputs": []
    },
    {
      "cell_type": "code",
      "metadata": {
        "id": "ITFaJ31b41qS",
        "colab_type": "code",
        "colab": {}
      },
      "source": [
        "# Hagamos tuning del hiperparámetro de profundidad de los árboles"
      ],
      "execution_count": 0,
      "outputs": []
    },
    {
      "cell_type": "code",
      "metadata": {
        "id": "qCh7YcAT41qU",
        "colab_type": "code",
        "colab": {}
      },
      "source": [
        "depths = range(1, 15)"
      ],
      "execution_count": 0,
      "outputs": []
    },
    {
      "cell_type": "code",
      "metadata": {
        "id": "9XsgpYdB41qY",
        "colab_type": "code",
        "colab": {}
      },
      "source": [
        "max_depths = range(1, 15)\n",
        "df_mse = pd.DataFrame()\n",
        "for max_depth in max_depths:\n",
        "    mse = fit_pipeline(X_train, y_train, X_test, y_test, 'dt', max_depth=max_depth)\n",
        "    mse['max_depth'] = max_depth\n",
        "    df_mse = df_mse.append(mse, ignore_index=True)"
      ],
      "execution_count": 0,
      "outputs": []
    },
    {
      "cell_type": "code",
      "metadata": {
        "id": "ZC9ITfum41qb",
        "colab_type": "code",
        "colab": {}
      },
      "source": [
        "fig, ax = plt.subplots(figsize=(10,6))\n",
        "df_mse.plot(x='max_depth', y='test', c='r', ax=ax)\n",
        "df_mse.plot(x='max_depth', y='train', c='b', ax=ax)\n",
        "ax.set_xlabel('max_depth')\n",
        "ax.set_ylabel('ECM')"
      ],
      "execution_count": 0,
      "outputs": []
    },
    {
      "cell_type": "markdown",
      "metadata": {
        "id": "cofKPdj2b4ph",
        "colab_type": "text"
      },
      "source": [
        "### Validación Cruzada\n",
        "\n",
        "![]()![image.png](https://raw.githubusercontent.com/petobens/introduccion-ml-aplicado/master/figures/ml-claro-1/cv_k_fold.png)\n",
        "\n",
        "¿Cómo podemos resolver los problemas de la estrategia de holdout?\n",
        "\n",
        "Una opción es hacer **k-fold cross validation:**\n",
        "\n",
        "1. Particionar el dataset en $k$ subconjuntos (folds) de tamaño parecido.\n",
        "2. Usar el enésimo fold como conjunto de validación y el resto como conjunto de entrenamiento computando el ECM en cada caso.\n",
        "3. Aproximar el error de *test* promediando sobre los ECM: $CV_{(k)} = \\frac{1}{k}\\sum_{i=1}^{k}EMC_{i}$\n",
        "\n",
        "Algunas observaciones relevantes:\n",
        "\n",
        "1. Si hacemos $k = N$ entonces el método se llama *Leave-One-Out Cross-Validation* (LOOCV) (pero esto es costoso computancionalmente)\n",
        "2. En general se usan valores de $k=5$ o $k = 10$. ¿Por qué?\n",
        "3. Todos estos métodos asumen que las observaciones son i.i.d...\n",
        "\n",
        "\n",
        "### Overfitting, modelos e hiperparametros\n",
        "\n",
        "Con las estrategias de holdout tenemos una forma de aproximar el error de testeo y detectar casos de overfitting: ¿cómo reducimos este problema?\n",
        "\n",
        "Podemos probar distintos modelos (*no free-lunch theorem*)\n",
        "\n",
        "Podemos optimizar aquellos parámetros de un mismo modelo que no se derivan del proceso de aprendizaje: los *hiperparámetros*\n",
        "\n",
        "\n",
        "\n",
        "\n",
        "\n",
        "\n",
        "\n"
      ]
    },
    {
      "cell_type": "code",
      "metadata": {
        "id": "n7WVt0nZ41qf",
        "colab_type": "code",
        "colab": {}
      },
      "source": [
        "from sklearn.model_selection import KFold\n",
        "\n",
        "kf = KFold(n_splits=5, random_state=0)\n",
        "df_mse_cv = pd.DataFrame()\n",
        "for max_depth in max_depths:\n",
        "    df_row = {'max_depth': max_depth}\n",
        "    max_depth_mses = []\n",
        "    for train_index, test_index in kf.split(X, y):\n",
        "        m = DecisionTreeRegressor(max_depth=max_depth)\n",
        "        X_train, X_test = X.iloc[train_index], X.iloc[test_index]\n",
        "        y_train, y_test = y[train_index], y[test_index]\n",
        "        clf = m.fit(X_train, y_train)\n",
        "        y_hat = clf.predict(X_test)\n",
        "        mse = score(y_test, y_hat)\n",
        "        max_depth_mses.append(mse)\n",
        "    df_row['max_depth_mse_cv'] = np.mean(max_depth_mses)\n",
        "    df_mse_cv = df_mse_cv.append(df_row, ignore_index=True)"
      ],
      "execution_count": 0,
      "outputs": []
    },
    {
      "cell_type": "code",
      "metadata": {
        "id": "kFnnUXGu41qh",
        "colab_type": "code",
        "colab": {}
      },
      "source": [
        "df_mse_cv"
      ],
      "execution_count": 0,
      "outputs": []
    },
    {
      "cell_type": "code",
      "metadata": {
        "id": "vZeQFtIE41ql",
        "colab_type": "code",
        "colab": {}
      },
      "source": [
        "df_mse_cv[df_mse_cv['max_depth_mse_cv'] == df_mse_cv['max_depth_mse_cv'].min()]"
      ],
      "execution_count": 0,
      "outputs": []
    },
    {
      "cell_type": "markdown",
      "metadata": {
        "id": "hwjoFZwN41qn",
        "colab_type": "text"
      },
      "source": [
        "### Aca va el slide 17 (cambiando donde dice Lasso por decision tree y alpha por max_depth)... creo que los 2 primeros podrian hacerlos\n",
        "\n",
        "\n",
        "### Ejercicios Selección de Modelos\n",
        "\n",
        "1. **Overfitting y validation set**\n",
        "  1. Escriba una función que separe el conjunto de datos en entrenamiento y validación a partir de un parámetro que determina el tamaño del segundo conjunto.\n",
        "  2. Utilice ahora la función `model_selection.train_test_split` para realizar la separación del inciso anterior.\n",
        "  3. Empleando alguna de las dos funciones de los incisos anteriores investigue la existencia de overfitting para distintos tamaños del conjunto de validación.\n",
        "2. **Más feature engineering: binning y dummies**\n",
        "  1. Cree una nueva variable `age` que refleje la antigüedad de las casas al ser vendidas.\n",
        "  2. Genere nuevos features a partir de esta columna usando una estrategia de `binning` (y `dummies`).\n",
        "  3. Fittee un nuevo modelo Lasso con estos features ampliados y compute el ECM. Comparelo con el modelo completo sin feature engineering.\n",
        "    1. ¿Estas transformaciones las debe hacer también en el conjunto de validacion?\n",
        "3. **Validación cruzada e hiperparametros**\n",
        "  1. Utilizando ahora la función `cross_val_score` del módulo `sklearn.model_section` repita el ejercicio de validación cruzada y obtenga los ECM para cada valor del hiperparámetros $alpha$ (en logaritmos).\n",
        "  2. Grafique los errores cuadráticos medios resultantes.\n",
        "  3. A partir del modelo `LassoCV` obtenga nuevamente el hiperparámetro óptimo.\n",
        "\n",
        "\n"
      ]
    },
    {
      "cell_type": "markdown",
      "metadata": {
        "id": "76fRr29N41qn",
        "colab_type": "text"
      },
      "source": [
        "### Ejercicio 1: Overfitting  y validation set"
      ]
    },
    {
      "cell_type": "code",
      "metadata": {
        "id": "ipgWcKvH41qo",
        "colab_type": "code",
        "colab": {}
      },
      "source": [
        "np.random.rand(10)"
      ],
      "execution_count": 0,
      "outputs": []
    },
    {
      "cell_type": "code",
      "metadata": {
        "id": "0yjQPaDH41qq",
        "colab_type": "code",
        "colab": {}
      },
      "source": [
        "msk = np.random.rand(len(X)) <= 0.2"
      ],
      "execution_count": 0,
      "outputs": []
    },
    {
      "cell_type": "code",
      "metadata": {
        "id": "fmTJooD441qs",
        "colab_type": "code",
        "colab": {}
      },
      "source": [
        "msk"
      ],
      "execution_count": 0,
      "outputs": []
    },
    {
      "cell_type": "code",
      "metadata": {
        "id": "s6kkF1y341qu",
        "colab_type": "code",
        "colab": {}
      },
      "source": [
        "msk.sum()"
      ],
      "execution_count": 0,
      "outputs": []
    },
    {
      "cell_type": "code",
      "metadata": {
        "id": "jmfVpsYO41qw",
        "colab_type": "code",
        "colab": {}
      },
      "source": [
        "X[~msk]"
      ],
      "execution_count": 0,
      "outputs": []
    },
    {
      "cell_type": "code",
      "metadata": {
        "id": "Wxr1Qdhb41qy",
        "colab_type": "code",
        "colab": {}
      },
      "source": [
        "def train_test_split(X, y, test_size=0.2):\n",
        "    bool_mask = np.random.rand(len(X)) <= (1 - test_size)\n",
        "    X_train, X_test = X[bool_mask], X[~bool_mask]\n",
        "    y_train, y_test = y[bool_mask], y[~bool_mask]\n",
        "    return X_train, X_test, y_train, y_test"
      ],
      "execution_count": 0,
      "outputs": []
    },
    {
      "cell_type": "code",
      "metadata": {
        "id": "06Ff28x941q3",
        "colab_type": "code",
        "colab": {}
      },
      "source": [
        "X_train, X_test, y_train, y_test = train_test_split(X, y, test_size=0.1)"
      ],
      "execution_count": 0,
      "outputs": []
    },
    {
      "cell_type": "code",
      "metadata": {
        "id": "6sTiGyWy41q5",
        "colab_type": "code",
        "colab": {}
      },
      "source": [
        "X_train.shape, X_test.shape, y_train.shape, y_test.shape"
      ],
      "execution_count": 0,
      "outputs": []
    },
    {
      "cell_type": "code",
      "metadata": {
        "id": "mHSJzZJK41q8",
        "colab_type": "code",
        "colab": {}
      },
      "source": [
        "from sklearn import model_selection"
      ],
      "execution_count": 0,
      "outputs": []
    },
    {
      "cell_type": "code",
      "metadata": {
        "id": "VHUfvsOa41q_",
        "colab_type": "code",
        "colab": {}
      },
      "source": [
        "X_train, X_test, y_train, y_test = model_selection.train_test_split(X, y, test_size=0.1)"
      ],
      "execution_count": 0,
      "outputs": []
    },
    {
      "cell_type": "code",
      "metadata": {
        "id": "r_AYapVI41rC",
        "colab_type": "code",
        "colab": {}
      },
      "source": [
        "X_train.shape, X_test.shape, y_train.shape, y_test.shape"
      ],
      "execution_count": 0,
      "outputs": []
    },
    {
      "cell_type": "code",
      "metadata": {
        "id": "-sUFr8AB41rF",
        "colab_type": "code",
        "colab": {}
      },
      "source": [
        "for i in np.arange(0.1, 0.6, 0.1):\n",
        "    print(f\"Test size {i}\")\n",
        "    X_train, X_test, y_train, y_test = model_selection.train_test_split(X, y, test_size=i)\n",
        "    print(f\"Model lineal\")\n",
        "    fit_pipeline(X_train, y_train, X_test, y_test, 'lr')\n",
        "    print(f\"Model Decision Tree\")\n",
        "    fit_pipeline(X_train, y_train, X_test, y_test, 'dt')\n"
      ],
      "execution_count": 0,
      "outputs": []
    },
    {
      "cell_type": "markdown",
      "metadata": {
        "id": "RYGHdMGw41rH",
        "colab_type": "text"
      },
      "source": [
        "### Ejercicio 2: binning y dummies"
      ]
    },
    {
      "cell_type": "code",
      "metadata": {
        "id": "Y2JDowSt41rI",
        "colab_type": "code",
        "colab": {}
      },
      "source": [
        "X_bd = X.copy()"
      ],
      "execution_count": 0,
      "outputs": []
    },
    {
      "cell_type": "code",
      "metadata": {
        "id": "vc326OnL41rL",
        "colab_type": "code",
        "colab": {}
      },
      "source": [
        "X_bd"
      ],
      "execution_count": 0,
      "outputs": []
    },
    {
      "cell_type": "code",
      "metadata": {
        "id": "pUzGZSMt41rO",
        "colab_type": "code",
        "colab": {}
      },
      "source": [
        "# TODO: implementar X_bd['age'] = \n",
        "X_bd"
      ],
      "execution_count": 0,
      "outputs": []
    },
    {
      "cell_type": "code",
      "metadata": {
        "id": "W5VZxiSj41rR",
        "colab_type": "code",
        "colab": {}
      },
      "source": [
        "X_bd['age'].value_counts()"
      ],
      "execution_count": 0,
      "outputs": []
    },
    {
      "cell_type": "code",
      "metadata": {
        "id": "5KU1Gcxd41rT",
        "colab_type": "code",
        "colab": {}
      },
      "source": [
        "bins = [-2, 0, 5, 10, 25, 50, 75, 100, 100000]\n",
        "labels = ['<1', '1-5', '6-10', '11-25', '26-50', '51-75', '76-100', '>100']\n",
        "#TODO: implementar X_bd['age_binned'] = \n",
        "X_bd[['age', 'age_binned']]"
      ],
      "execution_count": 0,
      "outputs": []
    },
    {
      "cell_type": "code",
      "metadata": {
        "id": "2zgBldlt41rW",
        "colab_type": "code",
        "colab": {}
      },
      "source": [
        "# TODO implementar dummies X_bd = \n",
        "X_bd"
      ],
      "execution_count": 0,
      "outputs": []
    },
    {
      "cell_type": "code",
      "metadata": {
        "id": "CYC9Qz6v41ra",
        "colab_type": "code",
        "colab": {}
      },
      "source": [
        "X_train, X_test, y_train, y_test = model_selection.train_test_split(X_bd, y, test_size=0.2)"
      ],
      "execution_count": 0,
      "outputs": []
    },
    {
      "cell_type": "code",
      "metadata": {
        "id": "-vdUXlAr41rc",
        "colab_type": "code",
        "colab": {}
      },
      "source": [
        "fit_pipeline(X_train, y_train, X_test, y_test, 'dt')"
      ],
      "execution_count": 0,
      "outputs": []
    },
    {
      "cell_type": "code",
      "metadata": {
        "id": "xi1rrX_M41re",
        "colab_type": "code",
        "colab": {}
      },
      "source": [
        "X_train, X_test, y_train, y_test = model_selection.train_test_split(X, y, test_size=0.2)"
      ],
      "execution_count": 0,
      "outputs": []
    },
    {
      "cell_type": "code",
      "metadata": {
        "id": "HhTla3kO41rg",
        "colab_type": "code",
        "colab": {}
      },
      "source": [
        "fit_pipeline(X_train, y_train, X_test, y_test, 'dt')"
      ],
      "execution_count": 0,
      "outputs": []
    },
    {
      "cell_type": "markdown",
      "metadata": {
        "id": "-w4XtelV41ri",
        "colab_type": "text"
      },
      "source": [
        "### Ejercicio 3: Validacion cruzada e hiperparametros"
      ]
    },
    {
      "cell_type": "code",
      "metadata": {
        "id": "DcpkoymU41ri",
        "colab_type": "code",
        "colab": {}
      },
      "source": [
        "from sklearn.model_selection import cross_val_score"
      ],
      "execution_count": 0,
      "outputs": []
    },
    {
      "cell_type": "code",
      "metadata": {
        "id": "4rFElmtI41rk",
        "colab_type": "code",
        "colab": {}
      },
      "source": [
        "df_mse_sk = pd.DataFrame()\n",
        "for max_depth in max_depths:\n",
        "    df_mse_sk_row = {'max_depth': max_depth}\n",
        "    cv_score = -cross_val_score(DecisionTreeRegressor(max_depth=max_depth, random_state=0), X, y, cv=5, \n",
        "                               scoring='neg_mean_squared_error')\n",
        "    df_mse_sk_row['cv'] = np.mean(cv_score)\n",
        "    df_mse_sk = df_mse_sk.append(df_mse_sk_row, ignore_index=True)"
      ],
      "execution_count": 0,
      "outputs": []
    },
    {
      "cell_type": "code",
      "metadata": {
        "id": "K0jgbjrG41rl",
        "colab_type": "code",
        "colab": {}
      },
      "source": [
        "df_mse_sk"
      ],
      "execution_count": 0,
      "outputs": []
    },
    {
      "cell_type": "code",
      "metadata": {
        "id": "YF-YBFB-41rn",
        "colab_type": "code",
        "colab": {}
      },
      "source": [
        "df_mse_sk[df_mse_sk['cv'] == df_mse_sk['cv'].min()]"
      ],
      "execution_count": 0,
      "outputs": []
    },
    {
      "cell_type": "markdown",
      "metadata": {
        "id": "EcurenDu41rq",
        "colab_type": "text"
      },
      "source": [
        "## Modelos de Ensamble y Random Forest"
      ]
    },
    {
      "cell_type": "markdown",
      "metadata": {
        "id": "yJfuAFbY41rq",
        "colab_type": "text"
      },
      "source": [
        "### Sobre train, validation, test split\n",
        "\n",
        "¿Podemos overfittear el conjunto de validación?\n",
        "\n",
        "Si realizamos muchas pruebas posiblemente si\n",
        "\n",
        "Por eso en la práctica trabajamos con 3 conjuntos: entrenamiento, validación y testeo.\n",
        "\n",
        "![](https://raw.githubusercontent.com/petobens/introduccion-ml-aplicado/master/figures/ml-claro-1/tvt.png)\n",
        "\n",
        "En general se reserva 20% para testing y el remanente se divide en 80% entrenamiento y 20% validación.\n",
        "\n",
        "Con muchos datos los porcentajes son menores. Es una cuestión de representatividad y no de números.\n",
        "\n",
        "![](https://raw.githubusercontent.com/petobens/introduccion-ml-aplicado/master/figures/ml-claro-1/sample_size.png)\n",
        "\n",
        "\n",
        "### Tradeoff de Sesgo-Varianza\n",
        "\n",
        "¿Cuál es el valor esperado de ECM en una observación de testeo?\n",
        "\n",
        "Es decir cuál es el ECM promedio si uno estima sucesivas veces $f$ usando muchos conjuntos de entrenamiento y evaluando en cada $x_{0}$ del conjunto de test:\n",
        "\n",
        "$$E(y_{0} - \\hat{f}(x_{0}))^{2} = Var(\\hat{f}(x_{0})) +\n",
        "        \\left[Sesgo(\\hat{f}(x_{0}))\\right]^{2} + Var(\\varepsilon)$$\n",
        "\n",
        "Donde:\n",
        "\n",
        "La varianza remite a cuánto cambiaría $\\hat{f}$ si estimaramos con otro conjunto de entrenamiento (idealmente queremos que sea poco).\n",
        "\n",
        "El sesgo alude a si $\\hat{f}$ está errando consistentemente en las predicciones ($Sesgo(\\hat{f}(x_{0})) = E[\\hat{f}(x_{0})] - y_{0}$).\n",
        "\n",
        "El ideal: tener un sesgo bajo y una varianza baja. ¿Es esto posible?\n",
        "\n",
        "![](https://prateekvjoshi.files.wordpress.com/2015/10/3-bulls-eye.png)\n",
        "\n",
        "![](https://miro.medium.com/max/492/1*blqnaVEu6Hbc-5ZYeDnU9Q.png)\n",
        "\n",
        "¿Por qué hay un tradeoff?\n",
        "\n",
        "- Es fácil obtener un método con bajo sesgo y alta varianza (dibujando una curva que pase por todos los puntos)\n",
        "- Es fácil obtener un método con bajo o nula varianza y alto sesgo (fitteando una constante)\n",
        "\n",
        "En general vale lo siguiente:\n",
        "\n",
        "- Métodos más complejos tienen alta varianza y bajo sesgo.\n",
        "- El fenómeno de *overfitting* se asocia a escenarios justamente de alta varianza y bajo sesgo.\n",
        "\n",
        "\n",
        "\n",
        "\n",
        "\n",
        "\n",
        "\n",
        "\n"
      ]
    },
    {
      "cell_type": "markdown",
      "metadata": {
        "id": "MzFlrag7lDqp",
        "colab_type": "text"
      },
      "source": [
        "### Bagging y Árboles aleatorios\n",
        "\n",
        "**Bagging**\n",
        "\n",
        "En general vale que agregar observaciones reduce la varianza.\n",
        "\n",
        "Podemos crear $B$ conjuntos de entrenamiento muestreando de forma aleatoria (y con reposición) del conjunto entrenamiento original (*bootstraping*).\n",
        "\n",
        "Si luego entrenamos sobre cada conjunto y promediamos reducimos la varianza (y tenemos bajo sesgo)\n",
        "$$\\hat{f}_{bag}(x) = \\frac{1}{B}\\sum_{b=1}^{B}\\hat{f}^{*b}(x)$$\n",
        "\n",
        "La predicción final es la clase más votada por los $B$ árboles (regla mayoritaria).\n",
        "\n",
        "**Random Forests**\n",
        "\n",
        "Ideado por Breiman con el objeto de mejorar aun más la performance predictiva.\n",
        "\n",
        "Al igual que en bagging se crean $B$ conjuntos de entrenamiento muestreando de forma aleatoria (y con reposición) del conjunto entrenamiento original.\n",
        "\n",
        "Para cada conjunto se hacer particionamiento recursivo pero al elegir los cortes se emplea un subconjunto aleatorio de la totalidad de atributos (*descorrelacionar*)"
      ]
    },
    {
      "cell_type": "code",
      "metadata": {
        "id": "IpS8JAiN41rq",
        "colab_type": "code",
        "colab": {}
      },
      "source": [
        "X_train, X_test, y_train, y_test = model_selection.train_test_split(X, y, test_size=0.2)"
      ],
      "execution_count": 0,
      "outputs": []
    },
    {
      "cell_type": "code",
      "metadata": {
        "id": "VY7NmYhC41rs",
        "colab_type": "code",
        "colab": {}
      },
      "source": [
        "fit_pipeline(X_train, y_train, X_test, y_test, 'rf')"
      ],
      "execution_count": 0,
      "outputs": []
    },
    {
      "cell_type": "markdown",
      "metadata": {
        "id": "2fJFMZm841ru",
        "colab_type": "text"
      },
      "source": [
        "\n",
        "# Ejercicio\n",
        "\n",
        "Utilizando lo aprendido en este notebook y el anterior. \n",
        "Desarolle un pipeline para predecir el precio de casas del *Ames Housing dataset*.\n",
        "\n",
        "El link a la competencia es el siguiente: \n",
        "https://www.kaggle.com/c/home-data-for-ml-course/data\n",
        "\n",
        "Para obetener el dataset de train desde el notebook puede utilizar los siguientes comandos para dejar el archivo `train.csv` en el directorio actual.\n",
        "\n",
        "```\n",
        "!kaggle datasets download -d dansbecker/home-data-for-ml-course\n",
        "!unzip home-data-for-ml-course.zip\n",
        "```\n",
        "\n",
        "Comience por explorar los datos y fitear un modelo simple y calcular la métrica de error definida para la competencia para tener un baseline.\n",
        "\n",
        "Luego, vaya realizando feature engineering progresivamente y verificando como varía su métrica de performance. \n",
        "\n",
        "Eventualmente, cuando esté satisfecho con la performance, bajer el archivo `test.csv` de la web de la competencia y verifique la capacidad de generalización de su modelo.\n",
        "\n",
        "Como paso final, puede submitear su respuesta a la competencia siguiendo el formato descripto en la misma https://www.kaggle.com/c/home-data-for-ml-course/overview/evaluation\n",
        "\n",
        "Para esto hay que generar un archivo CSV con el formato designado y subirlo manualmente a https://www.kaggle.com/c/home-data-for-ml-course/submit\n",
        "\n",
        "O también puede probar utilizando la commandline app de kaggle de la siguiente manera:\n",
        "\n",
        "\n",
        "```\n",
        "!kaggle competitions submit home-data-for-ml-course -f my_submission.csv -m \"First Submission @pferrari\"\n",
        "```\n",
        "\n",
        "\n",
        "Referencia útil:\n",
        "\n",
        "https://stackoverflow.com/questions/49394737/exporting-data-from-google-colab-to-local-machine/49397357"
      ]
    },
    {
      "cell_type": "code",
      "metadata": {
        "id": "Q_SmviUNlolZ",
        "colab_type": "code",
        "colab": {}
      },
      "source": [
        ""
      ],
      "execution_count": 0,
      "outputs": []
    }
  ]
}